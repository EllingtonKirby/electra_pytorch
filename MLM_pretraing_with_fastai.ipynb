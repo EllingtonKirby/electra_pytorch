{
  "nbformat": 4,
  "nbformat_minor": 0,
  "metadata": {
    "colab": {
      "name": "MLM pretraing with fastai.ipynb",
      "provenance": [],
      "collapsed_sections": []
    },
    "kernelspec": {
      "name": "python3",
      "display_name": "Python 3"
    },
    "accelerator": "GPU",
    "widgets": {
      "application/vnd.jupyter.widget-state+json": {
        "f38cce2ee7884d0eaa0c440828ce4681": {
          "model_module": "@jupyter-widgets/controls",
          "model_name": "HBoxModel",
          "state": {
            "_view_name": "HBoxView",
            "_dom_classes": [],
            "_model_name": "HBoxModel",
            "_view_module": "@jupyter-widgets/controls",
            "_model_module_version": "1.5.0",
            "_view_count": null,
            "_view_module_version": "1.5.0",
            "box_style": "",
            "layout": "IPY_MODEL_5d2986561bc14fb499a9871c6e9e8be3",
            "_model_module": "@jupyter-widgets/controls",
            "children": [
              "IPY_MODEL_ef5ed2ef7c3c4ec98f66f69c92e17158",
              "IPY_MODEL_3002ccd1562b4df3b356760e3b87b541"
            ]
          }
        },
        "5d2986561bc14fb499a9871c6e9e8be3": {
          "model_module": "@jupyter-widgets/base",
          "model_name": "LayoutModel",
          "state": {
            "_view_name": "LayoutView",
            "grid_template_rows": null,
            "right": null,
            "justify_content": null,
            "_view_module": "@jupyter-widgets/base",
            "overflow": null,
            "_model_module_version": "1.2.0",
            "_view_count": null,
            "flex_flow": null,
            "width": null,
            "min_width": null,
            "border": null,
            "align_items": null,
            "bottom": null,
            "_model_module": "@jupyter-widgets/base",
            "top": null,
            "grid_column": null,
            "overflow_y": null,
            "overflow_x": null,
            "grid_auto_flow": null,
            "grid_area": null,
            "grid_template_columns": null,
            "flex": null,
            "_model_name": "LayoutModel",
            "justify_items": null,
            "grid_row": null,
            "max_height": null,
            "align_content": null,
            "visibility": null,
            "align_self": null,
            "height": null,
            "min_height": null,
            "padding": null,
            "grid_auto_rows": null,
            "grid_gap": null,
            "max_width": null,
            "order": null,
            "_view_module_version": "1.2.0",
            "grid_template_areas": null,
            "object_position": null,
            "object_fit": null,
            "grid_auto_columns": null,
            "margin": null,
            "display": null,
            "left": null
          }
        },
        "ef5ed2ef7c3c4ec98f66f69c92e17158": {
          "model_module": "@jupyter-widgets/controls",
          "model_name": "IntProgressModel",
          "state": {
            "_view_name": "ProgressView",
            "style": "IPY_MODEL_492b2eb17ec940cba1876edb93aeedc0",
            "_dom_classes": [],
            "description": "Downloading: 100%",
            "_model_name": "IntProgressModel",
            "bar_style": "success",
            "max": 213450,
            "_view_module": "@jupyter-widgets/controls",
            "_model_module_version": "1.5.0",
            "value": 213450,
            "_view_count": null,
            "_view_module_version": "1.5.0",
            "orientation": "horizontal",
            "min": 0,
            "description_tooltip": null,
            "_model_module": "@jupyter-widgets/controls",
            "layout": "IPY_MODEL_483cc635af1a4073acecd60d8162ace6"
          }
        },
        "3002ccd1562b4df3b356760e3b87b541": {
          "model_module": "@jupyter-widgets/controls",
          "model_name": "HTMLModel",
          "state": {
            "_view_name": "HTMLView",
            "style": "IPY_MODEL_2efde9478c9f406d8516d7450bef4aca",
            "_dom_classes": [],
            "description": "",
            "_model_name": "HTMLModel",
            "placeholder": "​",
            "_view_module": "@jupyter-widgets/controls",
            "_model_module_version": "1.5.0",
            "value": " 213k/213k [00:00&lt;00:00, 352kB/s]",
            "_view_count": null,
            "_view_module_version": "1.5.0",
            "description_tooltip": null,
            "_model_module": "@jupyter-widgets/controls",
            "layout": "IPY_MODEL_c68ce30f391d4443880ccaf2a8c44c21"
          }
        },
        "492b2eb17ec940cba1876edb93aeedc0": {
          "model_module": "@jupyter-widgets/controls",
          "model_name": "ProgressStyleModel",
          "state": {
            "_view_name": "StyleView",
            "_model_name": "ProgressStyleModel",
            "description_width": "initial",
            "_view_module": "@jupyter-widgets/base",
            "_model_module_version": "1.5.0",
            "_view_count": null,
            "_view_module_version": "1.2.0",
            "bar_color": null,
            "_model_module": "@jupyter-widgets/controls"
          }
        },
        "483cc635af1a4073acecd60d8162ace6": {
          "model_module": "@jupyter-widgets/base",
          "model_name": "LayoutModel",
          "state": {
            "_view_name": "LayoutView",
            "grid_template_rows": null,
            "right": null,
            "justify_content": null,
            "_view_module": "@jupyter-widgets/base",
            "overflow": null,
            "_model_module_version": "1.2.0",
            "_view_count": null,
            "flex_flow": null,
            "width": null,
            "min_width": null,
            "border": null,
            "align_items": null,
            "bottom": null,
            "_model_module": "@jupyter-widgets/base",
            "top": null,
            "grid_column": null,
            "overflow_y": null,
            "overflow_x": null,
            "grid_auto_flow": null,
            "grid_area": null,
            "grid_template_columns": null,
            "flex": null,
            "_model_name": "LayoutModel",
            "justify_items": null,
            "grid_row": null,
            "max_height": null,
            "align_content": null,
            "visibility": null,
            "align_self": null,
            "height": null,
            "min_height": null,
            "padding": null,
            "grid_auto_rows": null,
            "grid_gap": null,
            "max_width": null,
            "order": null,
            "_view_module_version": "1.2.0",
            "grid_template_areas": null,
            "object_position": null,
            "object_fit": null,
            "grid_auto_columns": null,
            "margin": null,
            "display": null,
            "left": null
          }
        },
        "2efde9478c9f406d8516d7450bef4aca": {
          "model_module": "@jupyter-widgets/controls",
          "model_name": "DescriptionStyleModel",
          "state": {
            "_view_name": "StyleView",
            "_model_name": "DescriptionStyleModel",
            "description_width": "",
            "_view_module": "@jupyter-widgets/base",
            "_model_module_version": "1.5.0",
            "_view_count": null,
            "_view_module_version": "1.2.0",
            "_model_module": "@jupyter-widgets/controls"
          }
        },
        "c68ce30f391d4443880ccaf2a8c44c21": {
          "model_module": "@jupyter-widgets/base",
          "model_name": "LayoutModel",
          "state": {
            "_view_name": "LayoutView",
            "grid_template_rows": null,
            "right": null,
            "justify_content": null,
            "_view_module": "@jupyter-widgets/base",
            "overflow": null,
            "_model_module_version": "1.2.0",
            "_view_count": null,
            "flex_flow": null,
            "width": null,
            "min_width": null,
            "border": null,
            "align_items": null,
            "bottom": null,
            "_model_module": "@jupyter-widgets/base",
            "top": null,
            "grid_column": null,
            "overflow_y": null,
            "overflow_x": null,
            "grid_auto_flow": null,
            "grid_area": null,
            "grid_template_columns": null,
            "flex": null,
            "_model_name": "LayoutModel",
            "justify_items": null,
            "grid_row": null,
            "max_height": null,
            "align_content": null,
            "visibility": null,
            "align_self": null,
            "height": null,
            "min_height": null,
            "padding": null,
            "grid_auto_rows": null,
            "grid_gap": null,
            "max_width": null,
            "order": null,
            "_view_module_version": "1.2.0",
            "grid_template_areas": null,
            "object_position": null,
            "object_fit": null,
            "grid_auto_columns": null,
            "margin": null,
            "display": null,
            "left": null
          }
        },
        "0104f5a74732464d88d183ee20e2b7c8": {
          "model_module": "@jupyter-widgets/controls",
          "model_name": "HBoxModel",
          "state": {
            "_view_name": "HBoxView",
            "_dom_classes": [],
            "_model_name": "HBoxModel",
            "_view_module": "@jupyter-widgets/controls",
            "_model_module_version": "1.5.0",
            "_view_count": null,
            "_view_module_version": "1.5.0",
            "box_style": "",
            "layout": "IPY_MODEL_4e63f7847cc544629e9a8649d3af53a0",
            "_model_module": "@jupyter-widgets/controls",
            "children": [
              "IPY_MODEL_6bef503cbd1c44e7bc31ec0f6e60399f",
              "IPY_MODEL_cb9bfaff84744e51b23408025acd9e1b"
            ]
          }
        },
        "4e63f7847cc544629e9a8649d3af53a0": {
          "model_module": "@jupyter-widgets/base",
          "model_name": "LayoutModel",
          "state": {
            "_view_name": "LayoutView",
            "grid_template_rows": null,
            "right": null,
            "justify_content": null,
            "_view_module": "@jupyter-widgets/base",
            "overflow": null,
            "_model_module_version": "1.2.0",
            "_view_count": null,
            "flex_flow": null,
            "width": null,
            "min_width": null,
            "border": null,
            "align_items": null,
            "bottom": null,
            "_model_module": "@jupyter-widgets/base",
            "top": null,
            "grid_column": null,
            "overflow_y": null,
            "overflow_x": null,
            "grid_auto_flow": null,
            "grid_area": null,
            "grid_template_columns": null,
            "flex": null,
            "_model_name": "LayoutModel",
            "justify_items": null,
            "grid_row": null,
            "max_height": null,
            "align_content": null,
            "visibility": null,
            "align_self": null,
            "height": null,
            "min_height": null,
            "padding": null,
            "grid_auto_rows": null,
            "grid_gap": null,
            "max_width": null,
            "order": null,
            "_view_module_version": "1.2.0",
            "grid_template_areas": null,
            "object_position": null,
            "object_fit": null,
            "grid_auto_columns": null,
            "margin": null,
            "display": null,
            "left": null
          }
        },
        "6bef503cbd1c44e7bc31ec0f6e60399f": {
          "model_module": "@jupyter-widgets/controls",
          "model_name": "IntProgressModel",
          "state": {
            "_view_name": "ProgressView",
            "style": "IPY_MODEL_de8c649345e548c3ada6b5aea90319b6",
            "_dom_classes": [],
            "description": "Downloading: 100%",
            "_model_name": "IntProgressModel",
            "bar_style": "success",
            "max": 411,
            "_view_module": "@jupyter-widgets/controls",
            "_model_module_version": "1.5.0",
            "value": 411,
            "_view_count": null,
            "_view_module_version": "1.5.0",
            "orientation": "horizontal",
            "min": 0,
            "description_tooltip": null,
            "_model_module": "@jupyter-widgets/controls",
            "layout": "IPY_MODEL_2bf2da2bd65e4e5cb192fe4ba21c26ce"
          }
        },
        "cb9bfaff84744e51b23408025acd9e1b": {
          "model_module": "@jupyter-widgets/controls",
          "model_name": "HTMLModel",
          "state": {
            "_view_name": "HTMLView",
            "style": "IPY_MODEL_9581e6c2fb47463196bc5e7c985f8abb",
            "_dom_classes": [],
            "description": "",
            "_model_name": "HTMLModel",
            "placeholder": "​",
            "_view_module": "@jupyter-widgets/controls",
            "_model_module_version": "1.5.0",
            "value": " 411/411 [00:01&lt;00:00, 240B/s]",
            "_view_count": null,
            "_view_module_version": "1.5.0",
            "description_tooltip": null,
            "_model_module": "@jupyter-widgets/controls",
            "layout": "IPY_MODEL_926cf2582d7e4fa590f05624e76331b3"
          }
        },
        "de8c649345e548c3ada6b5aea90319b6": {
          "model_module": "@jupyter-widgets/controls",
          "model_name": "ProgressStyleModel",
          "state": {
            "_view_name": "StyleView",
            "_model_name": "ProgressStyleModel",
            "description_width": "initial",
            "_view_module": "@jupyter-widgets/base",
            "_model_module_version": "1.5.0",
            "_view_count": null,
            "_view_module_version": "1.2.0",
            "bar_color": null,
            "_model_module": "@jupyter-widgets/controls"
          }
        },
        "2bf2da2bd65e4e5cb192fe4ba21c26ce": {
          "model_module": "@jupyter-widgets/base",
          "model_name": "LayoutModel",
          "state": {
            "_view_name": "LayoutView",
            "grid_template_rows": null,
            "right": null,
            "justify_content": null,
            "_view_module": "@jupyter-widgets/base",
            "overflow": null,
            "_model_module_version": "1.2.0",
            "_view_count": null,
            "flex_flow": null,
            "width": null,
            "min_width": null,
            "border": null,
            "align_items": null,
            "bottom": null,
            "_model_module": "@jupyter-widgets/base",
            "top": null,
            "grid_column": null,
            "overflow_y": null,
            "overflow_x": null,
            "grid_auto_flow": null,
            "grid_area": null,
            "grid_template_columns": null,
            "flex": null,
            "_model_name": "LayoutModel",
            "justify_items": null,
            "grid_row": null,
            "max_height": null,
            "align_content": null,
            "visibility": null,
            "align_self": null,
            "height": null,
            "min_height": null,
            "padding": null,
            "grid_auto_rows": null,
            "grid_gap": null,
            "max_width": null,
            "order": null,
            "_view_module_version": "1.2.0",
            "grid_template_areas": null,
            "object_position": null,
            "object_fit": null,
            "grid_auto_columns": null,
            "margin": null,
            "display": null,
            "left": null
          }
        },
        "9581e6c2fb47463196bc5e7c985f8abb": {
          "model_module": "@jupyter-widgets/controls",
          "model_name": "DescriptionStyleModel",
          "state": {
            "_view_name": "StyleView",
            "_model_name": "DescriptionStyleModel",
            "description_width": "",
            "_view_module": "@jupyter-widgets/base",
            "_model_module_version": "1.5.0",
            "_view_count": null,
            "_view_module_version": "1.2.0",
            "_model_module": "@jupyter-widgets/controls"
          }
        },
        "926cf2582d7e4fa590f05624e76331b3": {
          "model_module": "@jupyter-widgets/base",
          "model_name": "LayoutModel",
          "state": {
            "_view_name": "LayoutView",
            "grid_template_rows": null,
            "right": null,
            "justify_content": null,
            "_view_module": "@jupyter-widgets/base",
            "overflow": null,
            "_model_module_version": "1.2.0",
            "_view_count": null,
            "flex_flow": null,
            "width": null,
            "min_width": null,
            "border": null,
            "align_items": null,
            "bottom": null,
            "_model_module": "@jupyter-widgets/base",
            "top": null,
            "grid_column": null,
            "overflow_y": null,
            "overflow_x": null,
            "grid_auto_flow": null,
            "grid_area": null,
            "grid_template_columns": null,
            "flex": null,
            "_model_name": "LayoutModel",
            "justify_items": null,
            "grid_row": null,
            "max_height": null,
            "align_content": null,
            "visibility": null,
            "align_self": null,
            "height": null,
            "min_height": null,
            "padding": null,
            "grid_auto_rows": null,
            "grid_gap": null,
            "max_width": null,
            "order": null,
            "_view_module_version": "1.2.0",
            "grid_template_areas": null,
            "object_position": null,
            "object_fit": null,
            "grid_auto_columns": null,
            "margin": null,
            "display": null,
            "left": null
          }
        },
        "22015b7a6a3a4ccc9c1d4f006faac87f": {
          "model_module": "@jupyter-widgets/controls",
          "model_name": "HBoxModel",
          "state": {
            "_view_name": "HBoxView",
            "_dom_classes": [],
            "_model_name": "HBoxModel",
            "_view_module": "@jupyter-widgets/controls",
            "_model_module_version": "1.5.0",
            "_view_count": null,
            "_view_module_version": "1.5.0",
            "box_style": "",
            "layout": "IPY_MODEL_a0cf807dd03347a1ba3cbc573c18fceb",
            "_model_module": "@jupyter-widgets/controls",
            "children": [
              "IPY_MODEL_6640cfc38dbb46ec9adedcb1780c64a6",
              "IPY_MODEL_017058400783405aae0c53da1e01a5af"
            ]
          }
        },
        "a0cf807dd03347a1ba3cbc573c18fceb": {
          "model_module": "@jupyter-widgets/base",
          "model_name": "LayoutModel",
          "state": {
            "_view_name": "LayoutView",
            "grid_template_rows": null,
            "right": null,
            "justify_content": null,
            "_view_module": "@jupyter-widgets/base",
            "overflow": null,
            "_model_module_version": "1.2.0",
            "_view_count": null,
            "flex_flow": null,
            "width": null,
            "min_width": null,
            "border": null,
            "align_items": null,
            "bottom": null,
            "_model_module": "@jupyter-widgets/base",
            "top": null,
            "grid_column": null,
            "overflow_y": null,
            "overflow_x": null,
            "grid_auto_flow": null,
            "grid_area": null,
            "grid_template_columns": null,
            "flex": null,
            "_model_name": "LayoutModel",
            "justify_items": null,
            "grid_row": null,
            "max_height": null,
            "align_content": null,
            "visibility": null,
            "align_self": null,
            "height": null,
            "min_height": null,
            "padding": null,
            "grid_auto_rows": null,
            "grid_gap": null,
            "max_width": null,
            "order": null,
            "_view_module_version": "1.2.0",
            "grid_template_areas": null,
            "object_position": null,
            "object_fit": null,
            "grid_auto_columns": null,
            "margin": null,
            "display": null,
            "left": null
          }
        },
        "6640cfc38dbb46ec9adedcb1780c64a6": {
          "model_module": "@jupyter-widgets/controls",
          "model_name": "IntProgressModel",
          "state": {
            "_view_name": "ProgressView",
            "style": "IPY_MODEL_55dadf54bef4452fbbe692f58ad14fa6",
            "_dom_classes": [],
            "description": "Downloading: 100%",
            "_model_name": "IntProgressModel",
            "bar_style": "success",
            "max": 263273408,
            "_view_module": "@jupyter-widgets/controls",
            "_model_module_version": "1.5.0",
            "value": 263273408,
            "_view_count": null,
            "_view_module_version": "1.5.0",
            "orientation": "horizontal",
            "min": 0,
            "description_tooltip": null,
            "_model_module": "@jupyter-widgets/controls",
            "layout": "IPY_MODEL_d8aae59d8e984352ad0acbd8725f764e"
          }
        },
        "017058400783405aae0c53da1e01a5af": {
          "model_module": "@jupyter-widgets/controls",
          "model_name": "HTMLModel",
          "state": {
            "_view_name": "HTMLView",
            "style": "IPY_MODEL_b0178997e8be4140b37929a5d6ee24e9",
            "_dom_classes": [],
            "description": "",
            "_model_name": "HTMLModel",
            "placeholder": "​",
            "_view_module": "@jupyter-widgets/controls",
            "_model_module_version": "1.5.0",
            "value": " 263M/263M [00:22&lt;00:00, 11.6MB/s]",
            "_view_count": null,
            "_view_module_version": "1.5.0",
            "description_tooltip": null,
            "_model_module": "@jupyter-widgets/controls",
            "layout": "IPY_MODEL_9cdaddc5437a43458945e99ec1c490ca"
          }
        },
        "55dadf54bef4452fbbe692f58ad14fa6": {
          "model_module": "@jupyter-widgets/controls",
          "model_name": "ProgressStyleModel",
          "state": {
            "_view_name": "StyleView",
            "_model_name": "ProgressStyleModel",
            "description_width": "initial",
            "_view_module": "@jupyter-widgets/base",
            "_model_module_version": "1.5.0",
            "_view_count": null,
            "_view_module_version": "1.2.0",
            "bar_color": null,
            "_model_module": "@jupyter-widgets/controls"
          }
        },
        "d8aae59d8e984352ad0acbd8725f764e": {
          "model_module": "@jupyter-widgets/base",
          "model_name": "LayoutModel",
          "state": {
            "_view_name": "LayoutView",
            "grid_template_rows": null,
            "right": null,
            "justify_content": null,
            "_view_module": "@jupyter-widgets/base",
            "overflow": null,
            "_model_module_version": "1.2.0",
            "_view_count": null,
            "flex_flow": null,
            "width": null,
            "min_width": null,
            "border": null,
            "align_items": null,
            "bottom": null,
            "_model_module": "@jupyter-widgets/base",
            "top": null,
            "grid_column": null,
            "overflow_y": null,
            "overflow_x": null,
            "grid_auto_flow": null,
            "grid_area": null,
            "grid_template_columns": null,
            "flex": null,
            "_model_name": "LayoutModel",
            "justify_items": null,
            "grid_row": null,
            "max_height": null,
            "align_content": null,
            "visibility": null,
            "align_self": null,
            "height": null,
            "min_height": null,
            "padding": null,
            "grid_auto_rows": null,
            "grid_gap": null,
            "max_width": null,
            "order": null,
            "_view_module_version": "1.2.0",
            "grid_template_areas": null,
            "object_position": null,
            "object_fit": null,
            "grid_auto_columns": null,
            "margin": null,
            "display": null,
            "left": null
          }
        },
        "b0178997e8be4140b37929a5d6ee24e9": {
          "model_module": "@jupyter-widgets/controls",
          "model_name": "DescriptionStyleModel",
          "state": {
            "_view_name": "StyleView",
            "_model_name": "DescriptionStyleModel",
            "description_width": "",
            "_view_module": "@jupyter-widgets/base",
            "_model_module_version": "1.5.0",
            "_view_count": null,
            "_view_module_version": "1.2.0",
            "_model_module": "@jupyter-widgets/controls"
          }
        },
        "9cdaddc5437a43458945e99ec1c490ca": {
          "model_module": "@jupyter-widgets/base",
          "model_name": "LayoutModel",
          "state": {
            "_view_name": "LayoutView",
            "grid_template_rows": null,
            "right": null,
            "justify_content": null,
            "_view_module": "@jupyter-widgets/base",
            "overflow": null,
            "_model_module_version": "1.2.0",
            "_view_count": null,
            "flex_flow": null,
            "width": null,
            "min_width": null,
            "border": null,
            "align_items": null,
            "bottom": null,
            "_model_module": "@jupyter-widgets/base",
            "top": null,
            "grid_column": null,
            "overflow_y": null,
            "overflow_x": null,
            "grid_auto_flow": null,
            "grid_area": null,
            "grid_template_columns": null,
            "flex": null,
            "_model_name": "LayoutModel",
            "justify_items": null,
            "grid_row": null,
            "max_height": null,
            "align_content": null,
            "visibility": null,
            "align_self": null,
            "height": null,
            "min_height": null,
            "padding": null,
            "grid_auto_rows": null,
            "grid_gap": null,
            "max_width": null,
            "order": null,
            "_view_module_version": "1.2.0",
            "grid_template_areas": null,
            "object_position": null,
            "object_fit": null,
            "grid_auto_columns": null,
            "margin": null,
            "display": null,
            "left": null
          }
        }
      }
    }
  },
  "cells": [
    {
      "cell_type": "code",
      "metadata": {
        "id": "WoNmhVdE16ZS",
        "colab_type": "code",
        "outputId": "1e6b4102-1a35-4280-aae3-12dce6fca2c7",
        "colab": {
          "base_uri": "https://localhost:8080/",
          "height": 248
        }
      },
      "source": [
        "!git clone https://github.com/richardyy1188/Pretrain-MLM-and-finetune-on-GLUE-with-fastai.git\n",
        "%cd Pretrain-MLM-and-finetune-on-GLUE-with-fastai\n",
        "%pip install -q fastai2 transformers"
      ],
      "execution_count": 1,
      "outputs": [
        {
          "output_type": "stream",
          "text": [
            "Cloning into 'Pretrain-MLM-and-finetune-on-GLUE-with-fastai'...\n",
            "remote: Enumerating objects: 13, done.\u001b[K\n",
            "remote: Counting objects: 100% (13/13), done.\u001b[K\n",
            "remote: Compressing objects: 100% (11/11), done.\u001b[K\n",
            "remote: Total 13 (delta 0), reused 10 (delta 0), pack-reused 0\u001b[K\n",
            "Unpacking objects: 100% (13/13), done.\n",
            "/content/Pretrain-MLM-and-finetune-on-GLUE-with-fastai\n",
            "\u001b[K     |████████████████████████████████| 194kB 2.8MB/s \n",
            "\u001b[K     |████████████████████████████████| 573kB 8.6MB/s \n",
            "\u001b[K     |████████████████████████████████| 890kB 13.4MB/s \n",
            "\u001b[K     |████████████████████████████████| 1.0MB 17.2MB/s \n",
            "\u001b[K     |████████████████████████████████| 3.7MB 25.3MB/s \n",
            "\u001b[?25h  Building wheel for sacremoses (setup.py) ... \u001b[?25l\u001b[?25hdone\n"
          ],
          "name": "stdout"
        }
      ]
    },
    {
      "cell_type": "code",
      "metadata": {
        "id": "aQ8Soxgm3KYS",
        "colab_type": "code",
        "colab": {
          "base_uri": "https://localhost:8080/",
          "height": 67,
          "referenced_widgets": [
            "f38cce2ee7884d0eaa0c440828ce4681",
            "5d2986561bc14fb499a9871c6e9e8be3",
            "ef5ed2ef7c3c4ec98f66f69c92e17158",
            "3002ccd1562b4df3b356760e3b87b541",
            "492b2eb17ec940cba1876edb93aeedc0",
            "483cc635af1a4073acecd60d8162ace6",
            "2efde9478c9f406d8516d7450bef4aca",
            "c68ce30f391d4443880ccaf2a8c44c21"
          ]
        },
        "outputId": "4c90f10e-9341-43f0-ce33-00adf29b4049"
      },
      "source": [
        "from IPython.core.debugger import set_trace as bk\n",
        "from pathlib import Path\n",
        "import pandas as pd\n",
        "import torch\n",
        "from torch import nn\n",
        "from fastai2.text.all import *\n",
        "from transformers import DistilBertModel, DistilBertConfig, DistilBertTokenizer\n",
        "pretrained_model_name='distilbert-base-cased' # see https://huggingface.co/transformers/pretrained_models.html\n",
        "hf_tokenizer = DistilBertTokenizer.from_pretrained(pretrained_model_name)\n",
        "from _utils.demo_data import load_demo_dataframe\n",
        "from _utils.hf_transformers_integration import HF_Tokenizer, HF_TextBlock, HFModelWrapper"
      ],
      "execution_count": 2,
      "outputs": [
        {
          "output_type": "display_data",
          "data": {
            "application/vnd.jupyter.widget-view+json": {
              "model_id": "f38cce2ee7884d0eaa0c440828ce4681",
              "version_minor": 0,
              "version_major": 2
            },
            "text/plain": [
              "HBox(children=(IntProgress(value=0, description='Downloading', max=213450, style=ProgressStyle(description_wid…"
            ]
          },
          "metadata": {
            "tags": []
          }
        },
        {
          "output_type": "stream",
          "text": [
            "\n"
          ],
          "name": "stdout"
        }
      ]
    },
    {
      "cell_type": "markdown",
      "metadata": {
        "id": "ybfE1Pnc3drg",
        "colab_type": "text"
      },
      "source": [
        "# 1. Load Data"
      ]
    },
    {
      "cell_type": "markdown",
      "metadata": {
        "id": "6mX84Ayv3kFb",
        "colab_type": "text"
      },
      "source": [
        "**Prepare source dataframe**"
      ]
    },
    {
      "cell_type": "code",
      "metadata": {
        "id": "AZ8kHza3CLHp",
        "colab_type": "code",
        "outputId": "e80f711e-9eb4-4439-e894-65f9c85b0351",
        "colab": {
          "base_uri": "https://localhost:8080/",
          "height": 241
        }
      },
      "source": [
        "df = load_demo_dataframe()\n",
        "# fastai can use is_valid column to split this datafram into train and validate set\n",
        "df.head()"
      ],
      "execution_count": 3,
      "outputs": [
        {
          "output_type": "execute_result",
          "data": {
            "text/html": [
              "<div>\n",
              "<style scoped>\n",
              "    .dataframe tbody tr th:only-of-type {\n",
              "        vertical-align: middle;\n",
              "    }\n",
              "\n",
              "    .dataframe tbody tr th {\n",
              "        vertical-align: top;\n",
              "    }\n",
              "\n",
              "    .dataframe thead th {\n",
              "        text-align: right;\n",
              "    }\n",
              "</style>\n",
              "<table border=\"1\" class=\"dataframe\">\n",
              "  <thead>\n",
              "    <tr style=\"text-align: right;\">\n",
              "      <th></th>\n",
              "      <th>text</th>\n",
              "      <th>is_valid</th>\n",
              "    </tr>\n",
              "  </thead>\n",
              "  <tbody>\n",
              "    <tr>\n",
              "      <th>0</th>\n",
              "      <td>Out of his box the Jack popped his head . The funny , black fringe of whiskers around his face jiggled up and down . His queer , big eyes looked around the store .</td>\n",
              "      <td>False</td>\n",
              "    </tr>\n",
              "    <tr>\n",
              "      <th>1</th>\n",
              "      <td>\" Hurray ! \" cried the Jack in the Box . \" We are alone at last and now we can have some fun ! Hurray ! \"</td>\n",
              "      <td>False</td>\n",
              "    </tr>\n",
              "    <tr>\n",
              "      <th>2</th>\n",
              "      <td>\" Are you sure ? \" asked a Bold Tin Soldier , who stood at the head of a company of his men in a large box .</td>\n",
              "      <td>False</td>\n",
              "    </tr>\n",
              "    <tr>\n",
              "      <th>3</th>\n",
              "      <td>\" Am I sure of what ? \" inquired the Jack , as he swung to and fro on the spring which made him pop out of the box .</td>\n",
              "      <td>False</td>\n",
              "    </tr>\n",
              "    <tr>\n",
              "      <th>4</th>\n",
              "      <td>\" Are you sure we are alone ? \" went on the Soldier . \" It would be too bad if we should come to life when any one could see us . \"</td>\n",
              "      <td>False</td>\n",
              "    </tr>\n",
              "  </tbody>\n",
              "</table>\n",
              "</div>"
            ],
            "text/plain": [
              "                                                                                                                                                                  text  is_valid\n",
              "0  Out of his box the Jack popped his head . The funny , black fringe of whiskers around his face jiggled up and down . His queer , big eyes looked around the store .     False\n",
              "1                                                            \" Hurray ! \" cried the Jack in the Box . \" We are alone at last and now we can have some fun ! Hurray ! \"     False\n",
              "2                                                         \" Are you sure ? \" asked a Bold Tin Soldier , who stood at the head of a company of his men in a large box .     False\n",
              "3                                                 \" Am I sure of what ? \" inquired the Jack , as he swung to and fro on the spring which made him pop out of the box .     False\n",
              "4                                  \" Are you sure we are alone ? \" went on the Soldier . \" It would be too bad if we should come to life when any one could see us . \"     False"
            ]
          },
          "metadata": {
            "tags": []
          },
          "execution_count": 3
        }
      ]
    },
    {
      "cell_type": "markdown",
      "metadata": {
        "id": "LlrcsANr7SCj",
        "colab_type": "text"
      },
      "source": [
        "**DataLoaders**"
      ]
    },
    {
      "cell_type": "code",
      "metadata": {
        "id": "m-DmkQ5a7aHA",
        "colab_type": "code",
        "outputId": "717c99f3-81d3-4205-e6af-51501a49fc0f",
        "colab": {
          "base_uri": "https://localhost:8080/",
          "height": 251
        }
      },
      "source": [
        "db = DataBlock(splitter=ColSplitter(),\n",
        "              blocks=HF_TextBlock.from_df('text', hf_tokenizer),\n",
        "              get_x=ColReader('text'),)\n",
        "\"\"\" Note:\n",
        "If you don't cancel pad first, you will get input with variable number of pad before sentence.\n",
        "like 'pad ... pad pad I am input x pad .. pad pad'\n",
        "Which you may cause add wrong position's position embeddings when using transformer architecture\n",
        "\"\"\"\n",
        "dls = db.dataloaders(df, shuffle_train=False, pad_first=False)\n",
        "\"\"\" Note:\n",
        "fastai wiil assure data and model are on the same device, so we just need to specify device for dataloaders,\n",
        "and fastai will infer and move model to that device.\n",
        "\"\"\"\n",
        "if torch.cuda.is_available(): dls.cuda() \n",
        "dls.show_batch(max_n=2)"
      ],
      "execution_count": 4,
      "outputs": [
        {
          "output_type": "display_data",
          "data": {
            "text/html": [
              ""
            ],
            "text/plain": [
              "<IPython.core.display.HTML object>"
            ]
          },
          "metadata": {
            "tags": []
          }
        },
        {
          "output_type": "display_data",
          "data": {
            "text/html": [
              "<table border=\"1\" class=\"dataframe\">\n",
              "  <thead>\n",
              "    <tr style=\"text-align: right;\">\n",
              "      <th></th>\n",
              "      <th>text</th>\n",
              "    </tr>\n",
              "  </thead>\n",
              "  <tbody>\n",
              "    <tr>\n",
              "      <th>0</th>\n",
              "      <td>[CLS] \" Dear Mother : I am so glad you have the sixty - five dollars , for then you will not have to work so hard , and can take a little rest . It was so good of Uncle Jack to send it to you . I feel so much better now that you have this money . You will not have to worry so much . I am working hard myself , but I like it , and I will save all I can and send all I can spare to you . Take good care of the money and do n ' t lose it , for you may never have as much again . I am very lone ##some and wish I could see you , but I know the rest will do you good . With lots of love . \" [SEP]</td>\n",
              "    </tr>\n",
              "    <tr>\n",
              "      <th>1</th>\n",
              "      <td>[CLS] \" Looks that way , \" replied the fore ##man . \" I guess he must have drunk some water that had a bit of &lt; un ##k &gt; meat in it . You see , \" he went on to the doctor , Mr . Martin and the children , \" we have a lot of wolves and other &lt; un ##k &gt; animals around here . They ' re too &lt; un ##k &gt; to catch in traps or shoot , so we poison ' em by putting a white powder in some meat . Sometimes the wolves will drag a piece of the &lt; un ##k &gt; meat to a spring of water , and they must have done it this time . Then the p ##ony drank the water and it made him sick . \" [SEP] [PAD] [PAD] [PAD] [PAD] [PAD] [PAD]</td>\n",
              "    </tr>\n",
              "  </tbody>\n",
              "</table>"
            ],
            "text/plain": [
              "<IPython.core.display.HTML object>"
            ]
          },
          "metadata": {
            "tags": []
          }
        }
      ]
    },
    {
      "cell_type": "markdown",
      "metadata": {
        "id": "dpMVEa7TELoR",
        "colab_type": "text"
      },
      "source": [
        "# 2. Masked language model objective"
      ]
    },
    {
      "cell_type": "markdown",
      "metadata": {
        "id": "UibFtqoMoayu",
        "colab_type": "text"
      },
      "source": [
        "## 2.1 MLM objective callback"
      ]
    },
    {
      "cell_type": "code",
      "metadata": {
        "id": "wd88gnpqENpy",
        "colab_type": "code",
        "colab": {}
      },
      "source": [
        "# https://github.com/huggingface/transformers/blob/1789c7daf1b8013006b0aef6cb1b8f80573031c5/examples/run_language_modeling.py#L179\n",
        "def mask_tokens(inputs, mask_token_index, vocab_size, special_token_indices, mlm_probability=0.15, ignore_index=-100):\n",
        "  \"\"\" Prepare masked tokens inputs/labels for masked language modeling: 80% MASK, 10% random, 10% original. \"\"\"\n",
        "  \"ignore_index in nn.CrossEntropy is default to -100, so you don't need to specify ignore_index in loss\"\n",
        "  \n",
        "  #assert len(inputs.shape)==2, \"Assume input shape of (batch_size, sequence_length)\"\n",
        "  labels = inputs.clone()\n",
        "  \n",
        "  # We sample a few tokens in each sequence for masked-LM training (with probability mlm_probability defaults to 0.15 in Bert/RoBERTa)\n",
        "  probability_matrix = torch.full(labels.shape, mlm_probability)\n",
        "  special_tokens_mask = torch.tensor([\n",
        "    [i in special_token_indices for i in sample] for sample in labels\n",
        "  ], dtype=torch.bool)\n",
        "  probability_matrix.masked_fill_(special_tokens_mask, value=0.0)\n",
        "  mlm_mask = torch.bernoulli(probability_matrix).bool()\n",
        "  labels[~mlm_mask] = ignore_index  # We only compute loss on masked tokens\n",
        "  \n",
        "  # 80% of the time, we replace masked input tokens with mask_token\n",
        "  mask_token_mask = torch.bernoulli(torch.full(labels.shape, 0.8)).bool() & mlm_mask\n",
        "  inputs[mask_token_mask] = mask_token_index\n",
        "  \n",
        "  # 10% of the time, we replace masked input tokens with random word\n",
        "  replace_token_mask = torch.bernoulli(torch.full(labels.shape, 0.5)).bool() & mlm_mask & ~mask_token_mask\n",
        "  random_words = torch.randint(vocab_size, labels.shape, dtype=torch.long, device=inputs.device)\n",
        "  inputs[replace_token_mask] = random_words[replace_token_mask]\n",
        "\n",
        "  # The rest of the time (10% of the time) we keep the masked input tokens unchanged\n",
        "  return inputs, labels\n",
        "\n",
        "class MaskedLanguageModel(Callback):\n",
        "  @delegates(mask_tokens)\n",
        "  def __init__(self, mask_tok_id, special_tok_ids, vocab_size, **kwargs):\n",
        "    self.mask_tokens = partial(mask_tokens,\n",
        "                               mask_token_index=mask_tok_id,\n",
        "                               special_token_indices=special_tok_ids,\n",
        "                               vocab_size=vocab_size,\n",
        "                               **kwargs)\n",
        "\n",
        "  def begin_batch(self):\n",
        "    text_indices = self.xb[0]\n",
        "    masked_inputs, labels = self.mask_tokens(text_indices)\n",
        "    self.learn.xb, self.learn.yb = (masked_inputs,), (labels,)"
      ],
      "execution_count": 0,
      "outputs": []
    },
    {
      "cell_type": "code",
      "metadata": {
        "id": "jkZ7Jkze-FZX",
        "colab_type": "code",
        "colab": {
          "base_uri": "https://localhost:8080/",
          "height": 268
        },
        "outputId": "432ebf89-a288-4ea8-c0d4-eecc06caf0bb"
      },
      "source": [
        "from copy import deepcopy\n",
        "\n",
        "mlm_cb = MaskedLanguageModel(mask_tok_id=hf_tokenizer.mask_token_id, \n",
        "                             special_tok_ids=hf_tokenizer.all_special_ids, \n",
        "                             vocab_size=hf_tokenizer.vocab_size)\n",
        "b = dls.one_batch()\n",
        "copy_b = deepcopy(b)\n",
        "text_indices = b[0]\n",
        "masked_inputs, labels = masked_inputs,labels = mlm_cb.mask_tokens(text_indices)\n",
        "decoded_batch = dls.decode_batch((masked_inputs, labels))\n",
        "print(f\"\"\" Show the 7 th (decoded) sample:\n",
        "\n",
        "  (original text):\n",
        "  {dls.decode_batch(copy_b)[7][0]}\n",
        "\n",
        "  x (masked text):\n",
        "  {decoded_batch[7][0]}\n",
        "  \n",
        "  y (answer tokens):\n",
        "  {decoded_batch[7][1]}\n",
        "  \n",
        "Note: We will only calculate loss from position where y is not ##囗 (ignore index)\n",
        "Note: This callback use dynamic masking, so it will get you different masking pattern everytime.\"\"\")\n"
      ],
      "execution_count": 6,
      "outputs": [
        {
          "output_type": "stream",
          "text": [
            " Show the 7 th (decoded) sample:\n",
            "\n",
            "  (original text):\n",
            "  [CLS] \" Yes , I seem to be , \" said the Candy Rabbit , feeling his head and body as far as he could reach , as if to make sure no part of him was broken , or lost , or out of place . \" But can you tell me this ? \" he asked . \" A little while ago I was on the toy counter of this store with the Cal ##ico C ##lown and the Monkey on a Stick . And now I seem to be in < un ##k > . Tell me , am I dreaming , or is this really < un ##k > , where eggs have windows in them and hold little chickens and ducks who < un ##k > ? \" [SEP] [PAD] [PAD] [PAD] [PAD] [PAD] [PAD] [PAD] [PAD] [PAD] [PAD] [PAD] [PAD] [PAD] [PAD]\n",
            "\n",
            "  x (masked text):\n",
            "  [CLS] \" Yes , I seem to be equilibrium [MASK] said the [MASK] Rabbit [MASK] feeling [MASK] head and body as far as he could reach , as if to make sure [MASK] part [MASK] [MASK] was [MASK] , or [MASK] , or out [MASK] [MASK] . \" But can you tell me this ? \" he asked . \" A little while ago I was on the toy counter [MASK] this store [MASK] the [MASK] [MASK] C ##lown and the Monkey on a Stick . And now I seem ventures [MASK] in < un ##k [MASK] . Tell me , am I dreaming , or [MASK] this really < un [MASK] > , where eggs have windows in them and hold little chickens and ducks who < Ultimate ##k > [MASK] [MASK] [SEP] [PAD] [PAD] [PAD] [PAD] [PAD] [PAD] [PAD] [PAD] [PAD] [PAD] [PAD] [PAD] [PAD] [PAD]\n",
            "  \n",
            "  y (answer tokens):\n",
            "  ##囗 ##囗 ##囗 ##囗 ##囗 ##囗 ##囗 ##囗 , \" ##囗 ##囗 Candy ##囗 , ##囗 his ##囗 and ##囗 ##囗 ##囗 ##囗 ##囗 ##囗 ##囗 ##囗 ##囗 ##囗 ##囗 ##囗 ##囗 no ##囗 of him ##囗 broken ##囗 ##囗 lost ##囗 ##囗 ##囗 of place ##囗 ##囗 ##囗 ##囗 ##囗 ##囗 ##囗 ##囗 ##囗 ##囗 ##囗 ##囗 ##囗 ##囗 ##囗 ##囗 ##囗 ##囗 ##囗 ##囗 ##囗 ##囗 ##囗 ##囗 of ##囗 ##囗 with ##囗 Cal ##ico ##囗 ##囗 ##囗 ##囗 ##囗 ##囗 ##囗 ##囗 ##囗 ##囗 ##囗 ##囗 ##囗 to be ##囗 ##囗 ##囗 ##囗 > ##囗 ##囗 ##囗 ##囗 ##囗 ##囗 dreaming ##囗 ##囗 is ##囗 ##囗 ##囗 ##囗 ##k ##囗 ##囗 ##囗 ##囗 ##囗 ##囗 ##囗 ##囗 ##囗 ##囗 ##囗 ##囗 ##囗 ##囗 ##囗 ##囗 un ##囗 ##囗 ? \" ##囗 ##囗 ##囗 ##囗 ##囗 ##囗 ##囗 ##囗 ##囗 ##囗 ##囗 ##囗 ##囗 ##囗 ##囗\n",
            "  \n",
            "Note: We will only calculate loss from position where y is not ##囗 (ignore index)\n",
            "Note: This callback use dynamic masking, so it will get you different masking pattern everytime.\n"
          ],
          "name": "stdout"
        }
      ]
    },
    {
      "cell_type": "markdown",
      "metadata": {
        "id": "YNVV4BrVI6SE",
        "colab_type": "text"
      },
      "source": [
        "## 2.2 Train"
      ]
    },
    {
      "cell_type": "code",
      "metadata": {
        "id": "moNwPQaOL3H7",
        "colab_type": "code",
        "outputId": "798ec61b-9c74-44a4-b8c9-0d60bd75518a",
        "colab": {
          "base_uri": "https://localhost:8080/",
          "height": 574,
          "referenced_widgets": [
            "0104f5a74732464d88d183ee20e2b7c8",
            "4e63f7847cc544629e9a8649d3af53a0",
            "6bef503cbd1c44e7bc31ec0f6e60399f",
            "cb9bfaff84744e51b23408025acd9e1b",
            "de8c649345e548c3ada6b5aea90319b6",
            "2bf2da2bd65e4e5cb192fe4ba21c26ce",
            "9581e6c2fb47463196bc5e7c985f8abb",
            "926cf2582d7e4fa590f05624e76331b3",
            "22015b7a6a3a4ccc9c1d4f006faac87f",
            "a0cf807dd03347a1ba3cbc573c18fceb",
            "6640cfc38dbb46ec9adedcb1780c64a6",
            "017058400783405aae0c53da1e01a5af",
            "55dadf54bef4452fbbe692f58ad14fa6",
            "d8aae59d8e984352ad0acbd8725f764e",
            "b0178997e8be4140b37929a5d6ee24e9",
            "9cdaddc5437a43458945e99ec1c490ca"
          ]
        }
      },
      "source": [
        "model = nn.Sequential(HFModelWrapper(DistilBertModel.from_pretrained(pretrained_model_name),hf_tokenizer.pad_token_id),\n",
        "                      nn.Linear(768, hf_tokenizer.vocab_size))\n",
        "\n",
        "\n",
        "learn = Learner(dls, model,  \n",
        "                loss_func=CrossEntropyLossFlat(), \n",
        "                metrics=accuracy,\n",
        "                opt_func=ranger,\n",
        "                cbs=[mlm_cb])\n",
        "\n",
        "# help you find the best learning rate for \"one cycle learning rate schedule\"\n",
        "# the graph below is the result of learning rate finding\n",
        "lr, _ = learn.lr_find()\n",
        "\n",
        "\"\"\" !! Note !!\n",
        "Although the accuracy is not like a pretrained model should achieve, \n",
        "but note that we mount an untrained one layer prediction head (output layer). \n",
        "\"\"\"\n",
        "\"\"\" !! Note !!\n",
        "to_fp16 give us nan loss, which is something we need to work on. \n",
        "\"\"\"\n",
        "learn.fit_one_cycle(5, lr) "
      ],
      "execution_count": 7,
      "outputs": [
        {
          "output_type": "display_data",
          "data": {
            "application/vnd.jupyter.widget-view+json": {
              "model_id": "0104f5a74732464d88d183ee20e2b7c8",
              "version_minor": 0,
              "version_major": 2
            },
            "text/plain": [
              "HBox(children=(IntProgress(value=0, description='Downloading', max=411, style=ProgressStyle(description_width=…"
            ]
          },
          "metadata": {
            "tags": []
          }
        },
        {
          "output_type": "stream",
          "text": [
            "\n"
          ],
          "name": "stdout"
        },
        {
          "output_type": "display_data",
          "data": {
            "application/vnd.jupyter.widget-view+json": {
              "model_id": "22015b7a6a3a4ccc9c1d4f006faac87f",
              "version_minor": 0,
              "version_major": 2
            },
            "text/plain": [
              "HBox(children=(IntProgress(value=0, description='Downloading', max=263273408, style=ProgressStyle(description_…"
            ]
          },
          "metadata": {
            "tags": []
          }
        },
        {
          "output_type": "stream",
          "text": [
            "\n"
          ],
          "name": "stdout"
        },
        {
          "output_type": "display_data",
          "data": {
            "text/html": [
              ""
            ],
            "text/plain": [
              "<IPython.core.display.HTML object>"
            ]
          },
          "metadata": {
            "tags": []
          }
        },
        {
          "output_type": "display_data",
          "data": {
            "text/html": [
              "<table border=\"1\" class=\"dataframe\">\n",
              "  <thead>\n",
              "    <tr style=\"text-align: left;\">\n",
              "      <th>epoch</th>\n",
              "      <th>train_loss</th>\n",
              "      <th>valid_loss</th>\n",
              "      <th>accuracy</th>\n",
              "      <th>time</th>\n",
              "    </tr>\n",
              "  </thead>\n",
              "  <tbody>\n",
              "    <tr>\n",
              "      <td>0</td>\n",
              "      <td>5.831647</td>\n",
              "      <td>5.524001</td>\n",
              "      <td>0.030200</td>\n",
              "      <td>02:42</td>\n",
              "    </tr>\n",
              "    <tr>\n",
              "      <td>1</td>\n",
              "      <td>3.405850</td>\n",
              "      <td>4.061372</td>\n",
              "      <td>0.046125</td>\n",
              "      <td>02:40</td>\n",
              "    </tr>\n",
              "    <tr>\n",
              "      <td>2</td>\n",
              "      <td>2.671769</td>\n",
              "      <td>3.306619</td>\n",
              "      <td>0.058334</td>\n",
              "      <td>02:38</td>\n",
              "    </tr>\n",
              "    <tr>\n",
              "      <td>3</td>\n",
              "      <td>2.359098</td>\n",
              "      <td>2.793536</td>\n",
              "      <td>0.069862</td>\n",
              "      <td>02:37</td>\n",
              "    </tr>\n",
              "    <tr>\n",
              "      <td>4</td>\n",
              "      <td>2.186984</td>\n",
              "      <td>2.690891</td>\n",
              "      <td>0.072360</td>\n",
              "      <td>02:39</td>\n",
              "    </tr>\n",
              "  </tbody>\n",
              "</table>"
            ],
            "text/plain": [
              "<IPython.core.display.HTML object>"
            ]
          },
          "metadata": {
            "tags": []
          }
        },
        {
          "output_type": "display_data",
          "data": {
            "image/png": "[encoded data removed]",
            "text/plain": [
              "<Figure size 432x288 with 1 Axes>"
            ]
          },
          "metadata": {
            "tags": [],
            "needs_background": "light"
          }
        }
      ]
    },
    {
      "cell_type": "markdown",
      "metadata": {
        "id": "RKEsfvdGt7Xw",
        "colab_type": "text"
      },
      "source": [
        "# 3. ELECTRA (replaced token detection objective)\n",
        "\n",
        "see details on arxiv [ELECTRA: Pre-training Text Encoders as Discriminators Rather Than Generators](https://arxiv.org/abs/2003.10555)"
      ]
    },
    {
      "cell_type": "code",
      "metadata": {
        "id": "cepbSbJ8l0Ua",
        "colab_type": "code",
        "colab": {}
      },
      "source": [
        "class Electra(nn.Module):\n",
        "  def __init__(self):\n",
        "    super().__init__()\n",
        "    self.generator = nn.Sequential(HFModelWrapper(DistilBertModel(DistilBertConfig(\n",
        "                                                  vocab_size=hf_tokenizer.vocab_size,\n",
        "                                                  n_layers=1,\n",
        "                                  )), pad_id=hf_tokenizer.pad_token_id),\n",
        "                     nn.Linear(768, hf_tokenizer.vocab_size))\n",
        "    self.discriminator = nn.Sequential(HFModelWrapper(DistilBertModel.from_pretrained(pretrained_model_name),hf_tokenizer.pad_token_id),\n",
        "                                      nn.Linear(768, 1))"
      ],
      "execution_count": 0,
      "outputs": []
    },
    {
      "cell_type": "code",
      "metadata": {
        "id": "Ov1WSwJ8zZN0",
        "colab_type": "code",
        "colab": {}
      },
      "source": [
        "class ElectraCallback(MaskedLanguageModel):\n",
        "  run_after=MixedPrecision # ???\n",
        "  @delegates(MaskedLanguageModel.__init__)\n",
        "  def __init__(self, electra_model, mask_tok_id, special_tok_ids, vocab_size, loss_weights=(1.0, 50.0), **kwargs):\n",
        "    super().__init__(mask_tok_id, special_tok_ids, vocab_size, **kwargs)\n",
        "    assert len(loss_weights)==2, 'loss_weights should contain element 0 and 1 for weight of generator loss and dicriminator loss respectively.'\n",
        "    store_attr(self, 'electra_model, mask_tok_id, loss_weights')\n",
        "    \"\"\"\n",
        "    This is equivalent of tf.nn.sigmoid_cross_entropy_with_logits, which is a sigmoid layer before cross entropy,\n",
        "    when value of targes is either 1.0 or 0.0 .\n",
        "    \"\"\"\n",
        "    self.discri_loss_func = nn.BCEWithLogitsLoss()\n",
        "  \n",
        "  def begin_fit(self):\n",
        "    for cb in self.cbs:\n",
        "      if isinstance(cb, MixedPrecision): self.fp16_cb = cb\n",
        "  def after_fit(self):\n",
        "    if hasattr(self, 'fp16_cb'): delattr(self, 'fp16_cb')\n",
        "\n",
        "  def after_loss(self):\n",
        "    # prepare discriminator's inputs and labels\n",
        "    masked_inputs, labels = self.xb[0], self.yb[0] # both (batch size, sequence length)\n",
        "    masked_pos_mask = masked_inputs == self.mask_tok_id # 1 for masked position, 0 for the others\n",
        "    pred_toks = self.pred.argmax(dim=-1)\n",
        "    generated = masked_inputs + masked_pos_mask * pred_toks # use predicted token to fill masked position\n",
        "    replaced = (masked_pos_mask & (pred_toks != labels))  # is masked token and not equal to predicted\n",
        "    \n",
        "    discri_pred = self.electra_model.discriminator(generated).to(dtype=self.pred.dtype) # (bs, seq_len, 1)\n",
        "    discri_pred = discri_pred.squeeze(-1) # (bs, seq_len)\n",
        "    if hasattr(self, 'fp16_cb'): discri_pred = to_float(discri_pred)\n",
        "    discri_loss = self.discri_loss_func(discri_pred, replaced.to(dtype=discri_pred.dtype))\n",
        "    if hasattr(self, 'fp16_cb'): discri_loss *= self.fp16_cb.loss_scale\n",
        "    self.learn.loss = torch.stack([self.loss, discri_loss]).matmul(torch.tensor(self.loss_weights, dtype=self.loss.dtype, device=self.loss.device))\n",
        "\n",
        "    self.learn.model = self.electra_model\n",
        "\n",
        "  def begin_batch(self):\n",
        "    super().begin_batch() # -> self.xb, self.yb = (masked_inputs,),(answers,)\n",
        "    self.learn.model = self.electra_model.generator"
      ],
      "execution_count": 0,
      "outputs": []
    },
    {
      "cell_type": "code",
      "metadata": {
        "id": "x-8qo7KXEdyd",
        "colab_type": "code",
        "outputId": "080b6527-690e-4cd4-9f95-117f011a6e78",
        "colab": {
          "base_uri": "https://localhost:8080/",
          "height": 473
        }
      },
      "source": [
        "electra_model = Electra()\n",
        "electra_cb = ElectraCallback(electra_model, \n",
        "                             mask_tok_id=hf_tokenizer.mask_token_id, \n",
        "                             special_tok_ids=hf_tokenizer.all_special_ids, \n",
        "                             vocab_size=hf_tokenizer.vocab_size)\n",
        "learn = Learner(dls, electra_model,  \n",
        "                loss_func=CrossEntropyLossFlat(), \n",
        "                metrics=accuracy,\n",
        "                opt_func=ranger,\n",
        "                cbs=[electra_cb])\n",
        "\n",
        "# help you find the best learning rate for \"one cycle learning rate schedule\"\n",
        "# # the graph below is the result of learning rate finding\n",
        "lr, _ = learn.lr_find()\n",
        "\n",
        "\"\"\" !!Note !!\n",
        "The loss is very large because Electra scales the discriminator loss by 50.\n",
        "\"\"\"\n",
        "\"\"\" !! Note !!\n",
        "to_fp16 give us nan loss, which is something we need to work on. \n",
        "\"\"\"\n",
        "learn.fit_one_cycle(5, lr)"
      ],
      "execution_count": 10,
      "outputs": [
        {
          "output_type": "display_data",
          "data": {
            "text/html": [
              ""
            ],
            "text/plain": [
              "<IPython.core.display.HTML object>"
            ]
          },
          "metadata": {
            "tags": []
          }
        },
        {
          "output_type": "display_data",
          "data": {
            "text/html": [
              "<table border=\"1\" class=\"dataframe\">\n",
              "  <thead>\n",
              "    <tr style=\"text-align: left;\">\n",
              "      <th>epoch</th>\n",
              "      <th>train_loss</th>\n",
              "      <th>valid_loss</th>\n",
              "      <th>accuracy</th>\n",
              "      <th>time</th>\n",
              "    </tr>\n",
              "  </thead>\n",
              "  <tbody>\n",
              "    <tr>\n",
              "      <td>0</td>\n",
              "      <td>14.003988</td>\n",
              "      <td>9.460391</td>\n",
              "      <td>0.013130</td>\n",
              "      <td>02:42</td>\n",
              "    </tr>\n",
              "    <tr>\n",
              "      <td>1</td>\n",
              "      <td>7.172625</td>\n",
              "      <td>8.277151</td>\n",
              "      <td>0.019001</td>\n",
              "      <td>02:39</td>\n",
              "    </tr>\n",
              "    <tr>\n",
              "      <td>2</td>\n",
              "      <td>6.162571</td>\n",
              "      <td>7.186342</td>\n",
              "      <td>0.021574</td>\n",
              "      <td>02:41</td>\n",
              "    </tr>\n",
              "    <tr>\n",
              "      <td>3</td>\n",
              "      <td>5.660172</td>\n",
              "      <td>5.999909</td>\n",
              "      <td>0.024090</td>\n",
              "      <td>02:41</td>\n",
              "    </tr>\n",
              "    <tr>\n",
              "      <td>4</td>\n",
              "      <td>5.515151</td>\n",
              "      <td>5.954509</td>\n",
              "      <td>0.024730</td>\n",
              "      <td>02:40</td>\n",
              "    </tr>\n",
              "  </tbody>\n",
              "</table>"
            ],
            "text/plain": [
              "<IPython.core.display.HTML object>"
            ]
          },
          "metadata": {
            "tags": []
          }
        },
        {
          "output_type": "display_data",
          "data": {
            "image/png": "[encoded data removed]",
            "text/plain": [
              "<Figure size 432x288 with 1 Axes>"
            ]
          },
          "metadata": {
            "tags": [],
            "needs_background": "light"
          }
        }
      ]
    }
  ]
}