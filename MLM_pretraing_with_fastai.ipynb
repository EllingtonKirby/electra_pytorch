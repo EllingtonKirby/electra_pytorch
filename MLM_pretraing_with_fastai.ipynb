{
  "nbformat": 4,
  "nbformat_minor": 0,
  "metadata": {
    "colab": {
      "name": "MLM pretraing with fastai.ipynb",
      "provenance": [],
      "collapsed_sections": []
    },
    "kernelspec": {
      "name": "python3",
      "display_name": "Python 3"
    },
    "accelerator": "GPU"
  },
  "cells": [
    {
      "cell_type": "code",
      "metadata": {
        "id": "WoNmhVdE16ZS",
        "colab_type": "code",
        "colab": {
          "base_uri": "https://localhost:8080/",
          "height": 73
        },
        "outputId": "50543971-5df2-4460-af35-1cda349c3be6"
      },
      "source": [
        "!git clone https://github.com/richardyy1188/Pretrain-MLM-and-finetune-on-GLUE-with-fastai.git\n",
        "%cd Pretrain-MLM-and-finetune-on-GLUE-with-fastai\n",
        "%pip install -q fastai2 transformers"
      ],
      "execution_count": 1,
      "outputs": [
        {
          "output_type": "stream",
          "text": [
            "fatal: destination path 'Pretrain-MLM-and-finetune-on-GLUE-with-fastai' already exists and is not an empty directory.\n",
            "/content/Pretrain-MLM-and-finetune-on-GLUE-with-fastai\n"
          ],
          "name": "stdout"
        }
      ]
    },
    {
      "cell_type": "code",
      "metadata": {
        "id": "aQ8Soxgm3KYS",
        "colab_type": "code",
        "colab": {}
      },
      "source": [
        "from IPython.core.debugger import set_trace as bk\n",
        "from pathlib import Path\n",
        "import pandas as pd\n",
        "import torch\n",
        "from torch import nn\n",
        "from fastai2.text.all import *\n",
        "from transformers import DistilBertModel, DistilBertConfig, DistilBertTokenizer\n",
        "pretrained_model_name='distilbert-base-cased' # see https://huggingface.co/transformers/pretrained_models.html\n",
        "hf_tokenizer = DistilBertTokenizer.from_pretrained(pretrained_model_name)\n",
        "from _utils.demo_data import load_demo_dataframe\n",
        "from _utils.hf_transformers_integration import HF_Tokenizer, HF_TextBlock, HFModelWrapper"
      ],
      "execution_count": 0,
      "outputs": []
    },
    {
      "cell_type": "markdown",
      "metadata": {
        "id": "ybfE1Pnc3drg",
        "colab_type": "text"
      },
      "source": [
        "# 1. Load Data"
      ]
    },
    {
      "cell_type": "markdown",
      "metadata": {
        "id": "6mX84Ayv3kFb",
        "colab_type": "text"
      },
      "source": [
        "**Prepare source dataframe**"
      ]
    },
    {
      "cell_type": "code",
      "metadata": {
        "id": "AZ8kHza3CLHp",
        "colab_type": "code",
        "outputId": "bbd98324-c443-4930-ae02-4d440dd4ae95",
        "colab": {
          "base_uri": "https://localhost:8080/",
          "height": 241
        }
      },
      "source": [
        "df = load_demo_dataframe()\n",
        "df.head()"
      ],
      "execution_count": 3,
      "outputs": [
        {
          "output_type": "execute_result",
          "data": {
            "text/html": [
              "<div>\n",
              "<style scoped>\n",
              "    .dataframe tbody tr th:only-of-type {\n",
              "        vertical-align: middle;\n",
              "    }\n",
              "\n",
              "    .dataframe tbody tr th {\n",
              "        vertical-align: top;\n",
              "    }\n",
              "\n",
              "    .dataframe thead th {\n",
              "        text-align: right;\n",
              "    }\n",
              "</style>\n",
              "<table border=\"1\" class=\"dataframe\">\n",
              "  <thead>\n",
              "    <tr style=\"text-align: right;\">\n",
              "      <th></th>\n",
              "      <th>text</th>\n",
              "      <th>is_valid</th>\n",
              "    </tr>\n",
              "  </thead>\n",
              "  <tbody>\n",
              "    <tr>\n",
              "      <th>0</th>\n",
              "      <td>Out of his box the Jack popped his head . The funny , black fringe of whiskers around his face jiggled up and down . His queer , big eyes looked around the store .</td>\n",
              "      <td>False</td>\n",
              "    </tr>\n",
              "    <tr>\n",
              "      <th>1</th>\n",
              "      <td>\" Hurray ! \" cried the Jack in the Box . \" We are alone at last and now we can have some fun ! Hurray ! \"</td>\n",
              "      <td>False</td>\n",
              "    </tr>\n",
              "    <tr>\n",
              "      <th>2</th>\n",
              "      <td>\" Are you sure ? \" asked a Bold Tin Soldier , who stood at the head of a company of his men in a large box .</td>\n",
              "      <td>False</td>\n",
              "    </tr>\n",
              "    <tr>\n",
              "      <th>3</th>\n",
              "      <td>\" Am I sure of what ? \" inquired the Jack , as he swung to and fro on the spring which made him pop out of the box .</td>\n",
              "      <td>False</td>\n",
              "    </tr>\n",
              "    <tr>\n",
              "      <th>4</th>\n",
              "      <td>\" Are you sure we are alone ? \" went on the Soldier . \" It would be too bad if we should come to life when any one could see us . \"</td>\n",
              "      <td>False</td>\n",
              "    </tr>\n",
              "  </tbody>\n",
              "</table>\n",
              "</div>"
            ],
            "text/plain": [
              "                                                                                                                                                                  text  is_valid\n",
              "0  Out of his box the Jack popped his head . The funny , black fringe of whiskers around his face jiggled up and down . His queer , big eyes looked around the store .     False\n",
              "1                                                            \" Hurray ! \" cried the Jack in the Box . \" We are alone at last and now we can have some fun ! Hurray ! \"     False\n",
              "2                                                         \" Are you sure ? \" asked a Bold Tin Soldier , who stood at the head of a company of his men in a large box .     False\n",
              "3                                                 \" Am I sure of what ? \" inquired the Jack , as he swung to and fro on the spring which made him pop out of the box .     False\n",
              "4                                  \" Are you sure we are alone ? \" went on the Soldier . \" It would be too bad if we should come to life when any one could see us . \"     False"
            ]
          },
          "metadata": {
            "tags": []
          },
          "execution_count": 3
        }
      ]
    },
    {
      "cell_type": "markdown",
      "metadata": {
        "id": "LlrcsANr7SCj",
        "colab_type": "text"
      },
      "source": [
        "**DataLoaders**"
      ]
    },
    {
      "cell_type": "code",
      "metadata": {
        "id": "m-DmkQ5a7aHA",
        "colab_type": "code",
        "outputId": "d119706e-57d7-4047-95ed-21027ff9dc36",
        "colab": {
          "base_uri": "https://localhost:8080/",
          "height": 251
        }
      },
      "source": [
        "db = DataBlock(splitter=ColSplitter(),\n",
        "              blocks=HF_TextBlock.from_df('text', hf_tokenizer),\n",
        "              get_x=ColReader('text'),)\n",
        "\"\"\" Note:\n",
        "If you don't cancel pad first, you will get input with variable number of pad before sentence.\n",
        "like 'pad ... pad pad I am input x pad .. pad pad'\n",
        "Which you may cause add wrong position's position embeddings when using transformer architecture\n",
        "\"\"\"\n",
        "dls = db.dataloaders(df, shuffle_train=False, pad_first=False)\n",
        "\"\"\" Note:\n",
        "fastai wiil assure data and model are on the same device, so we just need to specify device for dataloaders,\n",
        "and fastai will infer and move model to that device.\n",
        "\"\"\"\n",
        "if torch.cuda.is_available(): dls.cuda() \n",
        "dls.show_batch(max_n=2)"
      ],
      "execution_count": 4,
      "outputs": [
        {
          "output_type": "display_data",
          "data": {
            "text/html": [
              ""
            ],
            "text/plain": [
              "<IPython.core.display.HTML object>"
            ]
          },
          "metadata": {
            "tags": []
          }
        },
        {
          "output_type": "display_data",
          "data": {
            "text/html": [
              "<table border=\"1\" class=\"dataframe\">\n",
              "  <thead>\n",
              "    <tr style=\"text-align: right;\">\n",
              "      <th></th>\n",
              "      <th>text</th>\n",
              "    </tr>\n",
              "  </thead>\n",
              "  <tbody>\n",
              "    <tr>\n",
              "      <th>0</th>\n",
              "      <td>[CLS] \" Dear Mother : I am so glad you have the sixty - five dollars , for then you will not have to work so hard , and can take a little rest . It was so good of Uncle Jack to send it to you . I feel so much better now that you have this money . You will not have to worry so much . I am working hard myself , but I like it , and I will save all I can and send all I can spare to you . Take good care of the money and do n ' t lose it , for you may never have as much again . I am very lone ##some and wish I could see you , but I know the rest will do you good . With lots of love . \" [SEP]</td>\n",
              "    </tr>\n",
              "    <tr>\n",
              "      <th>1</th>\n",
              "      <td>[CLS] \" Looks that way , \" replied the fore ##man . \" I guess he must have drunk some water that had a bit of &lt; un ##k &gt; meat in it . You see , \" he went on to the doctor , Mr . Martin and the children , \" we have a lot of wolves and other &lt; un ##k &gt; animals around here . They ' re too &lt; un ##k &gt; to catch in traps or shoot , so we poison ' em by putting a white powder in some meat . Sometimes the wolves will drag a piece of the &lt; un ##k &gt; meat to a spring of water , and they must have done it this time . Then the p ##ony drank the water and it made him sick . \" [SEP] [PAD] [PAD] [PAD] [PAD] [PAD] [PAD]</td>\n",
              "    </tr>\n",
              "  </tbody>\n",
              "</table>"
            ],
            "text/plain": [
              "<IPython.core.display.HTML object>"
            ]
          },
          "metadata": {
            "tags": []
          }
        }
      ]
    },
    {
      "cell_type": "markdown",
      "metadata": {
        "id": "dpMVEa7TELoR",
        "colab_type": "text"
      },
      "source": [
        "# 2. Masked language model objective"
      ]
    },
    {
      "cell_type": "markdown",
      "metadata": {
        "id": "UibFtqoMoayu",
        "colab_type": "text"
      },
      "source": [
        "## 2.1 MLM objective callback"
      ]
    },
    {
      "cell_type": "code",
      "metadata": {
        "id": "wd88gnpqENpy",
        "colab_type": "code",
        "colab": {}
      },
      "source": [
        "# https://github.com/huggingface/transformers/blob/1789c7daf1b8013006b0aef6cb1b8f80573031c5/examples/run_language_modeling.py#L179\n",
        "def mask_tokens(inputs, mask_token_index, vocab_size, special_token_indices, mlm_probability=0.15, ignore_index=-100):\n",
        "  \"\"\" Prepare masked tokens inputs/labels for masked language modeling: 80% MASK, 10% random, 10% original. \"\"\"\n",
        "  \"ignore_index in nn.CrossEntropy is default to -100, so you don't need to specify ignore_index in loss\"\n",
        "  \n",
        "  assert len(inputs.shape)==2, \"Assume input shape of (batch_size, sequence_length)\"\n",
        "  labels = inputs.clone()\n",
        "  \n",
        "  # We sample a few tokens in each sequence for masked-LM training (with probability mlm_probability defaults to 0.15 in Bert/RoBERTa)\n",
        "  probability_matrix = torch.full(labels.shape, mlm_probability)\n",
        "  special_tokens_mask = torch.tensor([\n",
        "    [i in special_token_indices for i in sample] for sample in labels\n",
        "  ], dtype=torch.bool)\n",
        "  probability_matrix.masked_fill_(special_tokens_mask, value=0.0)\n",
        "  mlm_mask = torch.bernoulli(probability_matrix).bool()\n",
        "  labels[~mlm_mask] = ignore_index  # We only compute loss on masked tokens\n",
        "  \n",
        "  # 80% of the time, we replace masked input tokens with mask_token\n",
        "  mask_token_mask = torch.bernoulli(torch.full(labels.shape, 0.8)).bool() & mlm_mask\n",
        "  inputs[mask_token_mask] = mask_token_index\n",
        "  \n",
        "  # 10% of the time, we replace masked input tokens with random word\n",
        "  replace_token_mask = torch.bernoulli(torch.full(labels.shape, 0.5)).bool() & mlm_mask & ~mask_token_mask\n",
        "  random_words = torch.randint(vocab_size, labels.shape, dtype=torch.long, device=inputs.device)\n",
        "  inputs[replace_token_mask] = random_words[replace_token_mask]\n",
        "\n",
        "  # The rest of the time (10% of the time) we keep the masked input tokens unchanged\n",
        "  return inputs, labels\n",
        "\n",
        "class MaskedLanguageModel(Callback):\n",
        "  @delegates(mask_tokens)\n",
        "  def __init__(self, mask_tok_id, special_tok_ids, vocab_size, **kwargs):\n",
        "    self.mask_tokens = partial(mask_tokens,\n",
        "                               mask_token_index=mask_tok_id,\n",
        "                               special_token_indices=special_tok_ids,\n",
        "                               vocab_size=vocab_size,\n",
        "                               **kwargs)\n",
        "\n",
        "  def begin_batch(self):\n",
        "    text_indices = self.xb[0]\n",
        "    masked_inputs, labels = self.mask_tokens(text_indices)\n",
        "    self.learn.xb, self.learn.yb = (masked_inputs,), (labels,)"
      ],
      "execution_count": 0,
      "outputs": []
    },
    {
      "cell_type": "markdown",
      "metadata": {
        "id": "YNVV4BrVI6SE",
        "colab_type": "text"
      },
      "source": [
        "## 2.2 Train"
      ]
    },
    {
      "cell_type": "code",
      "metadata": {
        "id": "moNwPQaOL3H7",
        "colab_type": "code",
        "outputId": "141c4d3d-8e9c-43ec-9fa2-47412aaea8b6",
        "colab": {
          "base_uri": "https://localhost:8080/",
          "height": 472
        }
      },
      "source": [
        "model = nn.Sequential(HFModelWrapper(DistilBertModel.from_pretrained(pretrained_model_name),hf_tokenizer.pad_token_id),\n",
        "                      nn.Linear(768, hf_tokenizer.vocab_size))\n",
        "\n",
        "mlm_cb = MaskedLanguageModel(mask_tok_id=hf_tokenizer.mask_token_id, \n",
        "                             special_tok_ids=hf_tokenizer.all_special_ids, \n",
        "                             vocab_size=hf_tokenizer.vocab_size)\n",
        "learn = Learner(dls, model,  \n",
        "                loss_func=CrossEntropyLossFlat(), \n",
        "                metrics=accuracy,\n",
        "                opt_func=ranger,\n",
        "                cbs=[mlm_cb])\n",
        "\n",
        "# help you find the best learning rate for \"one cycle learning rate schedule\"\n",
        "# the graph below is the result of learning rate finding\n",
        "lr, _ = learn.lr_find()\n",
        "\n",
        "\"\"\" !! Note !!\n",
        "Although the accuracy is not like a pretrained model should achieve, \n",
        "but note that we mount an untrained one layer prediction head (output layer). \n",
        "\"\"\"\n",
        "\"\"\" !! Note !!\n",
        "to_fp16 give us nan loss, which is something we need to work on. \n",
        "\"\"\"\n",
        "learn.fit_one_cycle(5, lr) "
      ],
      "execution_count": 6,
      "outputs": [
        {
          "output_type": "display_data",
          "data": {
            "text/html": [
              ""
            ],
            "text/plain": [
              "<IPython.core.display.HTML object>"
            ]
          },
          "metadata": {
            "tags": []
          }
        },
        {
          "output_type": "display_data",
          "data": {
            "text/html": [
              "<table border=\"1\" class=\"dataframe\">\n",
              "  <thead>\n",
              "    <tr style=\"text-align: left;\">\n",
              "      <th>epoch</th>\n",
              "      <th>train_loss</th>\n",
              "      <th>valid_loss</th>\n",
              "      <th>accuracy</th>\n",
              "      <th>time</th>\n",
              "    </tr>\n",
              "  </thead>\n",
              "  <tbody>\n",
              "    <tr>\n",
              "      <td>0</td>\n",
              "      <td>5.490578</td>\n",
              "      <td>4.857467</td>\n",
              "      <td>0.039938</td>\n",
              "      <td>01:45</td>\n",
              "    </tr>\n",
              "    <tr>\n",
              "      <td>1</td>\n",
              "      <td>3.505973</td>\n",
              "      <td>6.361567</td>\n",
              "      <td>0.006354</td>\n",
              "      <td>01:45</td>\n",
              "    </tr>\n",
              "    <tr>\n",
              "      <td>2</td>\n",
              "      <td>2.916482</td>\n",
              "      <td>3.944067</td>\n",
              "      <td>0.044518</td>\n",
              "      <td>01:45</td>\n",
              "    </tr>\n",
              "    <tr>\n",
              "      <td>3</td>\n",
              "      <td>2.450524</td>\n",
              "      <td>2.982636</td>\n",
              "      <td>0.063963</td>\n",
              "      <td>01:46</td>\n",
              "    </tr>\n",
              "    <tr>\n",
              "      <td>4</td>\n",
              "      <td>2.314176</td>\n",
              "      <td>2.817696</td>\n",
              "      <td>0.068535</td>\n",
              "      <td>01:45</td>\n",
              "    </tr>\n",
              "  </tbody>\n",
              "</table>"
            ],
            "text/plain": [
              "<IPython.core.display.HTML object>"
            ]
          },
          "metadata": {
            "tags": []
          }
        },
        {
          "output_type": "display_data",
          "data": {
            "image/png": "[encoded data removed]",
            "text/plain": [
              "<Figure size 432x288 with 1 Axes>"
            ]
          },
          "metadata": {
            "tags": [],
            "needs_background": "light"
          }
        }
      ]
    },
    {
      "cell_type": "markdown",
      "metadata": {
        "id": "RKEsfvdGt7Xw",
        "colab_type": "text"
      },
      "source": [
        "# 3. ELECTRA (replaced token detection objective)\n",
        "\n",
        "see details on arxiv [ELECTRA: Pre-training Text Encoders as Discriminators Rather Than Generators](https://arxiv.org/abs/2003.10555)"
      ]
    },
    {
      "cell_type": "code",
      "metadata": {
        "id": "cepbSbJ8l0Ua",
        "colab_type": "code",
        "colab": {}
      },
      "source": [
        "class Electra(nn.Module):\n",
        "  def __init__(self):\n",
        "    super().__init__()\n",
        "    self.generator = nn.Sequential(HFModelWrapper(DistilBertModel(DistilBertConfig(\n",
        "                                                  vocab_size=hf_tokenizer.vocab_size,\n",
        "                                                  n_layers=1,\n",
        "                                  )), pad_id=hf_tokenizer.pad_token_id),\n",
        "                     nn.Linear(768, hf_tokenizer.vocab_size))\n",
        "    self.discriminator = nn.Sequential(HFModelWrapper(DistilBertModel.from_pretrained(pretrained_model_name),hf_tokenizer.pad_token_id),\n",
        "                                      nn.Linear(768, 1))"
      ],
      "execution_count": 0,
      "outputs": []
    },
    {
      "cell_type": "code",
      "metadata": {
        "id": "Ov1WSwJ8zZN0",
        "colab_type": "code",
        "colab": {}
      },
      "source": [
        "class ElectraCallback(MaskedLanguageModel):\n",
        "  run_after=MixedPrecision # ???\n",
        "  @delegates(MaskedLanguageModel.__init__)\n",
        "  def __init__(self, electra_model, mask_tok_id, special_tok_ids, vocab_size, loss_weights=(1.0, 50.0), **kwargs):\n",
        "    super().__init__(mask_tok_id, special_tok_ids, vocab_size, **kwargs)\n",
        "    assert len(loss_weights)==2, 'loss_weights should contain element 0 and 1 for weight of generator loss and dicriminator loss respectively.'\n",
        "    store_attr(self, 'electra_model, mask_tok_id, loss_weights')\n",
        "    \"\"\"\n",
        "    This is equivalent of tf.nn.sigmoid_cross_entropy_with_logits, which is a sigmoid layer before cross entropy,\n",
        "    when value of targes is either 1.0 or 0.0 .\n",
        "    \"\"\"\n",
        "    self.discri_loss_func = nn.BCEWithLogitsLoss()\n",
        "  \n",
        "  def begin_fit(self):\n",
        "    for cb in self.cbs:\n",
        "      if isinstance(cb, MixedPrecision): self.fp16_cb = cb\n",
        "  def after_fit(self):\n",
        "    if hasattr(self, 'fp16_cb'): delattr(self, 'fp16_cb')\n",
        "\n",
        "  def after_loss(self):\n",
        "    # prepare discriminator's inputs and labels\n",
        "    masked_inputs, labels = self.xb[0], self.yb[0] # both (batch size, sequence length)\n",
        "    masked_pos_mask = masked_inputs == self.mask_tok_id # 1 for masked position, 0 for the others\n",
        "    pred_toks = self.pred.argmax(dim=-1)\n",
        "    generated = masked_inputs + masked_pos_mask * pred_toks # use predicted token to fill masked position\n",
        "    replaced = (masked_pos_mask & (pred_toks != labels))  # is masked token and not equal to predicted\n",
        "    \n",
        "    discri_pred = self.electra_model.discriminator(generated).to(dtype=self.pred.dtype) # (bs, seq_len, 1)\n",
        "    discri_pred = discri_pred.squeeze(-1) # (bs, seq_len)\n",
        "    if hasattr(self, 'fp16_cb'): discri_pred = to_float(discri_pred)\n",
        "    discri_loss = self.discri_loss_func(discri_pred, replaced.to(dtype=discri_pred.dtype))\n",
        "    if hasattr(self, 'fp16_cb'): discri_loss *= self.fp16_cb.loss_scale\n",
        "    self.learn.loss = torch.stack([self.loss, discri_loss]).matmul(torch.tensor(self.loss_weights, dtype=self.loss.dtype, device=self.loss.device))\n",
        "\n",
        "    self.learn.model = self.electra_model\n",
        "\n",
        "  def begin_batch(self):\n",
        "    super().begin_batch() # -> self.xb, self.yb = (masked_inputs,),(answers,)\n",
        "    self.learn.model = self.electra_model.generator"
      ],
      "execution_count": 0,
      "outputs": []
    },
    {
      "cell_type": "code",
      "metadata": {
        "id": "x-8qo7KXEdyd",
        "colab_type": "code",
        "outputId": "6683de5c-6867-41cc-ba2f-d079b64a4457",
        "colab": {
          "base_uri": "https://localhost:8080/",
          "height": 472
        }
      },
      "source": [
        "electra_model = Electra()\n",
        "electra_cb = ElectraCallback(electra_model, \n",
        "                             mask_tok_id=hf_tokenizer.mask_token_id, \n",
        "                             special_tok_ids=hf_tokenizer.all_special_ids, \n",
        "                             vocab_size=hf_tokenizer.vocab_size)\n",
        "learn = Learner(dls, electra_model,  \n",
        "                loss_func=CrossEntropyLossFlat(), \n",
        "                metrics=accuracy,\n",
        "                opt_func=ranger,\n",
        "                cbs=[electra_cb])\n",
        "\n",
        "# help you find the best learning rate for \"one cycle learning rate schedule\"\n",
        "lr, _ = learn.lr_find()\n",
        "\n",
        "\"\"\" !!Note !!\n",
        "The loss is very large because Electra scales the discriminator loss by 50.\n",
        "\"\"\"\n",
        "\"\"\" !! Note !!\n",
        "to_fp16 give us nan loss, which is something we need to work on. \n",
        "\"\"\"\n",
        "learn.fit_one_cycle(5, lr)"
      ],
      "execution_count": 9,
      "outputs": [
        {
          "output_type": "display_data",
          "data": {
            "text/html": [
              ""
            ],
            "text/plain": [
              "<IPython.core.display.HTML object>"
            ]
          },
          "metadata": {
            "tags": []
          }
        },
        {
          "output_type": "display_data",
          "data": {
            "text/html": [
              "<table border=\"1\" class=\"dataframe\">\n",
              "  <thead>\n",
              "    <tr style=\"text-align: left;\">\n",
              "      <th>epoch</th>\n",
              "      <th>train_loss</th>\n",
              "      <th>valid_loss</th>\n",
              "      <th>accuracy</th>\n",
              "      <th>time</th>\n",
              "    </tr>\n",
              "  </thead>\n",
              "  <tbody>\n",
              "    <tr>\n",
              "      <td>0</td>\n",
              "      <td>11.152092</td>\n",
              "      <td>8.933139</td>\n",
              "      <td>0.011542</td>\n",
              "      <td>01:49</td>\n",
              "    </tr>\n",
              "    <tr>\n",
              "      <td>1</td>\n",
              "      <td>20.357895</td>\n",
              "      <td>23.097658</td>\n",
              "      <td>0.015984</td>\n",
              "      <td>01:49</td>\n",
              "    </tr>\n",
              "    <tr>\n",
              "      <td>2</td>\n",
              "      <td>19.169250</td>\n",
              "      <td>21.986542</td>\n",
              "      <td>0.020290</td>\n",
              "      <td>01:49</td>\n",
              "    </tr>\n",
              "    <tr>\n",
              "      <td>3</td>\n",
              "      <td>18.833910</td>\n",
              "      <td>20.073820</td>\n",
              "      <td>0.030377</td>\n",
              "      <td>01:49</td>\n",
              "    </tr>\n",
              "    <tr>\n",
              "      <td>4</td>\n",
              "      <td>18.431017</td>\n",
              "      <td>19.611004</td>\n",
              "      <td>0.033630</td>\n",
              "      <td>01:49</td>\n",
              "    </tr>\n",
              "  </tbody>\n",
              "</table>"
            ],
            "text/plain": [
              "<IPython.core.display.HTML object>"
            ]
          },
          "metadata": {
            "tags": []
          }
        },
        {
          "output_type": "display_data",
          "data": {
            "image/png": "[encoded data removed]",
            "text/plain": [
              "<Figure size 432x288 with 1 Axes>"
            ]
          },
          "metadata": {
            "tags": [],
            "needs_background": "light"
          }
        }
      ]
    },
    {
      "cell_type": "code",
      "metadata": {
        "id": "ZHzCkxCxPj-x",
        "colab_type": "code",
        "colab": {}
      },
      "source": [
        ""
      ],
      "execution_count": 0,
      "outputs": []
    }
  ]
}