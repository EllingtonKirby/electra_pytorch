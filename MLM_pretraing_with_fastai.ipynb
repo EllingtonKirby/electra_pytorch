{
  "nbformat": 4,
  "nbformat_minor": 0,
  "metadata": {
    "colab": {
      "name": "MLM_pretraing_with_fastai.ipynb",
      "provenance": [],
      "collapsed_sections": []
    },
    "kernelspec": {
      "name": "python3",
      "display_name": "Python 3"
    },
    "accelerator": "GPU",
    "widgets": {
      "application/vnd.jupyter.widget-state+json": {
        "bd76138e71ce4dac808ccdd067d10e5b": {
          "model_module": "@jupyter-widgets/controls",
          "model_name": "HBoxModel",
          "state": {
            "_view_name": "HBoxView",
            "_dom_classes": [],
            "_model_name": "HBoxModel",
            "_view_module": "@jupyter-widgets/controls",
            "_model_module_version": "1.5.0",
            "_view_count": null,
            "_view_module_version": "1.5.0",
            "box_style": "",
            "layout": "IPY_MODEL_49e43735517543e0bdc6414bed259d2b",
            "_model_module": "@jupyter-widgets/controls",
            "children": [
              "IPY_MODEL_0f4da9cdc0b64256a5cc9c92e427edbc",
              "IPY_MODEL_1e46f252300e4aa687a59db11ddfd70f"
            ]
          }
        },
        "49e43735517543e0bdc6414bed259d2b": {
          "model_module": "@jupyter-widgets/base",
          "model_name": "LayoutModel",
          "state": {
            "_view_name": "LayoutView",
            "grid_template_rows": null,
            "right": null,
            "justify_content": null,
            "_view_module": "@jupyter-widgets/base",
            "overflow": null,
            "_model_module_version": "1.2.0",
            "_view_count": null,
            "flex_flow": null,
            "width": null,
            "min_width": null,
            "border": null,
            "align_items": null,
            "bottom": null,
            "_model_module": "@jupyter-widgets/base",
            "top": null,
            "grid_column": null,
            "overflow_y": null,
            "overflow_x": null,
            "grid_auto_flow": null,
            "grid_area": null,
            "grid_template_columns": null,
            "flex": null,
            "_model_name": "LayoutModel",
            "justify_items": null,
            "grid_row": null,
            "max_height": null,
            "align_content": null,
            "visibility": null,
            "align_self": null,
            "height": null,
            "min_height": null,
            "padding": null,
            "grid_auto_rows": null,
            "grid_gap": null,
            "max_width": null,
            "order": null,
            "_view_module_version": "1.2.0",
            "grid_template_areas": null,
            "object_position": null,
            "object_fit": null,
            "grid_auto_columns": null,
            "margin": null,
            "display": null,
            "left": null
          }
        },
        "0f4da9cdc0b64256a5cc9c92e427edbc": {
          "model_module": "@jupyter-widgets/controls",
          "model_name": "FloatProgressModel",
          "state": {
            "_view_name": "ProgressView",
            "style": "IPY_MODEL_b61e1357165e4be68165fa87f4d5121d",
            "_dom_classes": [],
            "description": "Downloading: 100%",
            "_model_name": "FloatProgressModel",
            "bar_style": "success",
            "max": 231508,
            "_view_module": "@jupyter-widgets/controls",
            "_model_module_version": "1.5.0",
            "value": 231508,
            "_view_count": null,
            "_view_module_version": "1.5.0",
            "orientation": "horizontal",
            "min": 0,
            "description_tooltip": null,
            "_model_module": "@jupyter-widgets/controls",
            "layout": "IPY_MODEL_acf0b996dc3a47abaabecd2033f2c6b9"
          }
        },
        "1e46f252300e4aa687a59db11ddfd70f": {
          "model_module": "@jupyter-widgets/controls",
          "model_name": "HTMLModel",
          "state": {
            "_view_name": "HTMLView",
            "style": "IPY_MODEL_1099918fa72046f49bd62b8221765fda",
            "_dom_classes": [],
            "description": "",
            "_model_name": "HTMLModel",
            "placeholder": "​",
            "_view_module": "@jupyter-widgets/controls",
            "_model_module_version": "1.5.0",
            "value": " 232k/232k [00:00&lt;00:00, 777kB/s]",
            "_view_count": null,
            "_view_module_version": "1.5.0",
            "description_tooltip": null,
            "_model_module": "@jupyter-widgets/controls",
            "layout": "IPY_MODEL_3679557ac661458d9d8e4bf46633964f"
          }
        },
        "b61e1357165e4be68165fa87f4d5121d": {
          "model_module": "@jupyter-widgets/controls",
          "model_name": "ProgressStyleModel",
          "state": {
            "_view_name": "StyleView",
            "_model_name": "ProgressStyleModel",
            "description_width": "initial",
            "_view_module": "@jupyter-widgets/base",
            "_model_module_version": "1.5.0",
            "_view_count": null,
            "_view_module_version": "1.2.0",
            "bar_color": null,
            "_model_module": "@jupyter-widgets/controls"
          }
        },
        "acf0b996dc3a47abaabecd2033f2c6b9": {
          "model_module": "@jupyter-widgets/base",
          "model_name": "LayoutModel",
          "state": {
            "_view_name": "LayoutView",
            "grid_template_rows": null,
            "right": null,
            "justify_content": null,
            "_view_module": "@jupyter-widgets/base",
            "overflow": null,
            "_model_module_version": "1.2.0",
            "_view_count": null,
            "flex_flow": null,
            "width": null,
            "min_width": null,
            "border": null,
            "align_items": null,
            "bottom": null,
            "_model_module": "@jupyter-widgets/base",
            "top": null,
            "grid_column": null,
            "overflow_y": null,
            "overflow_x": null,
            "grid_auto_flow": null,
            "grid_area": null,
            "grid_template_columns": null,
            "flex": null,
            "_model_name": "LayoutModel",
            "justify_items": null,
            "grid_row": null,
            "max_height": null,
            "align_content": null,
            "visibility": null,
            "align_self": null,
            "height": null,
            "min_height": null,
            "padding": null,
            "grid_auto_rows": null,
            "grid_gap": null,
            "max_width": null,
            "order": null,
            "_view_module_version": "1.2.0",
            "grid_template_areas": null,
            "object_position": null,
            "object_fit": null,
            "grid_auto_columns": null,
            "margin": null,
            "display": null,
            "left": null
          }
        },
        "1099918fa72046f49bd62b8221765fda": {
          "model_module": "@jupyter-widgets/controls",
          "model_name": "DescriptionStyleModel",
          "state": {
            "_view_name": "StyleView",
            "_model_name": "DescriptionStyleModel",
            "description_width": "",
            "_view_module": "@jupyter-widgets/base",
            "_model_module_version": "1.5.0",
            "_view_count": null,
            "_view_module_version": "1.2.0",
            "_model_module": "@jupyter-widgets/controls"
          }
        },
        "3679557ac661458d9d8e4bf46633964f": {
          "model_module": "@jupyter-widgets/base",
          "model_name": "LayoutModel",
          "state": {
            "_view_name": "LayoutView",
            "grid_template_rows": null,
            "right": null,
            "justify_content": null,
            "_view_module": "@jupyter-widgets/base",
            "overflow": null,
            "_model_module_version": "1.2.0",
            "_view_count": null,
            "flex_flow": null,
            "width": null,
            "min_width": null,
            "border": null,
            "align_items": null,
            "bottom": null,
            "_model_module": "@jupyter-widgets/base",
            "top": null,
            "grid_column": null,
            "overflow_y": null,
            "overflow_x": null,
            "grid_auto_flow": null,
            "grid_area": null,
            "grid_template_columns": null,
            "flex": null,
            "_model_name": "LayoutModel",
            "justify_items": null,
            "grid_row": null,
            "max_height": null,
            "align_content": null,
            "visibility": null,
            "align_self": null,
            "height": null,
            "min_height": null,
            "padding": null,
            "grid_auto_rows": null,
            "grid_gap": null,
            "max_width": null,
            "order": null,
            "_view_module_version": "1.2.0",
            "grid_template_areas": null,
            "object_position": null,
            "object_fit": null,
            "grid_auto_columns": null,
            "margin": null,
            "display": null,
            "left": null
          }
        },
        "9a027a9493524ae1a4d978f96ec1eae1": {
          "model_module": "@jupyter-widgets/controls",
          "model_name": "HBoxModel",
          "state": {
            "_view_name": "HBoxView",
            "_dom_classes": [],
            "_model_name": "HBoxModel",
            "_view_module": "@jupyter-widgets/controls",
            "_model_module_version": "1.5.0",
            "_view_count": null,
            "_view_module_version": "1.5.0",
            "box_style": "",
            "layout": "IPY_MODEL_0b56d9b4f6954614911a15124554b7c8",
            "_model_module": "@jupyter-widgets/controls",
            "children": [
              "IPY_MODEL_51ab38d4c6744cc0acf3980a3b42276b",
              "IPY_MODEL_a6e577e71e664b9d9b4f7a57f64e88c1"
            ]
          }
        },
        "0b56d9b4f6954614911a15124554b7c8": {
          "model_module": "@jupyter-widgets/base",
          "model_name": "LayoutModel",
          "state": {
            "_view_name": "LayoutView",
            "grid_template_rows": null,
            "right": null,
            "justify_content": null,
            "_view_module": "@jupyter-widgets/base",
            "overflow": null,
            "_model_module_version": "1.2.0",
            "_view_count": null,
            "flex_flow": null,
            "width": null,
            "min_width": null,
            "border": null,
            "align_items": null,
            "bottom": null,
            "_model_module": "@jupyter-widgets/base",
            "top": null,
            "grid_column": null,
            "overflow_y": null,
            "overflow_x": null,
            "grid_auto_flow": null,
            "grid_area": null,
            "grid_template_columns": null,
            "flex": null,
            "_model_name": "LayoutModel",
            "justify_items": null,
            "grid_row": null,
            "max_height": null,
            "align_content": null,
            "visibility": null,
            "align_self": null,
            "height": null,
            "min_height": null,
            "padding": null,
            "grid_auto_rows": null,
            "grid_gap": null,
            "max_width": null,
            "order": null,
            "_view_module_version": "1.2.0",
            "grid_template_areas": null,
            "object_position": null,
            "object_fit": null,
            "grid_auto_columns": null,
            "margin": null,
            "display": null,
            "left": null
          }
        },
        "51ab38d4c6744cc0acf3980a3b42276b": {
          "model_module": "@jupyter-widgets/controls",
          "model_name": "FloatProgressModel",
          "state": {
            "_view_name": "ProgressView",
            "style": "IPY_MODEL_3e7253009d79465194508991521572ed",
            "_dom_classes": [],
            "description": "Downloading: 100%",
            "_model_name": "FloatProgressModel",
            "bar_style": "success",
            "max": 463,
            "_view_module": "@jupyter-widgets/controls",
            "_model_module_version": "1.5.0",
            "value": 463,
            "_view_count": null,
            "_view_module_version": "1.5.0",
            "orientation": "horizontal",
            "min": 0,
            "description_tooltip": null,
            "_model_module": "@jupyter-widgets/controls",
            "layout": "IPY_MODEL_32a3b8ee47e84067aaeb6f662d178981"
          }
        },
        "a6e577e71e664b9d9b4f7a57f64e88c1": {
          "model_module": "@jupyter-widgets/controls",
          "model_name": "HTMLModel",
          "state": {
            "_view_name": "HTMLView",
            "style": "IPY_MODEL_535400d1451e4e0cbb420a1d07e0483a",
            "_dom_classes": [],
            "description": "",
            "_model_name": "HTMLModel",
            "placeholder": "​",
            "_view_module": "@jupyter-widgets/controls",
            "_model_module_version": "1.5.0",
            "value": " 463/463 [00:02&lt;00:00, 211B/s]",
            "_view_count": null,
            "_view_module_version": "1.5.0",
            "description_tooltip": null,
            "_model_module": "@jupyter-widgets/controls",
            "layout": "IPY_MODEL_f839a32d53884f54ae9b4c977ff1fb38"
          }
        },
        "3e7253009d79465194508991521572ed": {
          "model_module": "@jupyter-widgets/controls",
          "model_name": "ProgressStyleModel",
          "state": {
            "_view_name": "StyleView",
            "_model_name": "ProgressStyleModel",
            "description_width": "initial",
            "_view_module": "@jupyter-widgets/base",
            "_model_module_version": "1.5.0",
            "_view_count": null,
            "_view_module_version": "1.2.0",
            "bar_color": null,
            "_model_module": "@jupyter-widgets/controls"
          }
        },
        "32a3b8ee47e84067aaeb6f662d178981": {
          "model_module": "@jupyter-widgets/base",
          "model_name": "LayoutModel",
          "state": {
            "_view_name": "LayoutView",
            "grid_template_rows": null,
            "right": null,
            "justify_content": null,
            "_view_module": "@jupyter-widgets/base",
            "overflow": null,
            "_model_module_version": "1.2.0",
            "_view_count": null,
            "flex_flow": null,
            "width": null,
            "min_width": null,
            "border": null,
            "align_items": null,
            "bottom": null,
            "_model_module": "@jupyter-widgets/base",
            "top": null,
            "grid_column": null,
            "overflow_y": null,
            "overflow_x": null,
            "grid_auto_flow": null,
            "grid_area": null,
            "grid_template_columns": null,
            "flex": null,
            "_model_name": "LayoutModel",
            "justify_items": null,
            "grid_row": null,
            "max_height": null,
            "align_content": null,
            "visibility": null,
            "align_self": null,
            "height": null,
            "min_height": null,
            "padding": null,
            "grid_auto_rows": null,
            "grid_gap": null,
            "max_width": null,
            "order": null,
            "_view_module_version": "1.2.0",
            "grid_template_areas": null,
            "object_position": null,
            "object_fit": null,
            "grid_auto_columns": null,
            "margin": null,
            "display": null,
            "left": null
          }
        },
        "535400d1451e4e0cbb420a1d07e0483a": {
          "model_module": "@jupyter-widgets/controls",
          "model_name": "DescriptionStyleModel",
          "state": {
            "_view_name": "StyleView",
            "_model_name": "DescriptionStyleModel",
            "description_width": "",
            "_view_module": "@jupyter-widgets/base",
            "_model_module_version": "1.5.0",
            "_view_count": null,
            "_view_module_version": "1.2.0",
            "_model_module": "@jupyter-widgets/controls"
          }
        },
        "f839a32d53884f54ae9b4c977ff1fb38": {
          "model_module": "@jupyter-widgets/base",
          "model_name": "LayoutModel",
          "state": {
            "_view_name": "LayoutView",
            "grid_template_rows": null,
            "right": null,
            "justify_content": null,
            "_view_module": "@jupyter-widgets/base",
            "overflow": null,
            "_model_module_version": "1.2.0",
            "_view_count": null,
            "flex_flow": null,
            "width": null,
            "min_width": null,
            "border": null,
            "align_items": null,
            "bottom": null,
            "_model_module": "@jupyter-widgets/base",
            "top": null,
            "grid_column": null,
            "overflow_y": null,
            "overflow_x": null,
            "grid_auto_flow": null,
            "grid_area": null,
            "grid_template_columns": null,
            "flex": null,
            "_model_name": "LayoutModel",
            "justify_items": null,
            "grid_row": null,
            "max_height": null,
            "align_content": null,
            "visibility": null,
            "align_self": null,
            "height": null,
            "min_height": null,
            "padding": null,
            "grid_auto_rows": null,
            "grid_gap": null,
            "max_width": null,
            "order": null,
            "_view_module_version": "1.2.0",
            "grid_template_areas": null,
            "object_position": null,
            "object_fit": null,
            "grid_auto_columns": null,
            "margin": null,
            "display": null,
            "left": null
          }
        },
        "ec1c85340fb14071a2413df266ed445a": {
          "model_module": "@jupyter-widgets/controls",
          "model_name": "HBoxModel",
          "state": {
            "_view_name": "HBoxView",
            "_dom_classes": [],
            "_model_name": "HBoxModel",
            "_view_module": "@jupyter-widgets/controls",
            "_model_module_version": "1.5.0",
            "_view_count": null,
            "_view_module_version": "1.5.0",
            "box_style": "",
            "layout": "IPY_MODEL_51a33751b42e4d7bb74760d0d97bd916",
            "_model_module": "@jupyter-widgets/controls",
            "children": [
              "IPY_MODEL_96bb7ab31cec4713ae047990b00880c4",
              "IPY_MODEL_1b3ffb2194fb43aca8ce88d54e14bb34"
            ]
          }
        },
        "51a33751b42e4d7bb74760d0d97bd916": {
          "model_module": "@jupyter-widgets/base",
          "model_name": "LayoutModel",
          "state": {
            "_view_name": "LayoutView",
            "grid_template_rows": null,
            "right": null,
            "justify_content": null,
            "_view_module": "@jupyter-widgets/base",
            "overflow": null,
            "_model_module_version": "1.2.0",
            "_view_count": null,
            "flex_flow": null,
            "width": null,
            "min_width": null,
            "border": null,
            "align_items": null,
            "bottom": null,
            "_model_module": "@jupyter-widgets/base",
            "top": null,
            "grid_column": null,
            "overflow_y": null,
            "overflow_x": null,
            "grid_auto_flow": null,
            "grid_area": null,
            "grid_template_columns": null,
            "flex": null,
            "_model_name": "LayoutModel",
            "justify_items": null,
            "grid_row": null,
            "max_height": null,
            "align_content": null,
            "visibility": null,
            "align_self": null,
            "height": null,
            "min_height": null,
            "padding": null,
            "grid_auto_rows": null,
            "grid_gap": null,
            "max_width": null,
            "order": null,
            "_view_module_version": "1.2.0",
            "grid_template_areas": null,
            "object_position": null,
            "object_fit": null,
            "grid_auto_columns": null,
            "margin": null,
            "display": null,
            "left": null
          }
        },
        "96bb7ab31cec4713ae047990b00880c4": {
          "model_module": "@jupyter-widgets/controls",
          "model_name": "FloatProgressModel",
          "state": {
            "_view_name": "ProgressView",
            "style": "IPY_MODEL_02326672bf3841deb22a26061e38594f",
            "_dom_classes": [],
            "description": "Downloading: 100%",
            "_model_name": "FloatProgressModel",
            "bar_style": "success",
            "max": 54236116,
            "_view_module": "@jupyter-widgets/controls",
            "_model_module_version": "1.5.0",
            "value": 54236116,
            "_view_count": null,
            "_view_module_version": "1.5.0",
            "orientation": "horizontal",
            "min": 0,
            "description_tooltip": null,
            "_model_module": "@jupyter-widgets/controls",
            "layout": "IPY_MODEL_5b81f7b162f6461090c565f3a4937dfb"
          }
        },
        "1b3ffb2194fb43aca8ce88d54e14bb34": {
          "model_module": "@jupyter-widgets/controls",
          "model_name": "HTMLModel",
          "state": {
            "_view_name": "HTMLView",
            "style": "IPY_MODEL_6ae61afacd3c4d1cbabd80f16d005c48",
            "_dom_classes": [],
            "description": "",
            "_model_name": "HTMLModel",
            "placeholder": "​",
            "_view_module": "@jupyter-widgets/controls",
            "_model_module_version": "1.5.0",
            "value": " 54.2M/54.2M [00:01&lt;00:00, 45.1MB/s]",
            "_view_count": null,
            "_view_module_version": "1.5.0",
            "description_tooltip": null,
            "_model_module": "@jupyter-widgets/controls",
            "layout": "IPY_MODEL_4878073029114218a690cc2e356545f3"
          }
        },
        "02326672bf3841deb22a26061e38594f": {
          "model_module": "@jupyter-widgets/controls",
          "model_name": "ProgressStyleModel",
          "state": {
            "_view_name": "StyleView",
            "_model_name": "ProgressStyleModel",
            "description_width": "initial",
            "_view_module": "@jupyter-widgets/base",
            "_model_module_version": "1.5.0",
            "_view_count": null,
            "_view_module_version": "1.2.0",
            "bar_color": null,
            "_model_module": "@jupyter-widgets/controls"
          }
        },
        "5b81f7b162f6461090c565f3a4937dfb": {
          "model_module": "@jupyter-widgets/base",
          "model_name": "LayoutModel",
          "state": {
            "_view_name": "LayoutView",
            "grid_template_rows": null,
            "right": null,
            "justify_content": null,
            "_view_module": "@jupyter-widgets/base",
            "overflow": null,
            "_model_module_version": "1.2.0",
            "_view_count": null,
            "flex_flow": null,
            "width": null,
            "min_width": null,
            "border": null,
            "align_items": null,
            "bottom": null,
            "_model_module": "@jupyter-widgets/base",
            "top": null,
            "grid_column": null,
            "overflow_y": null,
            "overflow_x": null,
            "grid_auto_flow": null,
            "grid_area": null,
            "grid_template_columns": null,
            "flex": null,
            "_model_name": "LayoutModel",
            "justify_items": null,
            "grid_row": null,
            "max_height": null,
            "align_content": null,
            "visibility": null,
            "align_self": null,
            "height": null,
            "min_height": null,
            "padding": null,
            "grid_auto_rows": null,
            "grid_gap": null,
            "max_width": null,
            "order": null,
            "_view_module_version": "1.2.0",
            "grid_template_areas": null,
            "object_position": null,
            "object_fit": null,
            "grid_auto_columns": null,
            "margin": null,
            "display": null,
            "left": null
          }
        },
        "6ae61afacd3c4d1cbabd80f16d005c48": {
          "model_module": "@jupyter-widgets/controls",
          "model_name": "DescriptionStyleModel",
          "state": {
            "_view_name": "StyleView",
            "_model_name": "DescriptionStyleModel",
            "description_width": "",
            "_view_module": "@jupyter-widgets/base",
            "_model_module_version": "1.5.0",
            "_view_count": null,
            "_view_module_version": "1.2.0",
            "_model_module": "@jupyter-widgets/controls"
          }
        },
        "4878073029114218a690cc2e356545f3": {
          "model_module": "@jupyter-widgets/base",
          "model_name": "LayoutModel",
          "state": {
            "_view_name": "LayoutView",
            "grid_template_rows": null,
            "right": null,
            "justify_content": null,
            "_view_module": "@jupyter-widgets/base",
            "overflow": null,
            "_model_module_version": "1.2.0",
            "_view_count": null,
            "flex_flow": null,
            "width": null,
            "min_width": null,
            "border": null,
            "align_items": null,
            "bottom": null,
            "_model_module": "@jupyter-widgets/base",
            "top": null,
            "grid_column": null,
            "overflow_y": null,
            "overflow_x": null,
            "grid_auto_flow": null,
            "grid_area": null,
            "grid_template_columns": null,
            "flex": null,
            "_model_name": "LayoutModel",
            "justify_items": null,
            "grid_row": null,
            "max_height": null,
            "align_content": null,
            "visibility": null,
            "align_self": null,
            "height": null,
            "min_height": null,
            "padding": null,
            "grid_auto_rows": null,
            "grid_gap": null,
            "max_width": null,
            "order": null,
            "_view_module_version": "1.2.0",
            "grid_template_areas": null,
            "object_position": null,
            "object_fit": null,
            "grid_auto_columns": null,
            "margin": null,
            "display": null,
            "left": null
          }
        },
        "109a27dec57748cc9ca9aff60bc901f2": {
          "model_module": "@jupyter-widgets/controls",
          "model_name": "HBoxModel",
          "state": {
            "_view_name": "HBoxView",
            "_dom_classes": [],
            "_model_name": "HBoxModel",
            "_view_module": "@jupyter-widgets/controls",
            "_model_module_version": "1.5.0",
            "_view_count": null,
            "_view_module_version": "1.5.0",
            "box_style": "",
            "layout": "IPY_MODEL_ad7b6961ddf54ee09a9392c861d5e751",
            "_model_module": "@jupyter-widgets/controls",
            "children": [
              "IPY_MODEL_0cf403aa277b477f94f9afdacee88c34",
              "IPY_MODEL_6ece4fd529f347198c20e1fba6af12c6"
            ]
          }
        },
        "ad7b6961ddf54ee09a9392c861d5e751": {
          "model_module": "@jupyter-widgets/base",
          "model_name": "LayoutModel",
          "state": {
            "_view_name": "LayoutView",
            "grid_template_rows": null,
            "right": null,
            "justify_content": null,
            "_view_module": "@jupyter-widgets/base",
            "overflow": null,
            "_model_module_version": "1.2.0",
            "_view_count": null,
            "flex_flow": null,
            "width": null,
            "min_width": null,
            "border": null,
            "align_items": null,
            "bottom": null,
            "_model_module": "@jupyter-widgets/base",
            "top": null,
            "grid_column": null,
            "overflow_y": null,
            "overflow_x": null,
            "grid_auto_flow": null,
            "grid_area": null,
            "grid_template_columns": null,
            "flex": null,
            "_model_name": "LayoutModel",
            "justify_items": null,
            "grid_row": null,
            "max_height": null,
            "align_content": null,
            "visibility": null,
            "align_self": null,
            "height": null,
            "min_height": null,
            "padding": null,
            "grid_auto_rows": null,
            "grid_gap": null,
            "max_width": null,
            "order": null,
            "_view_module_version": "1.2.0",
            "grid_template_areas": null,
            "object_position": null,
            "object_fit": null,
            "grid_auto_columns": null,
            "margin": null,
            "display": null,
            "left": null
          }
        },
        "0cf403aa277b477f94f9afdacee88c34": {
          "model_module": "@jupyter-widgets/controls",
          "model_name": "FloatProgressModel",
          "state": {
            "_view_name": "ProgressView",
            "style": "IPY_MODEL_db7eceb803ab4c319a2bb8a1855eb177",
            "_dom_classes": [],
            "description": "Downloading: 100%",
            "_model_name": "FloatProgressModel",
            "bar_style": "success",
            "max": 466,
            "_view_module": "@jupyter-widgets/controls",
            "_model_module_version": "1.5.0",
            "value": 466,
            "_view_count": null,
            "_view_module_version": "1.5.0",
            "orientation": "horizontal",
            "min": 0,
            "description_tooltip": null,
            "_model_module": "@jupyter-widgets/controls",
            "layout": "IPY_MODEL_8991363972fe4272b0bb8eeeba71be2a"
          }
        },
        "6ece4fd529f347198c20e1fba6af12c6": {
          "model_module": "@jupyter-widgets/controls",
          "model_name": "HTMLModel",
          "state": {
            "_view_name": "HTMLView",
            "style": "IPY_MODEL_7d1a6a57b6ee4160848072a88384b178",
            "_dom_classes": [],
            "description": "",
            "_model_name": "HTMLModel",
            "placeholder": "​",
            "_view_module": "@jupyter-widgets/controls",
            "_model_module_version": "1.5.0",
            "value": " 466/466 [00:01&lt;00:00, 286B/s]",
            "_view_count": null,
            "_view_module_version": "1.5.0",
            "description_tooltip": null,
            "_model_module": "@jupyter-widgets/controls",
            "layout": "IPY_MODEL_cc6155827de64f8eb518b921b8e740e5"
          }
        },
        "db7eceb803ab4c319a2bb8a1855eb177": {
          "model_module": "@jupyter-widgets/controls",
          "model_name": "ProgressStyleModel",
          "state": {
            "_view_name": "StyleView",
            "_model_name": "ProgressStyleModel",
            "description_width": "initial",
            "_view_module": "@jupyter-widgets/base",
            "_model_module_version": "1.5.0",
            "_view_count": null,
            "_view_module_version": "1.2.0",
            "bar_color": null,
            "_model_module": "@jupyter-widgets/controls"
          }
        },
        "8991363972fe4272b0bb8eeeba71be2a": {
          "model_module": "@jupyter-widgets/base",
          "model_name": "LayoutModel",
          "state": {
            "_view_name": "LayoutView",
            "grid_template_rows": null,
            "right": null,
            "justify_content": null,
            "_view_module": "@jupyter-widgets/base",
            "overflow": null,
            "_model_module_version": "1.2.0",
            "_view_count": null,
            "flex_flow": null,
            "width": null,
            "min_width": null,
            "border": null,
            "align_items": null,
            "bottom": null,
            "_model_module": "@jupyter-widgets/base",
            "top": null,
            "grid_column": null,
            "overflow_y": null,
            "overflow_x": null,
            "grid_auto_flow": null,
            "grid_area": null,
            "grid_template_columns": null,
            "flex": null,
            "_model_name": "LayoutModel",
            "justify_items": null,
            "grid_row": null,
            "max_height": null,
            "align_content": null,
            "visibility": null,
            "align_self": null,
            "height": null,
            "min_height": null,
            "padding": null,
            "grid_auto_rows": null,
            "grid_gap": null,
            "max_width": null,
            "order": null,
            "_view_module_version": "1.2.0",
            "grid_template_areas": null,
            "object_position": null,
            "object_fit": null,
            "grid_auto_columns": null,
            "margin": null,
            "display": null,
            "left": null
          }
        },
        "7d1a6a57b6ee4160848072a88384b178": {
          "model_module": "@jupyter-widgets/controls",
          "model_name": "DescriptionStyleModel",
          "state": {
            "_view_name": "StyleView",
            "_model_name": "DescriptionStyleModel",
            "description_width": "",
            "_view_module": "@jupyter-widgets/base",
            "_model_module_version": "1.5.0",
            "_view_count": null,
            "_view_module_version": "1.2.0",
            "_model_module": "@jupyter-widgets/controls"
          }
        },
        "cc6155827de64f8eb518b921b8e740e5": {
          "model_module": "@jupyter-widgets/base",
          "model_name": "LayoutModel",
          "state": {
            "_view_name": "LayoutView",
            "grid_template_rows": null,
            "right": null,
            "justify_content": null,
            "_view_module": "@jupyter-widgets/base",
            "overflow": null,
            "_model_module_version": "1.2.0",
            "_view_count": null,
            "flex_flow": null,
            "width": null,
            "min_width": null,
            "border": null,
            "align_items": null,
            "bottom": null,
            "_model_module": "@jupyter-widgets/base",
            "top": null,
            "grid_column": null,
            "overflow_y": null,
            "overflow_x": null,
            "grid_auto_flow": null,
            "grid_area": null,
            "grid_template_columns": null,
            "flex": null,
            "_model_name": "LayoutModel",
            "justify_items": null,
            "grid_row": null,
            "max_height": null,
            "align_content": null,
            "visibility": null,
            "align_self": null,
            "height": null,
            "min_height": null,
            "padding": null,
            "grid_auto_rows": null,
            "grid_gap": null,
            "max_width": null,
            "order": null,
            "_view_module_version": "1.2.0",
            "grid_template_areas": null,
            "object_position": null,
            "object_fit": null,
            "grid_auto_columns": null,
            "margin": null,
            "display": null,
            "left": null
          }
        },
        "80692ea564eb468e98242af0251ac408": {
          "model_module": "@jupyter-widgets/controls",
          "model_name": "HBoxModel",
          "state": {
            "_view_name": "HBoxView",
            "_dom_classes": [],
            "_model_name": "HBoxModel",
            "_view_module": "@jupyter-widgets/controls",
            "_model_module_version": "1.5.0",
            "_view_count": null,
            "_view_module_version": "1.5.0",
            "box_style": "",
            "layout": "IPY_MODEL_9725371db6734e638313448de15d977c",
            "_model_module": "@jupyter-widgets/controls",
            "children": [
              "IPY_MODEL_2292283d631544e590fd611e2d0690eb",
              "IPY_MODEL_b86da6da675f4e1a82c5de671a85a915"
            ]
          }
        },
        "9725371db6734e638313448de15d977c": {
          "model_module": "@jupyter-widgets/base",
          "model_name": "LayoutModel",
          "state": {
            "_view_name": "LayoutView",
            "grid_template_rows": null,
            "right": null,
            "justify_content": null,
            "_view_module": "@jupyter-widgets/base",
            "overflow": null,
            "_model_module_version": "1.2.0",
            "_view_count": null,
            "flex_flow": null,
            "width": null,
            "min_width": null,
            "border": null,
            "align_items": null,
            "bottom": null,
            "_model_module": "@jupyter-widgets/base",
            "top": null,
            "grid_column": null,
            "overflow_y": null,
            "overflow_x": null,
            "grid_auto_flow": null,
            "grid_area": null,
            "grid_template_columns": null,
            "flex": null,
            "_model_name": "LayoutModel",
            "justify_items": null,
            "grid_row": null,
            "max_height": null,
            "align_content": null,
            "visibility": null,
            "align_self": null,
            "height": null,
            "min_height": null,
            "padding": null,
            "grid_auto_rows": null,
            "grid_gap": null,
            "max_width": null,
            "order": null,
            "_view_module_version": "1.2.0",
            "grid_template_areas": null,
            "object_position": null,
            "object_fit": null,
            "grid_auto_columns": null,
            "margin": null,
            "display": null,
            "left": null
          }
        },
        "2292283d631544e590fd611e2d0690eb": {
          "model_module": "@jupyter-widgets/controls",
          "model_name": "FloatProgressModel",
          "state": {
            "_view_name": "ProgressView",
            "style": "IPY_MODEL_a8b4011a3c2b4e43a2a215930960b3b6",
            "_dom_classes": [],
            "description": "Downloading: 100%",
            "_model_name": "FloatProgressModel",
            "bar_style": "success",
            "max": 54245363,
            "_view_module": "@jupyter-widgets/controls",
            "_model_module_version": "1.5.0",
            "value": 54245363,
            "_view_count": null,
            "_view_module_version": "1.5.0",
            "orientation": "horizontal",
            "min": 0,
            "description_tooltip": null,
            "_model_module": "@jupyter-widgets/controls",
            "layout": "IPY_MODEL_a4fcfa4528c246ff82af4d590e35cb6f"
          }
        },
        "b86da6da675f4e1a82c5de671a85a915": {
          "model_module": "@jupyter-widgets/controls",
          "model_name": "HTMLModel",
          "state": {
            "_view_name": "HTMLView",
            "style": "IPY_MODEL_327e4868aaad4379ad9a63e3be2b1aa9",
            "_dom_classes": [],
            "description": "",
            "_model_name": "HTMLModel",
            "placeholder": "​",
            "_view_module": "@jupyter-widgets/controls",
            "_model_module_version": "1.5.0",
            "value": " 54.2M/54.2M [00:02&lt;00:00, 25.9MB/s]",
            "_view_count": null,
            "_view_module_version": "1.5.0",
            "description_tooltip": null,
            "_model_module": "@jupyter-widgets/controls",
            "layout": "IPY_MODEL_4deff6c8447446a3bc4d49a6d4f9352e"
          }
        },
        "a8b4011a3c2b4e43a2a215930960b3b6": {
          "model_module": "@jupyter-widgets/controls",
          "model_name": "ProgressStyleModel",
          "state": {
            "_view_name": "StyleView",
            "_model_name": "ProgressStyleModel",
            "description_width": "initial",
            "_view_module": "@jupyter-widgets/base",
            "_model_module_version": "1.5.0",
            "_view_count": null,
            "_view_module_version": "1.2.0",
            "bar_color": null,
            "_model_module": "@jupyter-widgets/controls"
          }
        },
        "a4fcfa4528c246ff82af4d590e35cb6f": {
          "model_module": "@jupyter-widgets/base",
          "model_name": "LayoutModel",
          "state": {
            "_view_name": "LayoutView",
            "grid_template_rows": null,
            "right": null,
            "justify_content": null,
            "_view_module": "@jupyter-widgets/base",
            "overflow": null,
            "_model_module_version": "1.2.0",
            "_view_count": null,
            "flex_flow": null,
            "width": null,
            "min_width": null,
            "border": null,
            "align_items": null,
            "bottom": null,
            "_model_module": "@jupyter-widgets/base",
            "top": null,
            "grid_column": null,
            "overflow_y": null,
            "overflow_x": null,
            "grid_auto_flow": null,
            "grid_area": null,
            "grid_template_columns": null,
            "flex": null,
            "_model_name": "LayoutModel",
            "justify_items": null,
            "grid_row": null,
            "max_height": null,
            "align_content": null,
            "visibility": null,
            "align_self": null,
            "height": null,
            "min_height": null,
            "padding": null,
            "grid_auto_rows": null,
            "grid_gap": null,
            "max_width": null,
            "order": null,
            "_view_module_version": "1.2.0",
            "grid_template_areas": null,
            "object_position": null,
            "object_fit": null,
            "grid_auto_columns": null,
            "margin": null,
            "display": null,
            "left": null
          }
        },
        "327e4868aaad4379ad9a63e3be2b1aa9": {
          "model_module": "@jupyter-widgets/controls",
          "model_name": "DescriptionStyleModel",
          "state": {
            "_view_name": "StyleView",
            "_model_name": "DescriptionStyleModel",
            "description_width": "",
            "_view_module": "@jupyter-widgets/base",
            "_model_module_version": "1.5.0",
            "_view_count": null,
            "_view_module_version": "1.2.0",
            "_model_module": "@jupyter-widgets/controls"
          }
        },
        "4deff6c8447446a3bc4d49a6d4f9352e": {
          "model_module": "@jupyter-widgets/base",
          "model_name": "LayoutModel",
          "state": {
            "_view_name": "LayoutView",
            "grid_template_rows": null,
            "right": null,
            "justify_content": null,
            "_view_module": "@jupyter-widgets/base",
            "overflow": null,
            "_model_module_version": "1.2.0",
            "_view_count": null,
            "flex_flow": null,
            "width": null,
            "min_width": null,
            "border": null,
            "align_items": null,
            "bottom": null,
            "_model_module": "@jupyter-widgets/base",
            "top": null,
            "grid_column": null,
            "overflow_y": null,
            "overflow_x": null,
            "grid_auto_flow": null,
            "grid_area": null,
            "grid_template_columns": null,
            "flex": null,
            "_model_name": "LayoutModel",
            "justify_items": null,
            "grid_row": null,
            "max_height": null,
            "align_content": null,
            "visibility": null,
            "align_self": null,
            "height": null,
            "min_height": null,
            "padding": null,
            "grid_auto_rows": null,
            "grid_gap": null,
            "max_width": null,
            "order": null,
            "_view_module_version": "1.2.0",
            "grid_template_areas": null,
            "object_position": null,
            "object_fit": null,
            "grid_auto_columns": null,
            "margin": null,
            "display": null,
            "left": null
          }
        }
      }
    }
  },
  "cells": [
    {
      "cell_type": "code",
      "metadata": {
        "id": "WoNmhVdE16ZS",
        "colab_type": "code",
        "outputId": "8c0b0473-99ab-4136-f7f8-e325684a38be",
        "colab": {
          "base_uri": "https://localhost:8080/",
          "height": 230
        }
      },
      "source": [
        "try: import fastai2\n",
        "except:\n",
        "  !git clone https://github.com/richardyy1188/Pretrain-MLM-and-finetune-on-GLUE-with-fastai.git\n",
        "  %pip install -q fastai2 transformers"
      ],
      "execution_count": 0,
      "outputs": [
        {
          "output_type": "stream",
          "text": [
            "Cloning into 'Pretrain-MLM-and-finetune-on-GLUE-with-fastai'...\n",
            "remote: Enumerating objects: 27, done.\u001b[K\n",
            "remote: Counting objects: 100% (27/27), done.\u001b[K\n",
            "remote: Compressing objects: 100% (19/19), done.\u001b[K\n",
            "remote: Total 27 (delta 8), reused 22 (delta 6), pack-reused 0\u001b[K\n",
            "Unpacking objects: 100% (27/27), done.\n",
            "\u001b[K     |████████████████████████████████| 194kB 4.0MB/s \n",
            "\u001b[K     |████████████████████████████████| 645kB 9.8MB/s \n",
            "\u001b[K     |████████████████████████████████| 1.1MB 12.0MB/s \n",
            "\u001b[K     |████████████████████████████████| 3.8MB 28.9MB/s \n",
            "\u001b[K     |████████████████████████████████| 890kB 42.8MB/s \n",
            "\u001b[?25h  Building wheel for sacremoses (setup.py) ... \u001b[?25l\u001b[?25hdone\n"
          ],
          "name": "stdout"
        }
      ]
    },
    {
      "cell_type": "code",
      "metadata": {
        "id": "aQ8Soxgm3KYS",
        "colab_type": "code",
        "outputId": "574985e2-e74e-48bd-abd4-6468a29e63c8",
        "colab": {
          "base_uri": "https://localhost:8080/",
          "height": 35
        }
      },
      "source": [
        "%cd Pretrain-MLM-and-finetune-on-GLUE-with-fastai\n",
        "\n",
        "from IPython.core.debugger import set_trace as bk\n",
        "from pathlib import Path\n",
        "from functools import partial\n",
        "import pandas as pd\n",
        "import torch\n",
        "from torch import nn\n",
        "from fastai2.text.all import *\n",
        "from transformers import ElectraForMaskedLM, ElectraForPreTraining, ElectraTokenizer, ElectraTokenizerFast\n",
        "from _utils.demo_data import load_demo_dataframe\n",
        "from _utils.hf_transformers_integration import HF_Tokenizer, HF_TextBlock, HFModelWrapper\n",
        "from _utils.would_like_to_pr import TextDataloader"
      ],
      "execution_count": 0,
      "outputs": [
        {
          "output_type": "stream",
          "text": [
            "/content/Pretrain-MLM-and-finetune-on-GLUE-with-fastai\n"
          ],
          "name": "stdout"
        }
      ]
    },
    {
      "cell_type": "code",
      "metadata": {
        "id": "hK6MkIw5j1OM",
        "colab_type": "code",
        "outputId": "ad06f677-0c93-4202-ed0d-cbe9814657db",
        "colab": {
          "base_uri": "https://localhost:8080/",
          "height": 266,
          "referenced_widgets": [
            "bd76138e71ce4dac808ccdd067d10e5b",
            "49e43735517543e0bdc6414bed259d2b",
            "0f4da9cdc0b64256a5cc9c92e427edbc",
            "1e46f252300e4aa687a59db11ddfd70f",
            "b61e1357165e4be68165fa87f4d5121d",
            "acf0b996dc3a47abaabecd2033f2c6b9",
            "1099918fa72046f49bd62b8221765fda",
            "3679557ac661458d9d8e4bf46633964f",
            "9a027a9493524ae1a4d978f96ec1eae1",
            "0b56d9b4f6954614911a15124554b7c8",
            "51ab38d4c6744cc0acf3980a3b42276b",
            "a6e577e71e664b9d9b4f7a57f64e88c1",
            "3e7253009d79465194508991521572ed",
            "32a3b8ee47e84067aaeb6f662d178981",
            "535400d1451e4e0cbb420a1d07e0483a",
            "f839a32d53884f54ae9b4c977ff1fb38",
            "ec1c85340fb14071a2413df266ed445a",
            "51a33751b42e4d7bb74760d0d97bd916",
            "96bb7ab31cec4713ae047990b00880c4",
            "1b3ffb2194fb43aca8ce88d54e14bb34",
            "02326672bf3841deb22a26061e38594f",
            "5b81f7b162f6461090c565f3a4937dfb",
            "6ae61afacd3c4d1cbabd80f16d005c48",
            "4878073029114218a690cc2e356545f3",
            "109a27dec57748cc9ca9aff60bc901f2",
            "ad7b6961ddf54ee09a9392c861d5e751",
            "0cf403aa277b477f94f9afdacee88c34",
            "6ece4fd529f347198c20e1fba6af12c6",
            "db7eceb803ab4c319a2bb8a1855eb177",
            "8991363972fe4272b0bb8eeeba71be2a",
            "7d1a6a57b6ee4160848072a88384b178",
            "cc6155827de64f8eb518b921b8e740e5",
            "80692ea564eb468e98242af0251ac408",
            "9725371db6734e638313448de15d977c",
            "2292283d631544e590fd611e2d0690eb",
            "b86da6da675f4e1a82c5de671a85a915",
            "a8b4011a3c2b4e43a2a215930960b3b6",
            "a4fcfa4528c246ff82af4d590e35cb6f",
            "327e4868aaad4379ad9a63e3be2b1aa9",
            "4deff6c8447446a3bc4d49a6d4f9352e"
          ]
        }
      },
      "source": [
        "\"\"\" tokenizer and fast tokenizer\n",
        "We use normal tokenizer to get vocab, use fast tokenizer to convert tokens to ids.\n",
        "Because we can't get vocab from fast tokenizer and fast tokenizer is faster,\n",
        "and they have the same token-id mapping.\n",
        "\"\"\"\n",
        "hf_tokenizer = ElectraTokenizer.from_pretrained(\"google/electra-small-generator\")\n",
        "hf_fast_tokenizer = ElectraTokenizerFast.from_pretrained(\"google/electra-small-generator\")\n",
        "electra_generator = ElectraForMaskedLM.from_pretrained('google/electra-small-generator')\n",
        "electra_discriminator = ElectraForPreTraining.from_pretrained('google/electra-small-discriminator')"
      ],
      "execution_count": 0,
      "outputs": [
        {
          "output_type": "display_data",
          "data": {
            "application/vnd.jupyter.widget-view+json": {
              "model_id": "bd76138e71ce4dac808ccdd067d10e5b",
              "version_minor": 0,
              "version_major": 2
            },
            "text/plain": [
              "HBox(children=(FloatProgress(value=0.0, description='Downloading', max=231508.0, style=ProgressStyle(descripti…"
            ]
          },
          "metadata": {
            "tags": []
          }
        },
        {
          "output_type": "stream",
          "text": [
            "\n"
          ],
          "name": "stdout"
        },
        {
          "output_type": "display_data",
          "data": {
            "application/vnd.jupyter.widget-view+json": {
              "model_id": "9a027a9493524ae1a4d978f96ec1eae1",
              "version_minor": 0,
              "version_major": 2
            },
            "text/plain": [
              "HBox(children=(FloatProgress(value=0.0, description='Downloading', max=463.0, style=ProgressStyle(description_…"
            ]
          },
          "metadata": {
            "tags": []
          }
        },
        {
          "output_type": "stream",
          "text": [
            "\n"
          ],
          "name": "stdout"
        },
        {
          "output_type": "display_data",
          "data": {
            "application/vnd.jupyter.widget-view+json": {
              "model_id": "ec1c85340fb14071a2413df266ed445a",
              "version_minor": 0,
              "version_major": 2
            },
            "text/plain": [
              "HBox(children=(FloatProgress(value=0.0, description='Downloading', max=54236116.0, style=ProgressStyle(descrip…"
            ]
          },
          "metadata": {
            "tags": []
          }
        },
        {
          "output_type": "stream",
          "text": [
            "\n"
          ],
          "name": "stdout"
        },
        {
          "output_type": "display_data",
          "data": {
            "application/vnd.jupyter.widget-view+json": {
              "model_id": "109a27dec57748cc9ca9aff60bc901f2",
              "version_minor": 0,
              "version_major": 2
            },
            "text/plain": [
              "HBox(children=(FloatProgress(value=0.0, description='Downloading', max=466.0, style=ProgressStyle(description_…"
            ]
          },
          "metadata": {
            "tags": []
          }
        },
        {
          "output_type": "stream",
          "text": [
            "\n"
          ],
          "name": "stdout"
        },
        {
          "output_type": "display_data",
          "data": {
            "application/vnd.jupyter.widget-view+json": {
              "model_id": "80692ea564eb468e98242af0251ac408",
              "version_minor": 0,
              "version_major": 2
            },
            "text/plain": [
              "HBox(children=(FloatProgress(value=0.0, description='Downloading', max=54245363.0, style=ProgressStyle(descrip…"
            ]
          },
          "metadata": {
            "tags": []
          }
        },
        {
          "output_type": "stream",
          "text": [
            "\n"
          ],
          "name": "stdout"
        }
      ]
    },
    {
      "cell_type": "code",
      "metadata": {
        "id": "7aKB3PA-3KNW",
        "colab_type": "code",
        "outputId": "dfc6f98f-324a-40ad-dc26-286c7b0e6a09",
        "colab": {
          "base_uri": "https://localhost:8080/",
          "height": 108
        }
      },
      "source": [
        "vocab_size = hf_tokenizer.vocab_size\n",
        "print(f'vocab_size: {vocab_size}')\n",
        "size = (2,4)\n",
        "print(f'Assume (batch size, sequence length) is {size}')\n",
        "g_output = electra_generator(torch.randint(0,vocab_size, (2,4)))\n",
        "print(g_output[0].shape, ', [b][i][t] is logits(kind of score) for ith token in batch i to be token type t')\n",
        "d_output = electra_discriminator(torch.randint(0,vocab_size, (2,4)))\n",
        "print(d_output[0].shape, ', [b][i] is logits(kind of score) for whether ith token in batch i is replaced.') "
      ],
      "execution_count": 0,
      "outputs": [
        {
          "output_type": "stream",
          "text": [
            "vocab_size: 30522\n",
            "Assume (batch size, sequence length) is (2, 4)\n",
            "torch.Size([2, 4, 30522]) , [b][i][t] is logits(kind of score) for ith token in batch i to be token type t\n",
            "torch.Size([2, 4]) , [b][i] is logits(kind of score) for whether ith token in batch i is replaced.\n"
          ],
          "name": "stdout"
        }
      ]
    },
    {
      "cell_type": "markdown",
      "metadata": {
        "id": "ybfE1Pnc3drg",
        "colab_type": "text"
      },
      "source": [
        "# 1. Load Data"
      ]
    },
    {
      "cell_type": "markdown",
      "metadata": {
        "id": "6mX84Ayv3kFb",
        "colab_type": "text"
      },
      "source": [
        "**Prepare source dataframe**"
      ]
    },
    {
      "cell_type": "code",
      "metadata": {
        "id": "AZ8kHza3CLHp",
        "colab_type": "code",
        "outputId": "dfabfdf8-586e-4c5d-9024-eff2ff306911",
        "colab": {
          "base_uri": "https://localhost:8080/",
          "height": 241
        }
      },
      "source": [
        "df = load_demo_dataframe()\n",
        "# fastai can use is_valid column to split this datafram into train and validate set\n",
        "df.head()"
      ],
      "execution_count": 0,
      "outputs": [
        {
          "output_type": "execute_result",
          "data": {
            "text/html": [
              "<div>\n",
              "<style scoped>\n",
              "    .dataframe tbody tr th:only-of-type {\n",
              "        vertical-align: middle;\n",
              "    }\n",
              "\n",
              "    .dataframe tbody tr th {\n",
              "        vertical-align: top;\n",
              "    }\n",
              "\n",
              "    .dataframe thead th {\n",
              "        text-align: right;\n",
              "    }\n",
              "</style>\n",
              "<table border=\"1\" class=\"dataframe\">\n",
              "  <thead>\n",
              "    <tr style=\"text-align: right;\">\n",
              "      <th></th>\n",
              "      <th>text</th>\n",
              "      <th>is_valid</th>\n",
              "    </tr>\n",
              "  </thead>\n",
              "  <tbody>\n",
              "    <tr>\n",
              "      <th>0</th>\n",
              "      <td>Out of his box the Jack popped his head . The funny , black fringe of whiskers around his face jiggled up and down . His queer , big eyes looked around the store .</td>\n",
              "      <td>False</td>\n",
              "    </tr>\n",
              "    <tr>\n",
              "      <th>1</th>\n",
              "      <td>\" Hurray ! \" cried the Jack in the Box . \" We are alone at last and now we can have some fun ! Hurray ! \"</td>\n",
              "      <td>False</td>\n",
              "    </tr>\n",
              "    <tr>\n",
              "      <th>2</th>\n",
              "      <td>\" Are you sure ? \" asked a Bold Tin Soldier , who stood at the head of a company of his men in a large box .</td>\n",
              "      <td>False</td>\n",
              "    </tr>\n",
              "    <tr>\n",
              "      <th>3</th>\n",
              "      <td>\" Am I sure of what ? \" inquired the Jack , as he swung to and fro on the spring which made him pop out of the box .</td>\n",
              "      <td>False</td>\n",
              "    </tr>\n",
              "    <tr>\n",
              "      <th>4</th>\n",
              "      <td>\" Are you sure we are alone ? \" went on the Soldier . \" It would be too bad if we should come to life when any one could see us . \"</td>\n",
              "      <td>False</td>\n",
              "    </tr>\n",
              "  </tbody>\n",
              "</table>\n",
              "</div>"
            ],
            "text/plain": [
              "                                                                                                                                                                  text  is_valid\n",
              "0  Out of his box the Jack popped his head . The funny , black fringe of whiskers around his face jiggled up and down . His queer , big eyes looked around the store .     False\n",
              "1                                                            \" Hurray ! \" cried the Jack in the Box . \" We are alone at last and now we can have some fun ! Hurray ! \"     False\n",
              "2                                                         \" Are you sure ? \" asked a Bold Tin Soldier , who stood at the head of a company of his men in a large box .     False\n",
              "3                                                 \" Am I sure of what ? \" inquired the Jack , as he swung to and fro on the spring which made him pop out of the box .     False\n",
              "4                                  \" Are you sure we are alone ? \" went on the Soldier . \" It would be too bad if we should come to life when any one could see us . \"     False"
            ]
          },
          "metadata": {
            "tags": []
          },
          "execution_count": 5
        }
      ]
    },
    {
      "cell_type": "markdown",
      "metadata": {
        "id": "RhtF87Rydfqi",
        "colab_type": "text"
      },
      "source": [
        "## 1.2 Dataloaders using datablock api"
      ]
    },
    {
      "cell_type": "code",
      "metadata": {
        "id": "m-DmkQ5a7aHA",
        "colab_type": "code",
        "outputId": "d73539df-6aca-4fea-f655-249d64f2f31e",
        "colab": {
          "base_uri": "https://localhost:8080/",
          "height": 268
        }
      },
      "source": [
        "db = DataBlock(splitter=ColSplitter(),\n",
        "              blocks=HF_TextBlock.from_df('text', hf_fast_tokenizer, \n",
        "                                          vocab=list(hf_tokenizer.get_vocab()),\n",
        "                                          rules=[lambda x: x.replace('<unk>', hf_tokenizer.unk_token)]),\n",
        "              get_x=ColReader('text'),)\n",
        "\"\"\" Note:\n",
        "If you don't cancel pad first, you will get input with variable number of pad before sentence.\n",
        "like 'pad ... pad pad I am input x pad .. pad pad'\n",
        "Which you may cause add wrong position's position embeddings when using transformer architecture\n",
        "\"\"\"\n",
        "dls = db.dataloaders(df, shuffle_train=False, bs=128, \n",
        "                     dl_type=partial(TextDataloader, \n",
        "                                     max_seq_len=150,\n",
        "                                     agg_mode='lines',\n",
        "                                     remove_heads=True,\n",
        "                                     remove_tails=True,\n",
        "                                     bos_idx_add=hf_tokenizer.cls_token_id,\n",
        "                                     eos_idx_add=hf_tokenizer.sep_token_id))\n",
        "\"\"\" Note:\n",
        "fastai wiil assure data and model are on the same device, so we just need to specify device for dataloaders,\n",
        "and fastai will infer and move model to that device.\n",
        "\"\"\"\n",
        "dls.show_batch(max_n=2, trunc_at=None) # trunc_at=None: don't cut the text when longer than 150"
      ],
      "execution_count": 0,
      "outputs": [
        {
          "output_type": "display_data",
          "data": {
            "text/html": [
              ""
            ],
            "text/plain": [
              "<IPython.core.display.HTML object>"
            ]
          },
          "metadata": {
            "tags": []
          }
        },
        {
          "output_type": "display_data",
          "data": {
            "text/html": [
              "<table border=\"1\" class=\"dataframe\">\n",
              "  <thead>\n",
              "    <tr style=\"text-align: right;\">\n",
              "      <th></th>\n",
              "      <th>text</th>\n",
              "    </tr>\n",
              "  </thead>\n",
              "  <tbody>\n",
              "    <tr>\n",
              "      <th>0</th>\n",
              "      <td>[CLS] out of his box the jack popped his head . the funny , black fringe of w ##his ##kers around his face ji ##ggle ##d up and down . his queer , big eyes looked around the store . \" hu ##rra ##y ! \" cried the jack in the box . \" we are alone at last and now we can have some fun ! hu ##rra ##y ! \" \" are you sure ? \" asked a bold tin soldier , who stood at the head of a company of his men in a large box . \" am i sure of what ? \" inquired the jack , as he swung to and fr ##o on the spring which made him pop out of the box . [SEP] [PAD] [PAD] [PAD] [PAD] [PAD] [PAD] [PAD] [PAD] [PAD] [PAD] [PAD] [PAD] [PAD] [PAD] [PAD] [PAD] [PAD] [PAD]</td>\n",
              "    </tr>\n",
              "    <tr>\n",
              "      <th>1</th>\n",
              "      <td>[CLS] \" are you sure we are alone ? \" went on the soldier . \" it would be too bad if we should come to life when any one could see us . \" \" there is no one in the department but us toys , \" said a cal ##ico clown , and he banged together some shiny cy ##mba ##ls on the ends of his arms . \" the jack is right - - we are all by ourselves . \" [SEP] [PAD] [PAD] [PAD] [PAD] [PAD] [PAD] [PAD] [PAD] [PAD] [PAD] [PAD] [PAD] [PAD] [PAD] [PAD] [PAD] [PAD] [PAD] [PAD] [PAD] [PAD] [PAD] [PAD] [PAD] [PAD] [PAD] [PAD] [PAD] [PAD] [PAD] [PAD] [PAD] [PAD] [PAD] [PAD] [PAD] [PAD] [PAD] [PAD] [PAD] [PAD] [PAD] [PAD] [PAD] [PAD] [PAD] [PAD] [PAD] [PAD] [PAD] [PAD] [PAD] [PAD] [PAD] [PAD] [PAD] [PAD] [PAD] [PAD] [PAD] [PAD] [PAD] [PAD] [PAD] [PAD]</td>\n",
              "    </tr>\n",
              "  </tbody>\n",
              "</table>"
            ],
            "text/plain": [
              "<IPython.core.display.HTML object>"
            ]
          },
          "metadata": {
            "tags": []
          }
        }
      ]
    },
    {
      "cell_type": "markdown",
      "metadata": {
        "id": "dpMVEa7TELoR",
        "colab_type": "text"
      },
      "source": [
        "# 2. Masked language model objective"
      ]
    },
    {
      "cell_type": "markdown",
      "metadata": {
        "id": "UibFtqoMoayu",
        "colab_type": "text"
      },
      "source": [
        "## 2.1 MLM objective callback"
      ]
    },
    {
      "cell_type": "code",
      "metadata": {
        "id": "wd88gnpqENpy",
        "colab_type": "code",
        "colab": {}
      },
      "source": [
        "# https://github.com/huggingface/transformers/blob/1789c7daf1b8013006b0aef6cb1b8f80573031c5/examples/run_language_modeling.py#L179\n",
        "def mask_tokens(inputs, mask_token_index, vocab_size, special_token_indices, mlm_probability=0.15, ignore_index=-100):\n",
        "  \"\"\" Prepare masked tokens inputs/labels for masked language modeling: 80% MASK, 10% random, 10% original. \"\"\"\n",
        "  \"ignore_index in nn.CrossEntropy is default to -100, so you don't need to specify ignore_index in loss\"\n",
        "  \n",
        "  #assert len(inputs.shape)==2, \"Assume input shape of (batch_size, sequence_length)\"\n",
        "  labels = inputs.clone()\n",
        "  \n",
        "  # We sample a few tokens in each sequence for masked-LM training (with probability mlm_probability defaults to 0.15 in Bert/RoBERTa)\n",
        "  probability_matrix = torch.full(labels.shape, mlm_probability)\n",
        "  special_tokens_mask = torch.tensor([\n",
        "    [i in special_token_indices for i in sample] for sample in labels\n",
        "  ], dtype=torch.bool)\n",
        "  probability_matrix.masked_fill_(special_tokens_mask, value=0.0)\n",
        "  mlm_mask = torch.bernoulli(probability_matrix).bool()\n",
        "  labels[~mlm_mask] = ignore_index  # We only compute loss on masked tokens\n",
        "  \n",
        "  # 80% of the time, we replace masked input tokens with mask_token\n",
        "  mask_token_mask = torch.bernoulli(torch.full(labels.shape, 0.8)).bool() & mlm_mask\n",
        "  inputs[mask_token_mask] = mask_token_index\n",
        "  \n",
        "  # 10% of the time, we replace masked input tokens with random word\n",
        "  replace_token_mask = torch.bernoulli(torch.full(labels.shape, 0.5)).bool() & mlm_mask & ~mask_token_mask\n",
        "  random_words = torch.randint(vocab_size, labels.shape, dtype=torch.long, device=inputs.device)\n",
        "  inputs[replace_token_mask] = random_words[replace_token_mask]\n",
        "\n",
        "  # The rest of the time (10% of the time) we keep the masked input tokens unchanged\n",
        "  return inputs, labels\n",
        "\n",
        "class MaskedLMCallback(Callback):\n",
        "  @delegates(mask_tokens)\n",
        "  def __init__(self, mask_tok_id, special_tok_ids, vocab_size, **kwargs):\n",
        "    self.mask_tokens = partial(mask_tokens,\n",
        "                               mask_token_index=mask_tok_id,\n",
        "                               special_token_indices=special_tok_ids,\n",
        "                               vocab_size=vocab_size,\n",
        "                               **kwargs)\n",
        "\n",
        "  def begin_batch(self):\n",
        "    text_indices = self.xb[0]\n",
        "    masked_inputs, labels = self.mask_tokens(text_indices)\n",
        "    self.learn.xb, self.learn.yb = (masked_inputs,), (labels,)\n",
        "\n",
        "  @delegates(TfmdDL.show_batch)\n",
        "  def show_batch(self, dl, **kwargs):\n",
        "    b = dl.one_batch()\n",
        "    new_b = self.mask_tokens(b[0])\n",
        "    dl.show_batch(b=new_b, **kwargs)"
      ],
      "execution_count": 0,
      "outputs": []
    },
    {
      "cell_type": "code",
      "metadata": {
        "id": "jqThaAwxHIR8",
        "colab_type": "code",
        "outputId": "d1279188-9579-4662-cb26-bde43a4ca4ae",
        "colab": {
          "base_uri": "https://localhost:8080/",
          "height": 565
        }
      },
      "source": [
        "mlm_cb = MaskedLMCallback(mask_tok_id=hf_tokenizer.mask_token_id, \n",
        "                          special_tok_ids=hf_tokenizer.all_special_ids, \n",
        "                          vocab_size=hf_tokenizer.vocab_size)\n",
        "print(\"Note: We won't count loss from position where y is ##永 (ignore index)\")\n",
        "print(\"Notice 1. Positions have label token in y will be either [Mask]/other token/orginal token in x\")\n",
        "print(\"Notice 2. Special tokens (CLS, SEP) won't be masked.\")\n",
        "print(\"Notice 3. Dynamic masking: every time you run gives you different results.\")\n",
        "mlm_cb.show_batch(dls.train, max_n=2)"
      ],
      "execution_count": 0,
      "outputs": [
        {
          "output_type": "stream",
          "text": [
            "Note: We won't count loss from position where y is ##永 (ignore index)\n",
            "Notice 1. Positions have label token in y will be either [Mask]/other token/orginal token in x\n",
            "Notice 2. Special tokens (CLS, SEP) won't be masked.\n",
            "Notice 3. Dynamic masking: every time you run gives you different results.\n"
          ],
          "name": "stdout"
        },
        {
          "output_type": "display_data",
          "data": {
            "text/html": [
              "<table border=\"1\" class=\"dataframe\">\n",
              "  <thead>\n",
              "    <tr style=\"text-align: right;\">\n",
              "      <th></th>\n",
              "      <th>text</th>\n",
              "      <th>text_</th>\n",
              "    </tr>\n",
              "  </thead>\n",
              "  <tbody>\n",
              "    <tr>\n",
              "      <th>0</th>\n",
              "      <td>[CLS] out of his box the jack [MASK] his [MASK] . the funny , [MASK] [MASK] of w ##his ##kers around his face ji ##ggle [MASK] [MASK] and down . his queer , big eyes looked around the store . \" hu [MASK] ##y ! \" cried the [MASK] in the box [MASK] \" we are alone at [MASK] and now we can have some fun ! hu ##rra ##y ! \" \" are you sure ? \" asked a bold tin soldier , who stood at the head of a company of his men in a [MASK] box . [MASK] am i sure of what ? \" inquired the jack [MASK] as he [MASK] to and fuel ##o on the [MASK] which made him pop out of the box . [SEP] [PAD] [PAD] [PAD] [PAD] [PAD] [PAD] [PAD] [PAD] [PAD] [PAD] [PAD] [PAD] [PAD] [PAD] [PAD] [PAD] [PAD] [PAD]</td>\n",
              "      <td>##永 ##永 ##永 ##永 ##永 ##永 ##永 popped ##永 head ##永 ##永 ##永 ##永 black fringe ##永 ##永 ##永 ##永 ##永 ##永 ##永 ##永 ##永 ##d up ##永 ##永 ##永 ##永 ##永 ##永 ##永 ##永 ##永 ##永 ##永 ##永 ##永 ##永 ##永 ##rra ##永 ##永 ##永 ##永 ##永 jack ##永 ##永 ##永 . ##永 we ##永 ##永 ##永 last ##永 ##永 ##永 ##永 ##永 ##永 ##永 ##永 ##永 ##永 ##永 ##永 ##永 ##永 ##永 ##永 ##永 ##永 ##永 ##永 ##永 ##永 ##永 ##永 ##永 ##永 ##永 ##永 ##永 ##永 ##永 ##永 ##永 of ##永 ##永 ##永 ##永 large ##永 ##永 \" ##永 ##永 ##永 ##永 ##永 ##永 ##永 inquired ##永 ##永 , ##永 ##永 swung ##永 ##永 fr ##永 ##永 ##永 spring ##永 ##永 ##永 ##永 ##永 ##永 ##永 ##永 ##永 ##永 ##永 ##永 ##永 ##永 ##永 ##永 ##永 ##永 ##永 ##永 ##永 ##永 ##永 ##永 ##永 ##永 ##永 ##永</td>\n",
              "    </tr>\n",
              "    <tr>\n",
              "      <th>1</th>\n",
              "      <td>[CLS] \" are you sure we are alone ? \" went on the [MASK] . \" it would be too bad [MASK] we should come to life when any one could see us . \" \" there is no one [MASK] the department but us toys , \" said a cal ##ico clown , and he banged [MASK] some shiny cy ##mba ##ls on [MASK] ends of his arms [MASK] \" the jack is [MASK] - - we are all by ourselves . \" [SEP] [PAD] [PAD] [PAD] [PAD] [PAD] [PAD] [PAD] [PAD] [PAD] [PAD] [PAD] [PAD] [PAD] [PAD] [PAD] [PAD] [PAD] [PAD] [PAD] [PAD] [PAD] [PAD] [PAD] [PAD] [PAD] [PAD] [PAD] [PAD] [PAD] [PAD] [PAD] [PAD] [PAD] [PAD] [PAD] [PAD] [PAD] [PAD] [PAD] [PAD] [PAD] [PAD] [PAD] [PAD] [PAD] [PAD] [PAD] [PAD] [PAD] [PAD] [PAD] [PAD] [PAD] [PAD] [PAD] [PAD] [PAD] [PAD] [PAD] [PAD] [PAD] [PAD] [PAD] [PAD] [PAD]</td>\n",
              "      <td>##永 ##永 ##永 ##永 ##永 ##永 ##永 ##永 ##永 ##永 ##永 ##永 ##永 soldier ##永 ##永 ##永 ##永 ##永 ##永 ##永 if ##永 ##永 ##永 ##永 ##永 ##永 ##永 ##永 ##永 ##永 ##永 ##永 ##永 \" ##永 ##永 ##永 ##永 in ##永 ##永 ##永 ##永 ##永 ##永 ##永 ##永 ##永 ##永 ##永 ##永 ##永 ##永 ##永 ##永 together ##永 ##永 ##永 ##永 ##永 ##永 the ##永 ##永 ##永 ##永 . ##永 ##永 ##永 ##永 right ##永 ##永 ##永 ##永 ##永 ##永 ##永 ##永 ##永 ##永 ##永 ##永 ##永 ##永 ##永 ##永 ##永 ##永 ##永 ##永 ##永 ##永 ##永 ##永 ##永 ##永 ##永 ##永 ##永 ##永 ##永 ##永 ##永 ##永 ##永 ##永 ##永 ##永 ##永 ##永 ##永 ##永 ##永 ##永 ##永 ##永 ##永 ##永 ##永 ##永 ##永 ##永 ##永 ##永 ##永 ##永 ##永 ##永 ##永 ##永 ##永 ##永 ##永 ##永 ##永 ##永 ##永 ##永 ##永 ##永 ##永 ##永 ##永 ##永 ##永</td>\n",
              "    </tr>\n",
              "  </tbody>\n",
              "</table>"
            ],
            "text/plain": [
              "<IPython.core.display.HTML object>"
            ]
          },
          "metadata": {
            "tags": []
          }
        }
      ]
    },
    {
      "cell_type": "markdown",
      "metadata": {
        "id": "YNVV4BrVI6SE",
        "colab_type": "text"
      },
      "source": [
        "## 2.2 Train"
      ]
    },
    {
      "cell_type": "code",
      "metadata": {
        "id": "gZw6ojmpw0ml",
        "colab_type": "code",
        "colab": {}
      },
      "source": [
        "class LabelSmoothingCrossEntropyFlat(LabelSmoothingCrossEntropy):\n",
        "  def __init__(self, is_2d=True, **kwargs):\n",
        "    super().__init__(**kwargs)\n",
        "    self.is_2d = is_2d\n",
        "  def forward(self, inp, targ):\n",
        "    inp = inp.view(-1,inp.shape[-1]) if self.is_2d else inp.view(-1)\n",
        "    return super().forward(inp, targ.view(-1))"
      ],
      "execution_count": 0,
      "outputs": []
    },
    {
      "cell_type": "code",
      "metadata": {
        "id": "sPCIG5Mfs6vL",
        "colab_type": "code",
        "colab": {}
      },
      "source": [
        "torch.cuda.empty_cache()"
      ],
      "execution_count": 0,
      "outputs": []
    },
    {
      "cell_type": "code",
      "metadata": {
        "id": "jsGg1evigRlb",
        "colab_type": "code",
        "outputId": "caed23b5-e1ef-4851-9674-601412323436",
        "colab": {
          "base_uri": "https://localhost:8080/",
          "height": 347
        }
      },
      "source": [
        "learn = Learner(dls, HFModelWrapper(electra_generator,hf_tokenizer.pad_token_id),  \n",
        "                loss_func=LabelSmoothingCrossEntropyFlat(), \n",
        "                metrics=accuracy,\n",
        "                opt_func=ranger,\n",
        "                cbs=[mlm_cb]).to_fp16()\n",
        "\n",
        "# help you find the best learning rate for \"one cycle learning rate schedule\"\n",
        "# the graph below is the result of learning rate finding\n",
        "lr, _ = learn.lr_find()\n",
        "\n",
        "learn.fit_one_cycle(1, lr) "
      ],
      "execution_count": 0,
      "outputs": [
        {
          "output_type": "display_data",
          "data": {
            "text/html": [
              ""
            ],
            "text/plain": [
              "<IPython.core.display.HTML object>"
            ]
          },
          "metadata": {
            "tags": []
          }
        },
        {
          "output_type": "display_data",
          "data": {
            "text/html": [
              "<table border=\"1\" class=\"dataframe\">\n",
              "  <thead>\n",
              "    <tr style=\"text-align: left;\">\n",
              "      <th>epoch</th>\n",
              "      <th>train_loss</th>\n",
              "      <th>valid_loss</th>\n",
              "      <th>accuracy</th>\n",
              "      <th>time</th>\n",
              "    </tr>\n",
              "  </thead>\n",
              "  <tbody>\n",
              "    <tr>\n",
              "      <td>0</td>\n",
              "      <td>7.359684</td>\n",
              "      <td>7.314448</td>\n",
              "      <td>0.007315</td>\n",
              "      <td>01:29</td>\n",
              "    </tr>\n",
              "  </tbody>\n",
              "</table>"
            ],
            "text/plain": [
              "<IPython.core.display.HTML object>"
            ]
          },
          "metadata": {
            "tags": []
          }
        },
        {
          "output_type": "display_data",
          "data": {
            "image/png": "[encoded data removed]",
            "text/plain": [
              "<Figure size 432x288 with 1 Axes>"
            ]
          },
          "metadata": {
            "tags": [],
            "needs_background": "light"
          }
        }
      ]
    },
    {
      "cell_type": "markdown",
      "metadata": {
        "id": "RKEsfvdGt7Xw",
        "colab_type": "text"
      },
      "source": [
        "# 3. ELECTRA (replaced token detection objective)\n",
        "\n",
        "see details on arxiv [ELECTRA: Pre-training Text Encoders as Discriminators Rather Than Generators](https://arxiv.org/abs/2003.10555)"
      ]
    },
    {
      "cell_type": "code",
      "metadata": {
        "id": "cepbSbJ8l0Ua",
        "colab_type": "code",
        "colab": {}
      },
      "source": [
        "class Electra(nn.Module):\n",
        "  def __init__(self, generator, discriminator):\n",
        "    super().__init__()\n",
        "    self.generator = generator\n",
        "    self.discriminator = discriminator"
      ],
      "execution_count": 0,
      "outputs": []
    },
    {
      "cell_type": "code",
      "metadata": {
        "id": "Ov1WSwJ8zZN0",
        "colab_type": "code",
        "colab": {}
      },
      "source": [
        "class ElectraCallback(MaskedLMCallback):\n",
        "  run_after=MixedPrecision\n",
        "  @delegates(MaskedLMCallback.__init__)\n",
        "  def __init__(self, electra_model, mask_tok_id, special_tok_ids, vocab_size, loss_weights=(1.0, 50.0), **kwargs):\n",
        "    super().__init__(mask_tok_id, special_tok_ids, vocab_size, **kwargs)\n",
        "    assert len(loss_weights)==2, 'loss_weights should contain element 0 and 1 for weight of generator loss and dicriminator loss respectively.'\n",
        "    store_attr(self, 'electra_model, mask_tok_id, loss_weights')\n",
        "    \"\"\"\n",
        "    This is equivalent of tf.nn.sigmoid_cross_entropy_with_logits, which is a sigmoid layer before cross entropy,\n",
        "    when value of targes is either 1.0 or 0.0 .\n",
        "    \"\"\"\n",
        "    self.discri_loss_func = nn.BCEWithLogitsLoss()\n",
        "  \n",
        "  def begin_fit(self):\n",
        "    for cb in self.cbs:\n",
        "      if isinstance(cb, MixedPrecision): self.fp16_cb = cb\n",
        "  def after_fit(self):\n",
        "    if hasattr(self, 'fp16_cb'): delattr(self, 'fp16_cb')\n",
        "\n",
        "  def after_loss(self):\n",
        "    # prepare discriminator's inputs and labels\n",
        "    masked_inputs, labels = self.xb[0], self.yb[0] # both (batch size, sequence length)\n",
        "    masked_pos_mask = masked_inputs == self.mask_tok_id # 1 for masked position, 0 for the others\n",
        "    pred_toks = self.pred.argmax(dim=-1)\n",
        "    generated = masked_inputs + masked_pos_mask * pred_toks # use predicted token to fill masked position\n",
        "    replaced = (masked_pos_mask & (pred_toks != labels))  # is masked token and not equal to predicted\n",
        "    \n",
        "    discri_pred = self.electra_model.discriminator(generated).to(dtype=self.pred.dtype) # (bs, seq_len, 1)\n",
        "    discri_pred = discri_pred.squeeze(-1) # (bs, seq_len)\n",
        "    if hasattr(self, 'fp16_cb'): discri_pred = to_float(discri_pred)\n",
        "    discri_loss = self.discri_loss_func(discri_pred, replaced.to(dtype=discri_pred.dtype))\n",
        "    if hasattr(self, 'fp16_cb'): discri_loss *= self.fp16_cb.loss_scale\n",
        "    self.learn.loss = torch.stack([self.loss, discri_loss]).matmul(torch.tensor(self.loss_weights, dtype=self.loss.dtype, device=self.loss.device))\n",
        "\n",
        "    self.learn.model = self.electra_model\n",
        "\n",
        "  def begin_batch(self):\n",
        "    super().begin_batch() # -> self.xb, self.yb = (masked_inputs,),(answers,)\n",
        "    self.learn.model = self.electra_model.generator"
      ],
      "execution_count": 0,
      "outputs": []
    },
    {
      "cell_type": "markdown",
      "metadata": {
        "id": "r3YY3G7XEBFr",
        "colab_type": "text"
      },
      "source": [
        "* The loss is very large\n",
        "\n",
        "  Because Electra scales the discriminator loss by 50.\n",
        "\n",
        "* Original optimization hyperparamter and schedule\n",
        "\n",
        "  see [config](https://github.com/google-research/electra/blob/79111328070e491b287c307906701ebc61091eb2/configure_pretraining.py#L40) of the offcial repository\n",
        "\n"
      ]
    },
    {
      "cell_type": "code",
      "metadata": {
        "id": "x-8qo7KXEdyd",
        "colab_type": "code",
        "outputId": "9e38c5cb-a85a-4209-fdc9-2b953d5f40be",
        "colab": {
          "base_uri": "https://localhost:8080/",
          "height": 347
        }
      },
      "source": [
        "electra_model = Electra(HFModelWrapper(electra_generator, pad_id=hf_tokenizer.pad_token_id), \n",
        "                        HFModelWrapper(electra_discriminator, pad_id=hf_tokenizer.pad_token_id))\n",
        "\n",
        "electra_cb = ElectraCallback(electra_model, \n",
        "                             mask_tok_id=hf_tokenizer.mask_token_id, \n",
        "                             special_tok_ids=hf_tokenizer.all_special_ids, \n",
        "                             vocab_size=hf_tokenizer.vocab_size)\n",
        "learn = Learner(dls, electra_model,  \n",
        "                loss_func=LabelSmoothingCrossEntropyFlat(), # will only be applied to generator, the loss function for discriminator is specified in callback \n",
        "                metrics=accuracy,\n",
        "                opt_func=ranger,\n",
        "                cbs=[electra_cb]).to_fp16()\n",
        "\n",
        "# help you find the best learning rate for \"one cycle learning rate schedule\"\n",
        "# # the graph below is the result of learning rate finding\n",
        "lr, _ = learn.lr_find()\n",
        "\n",
        "learn.fit_one_cycle(1, lr)"
      ],
      "execution_count": 0,
      "outputs": [
        {
          "output_type": "display_data",
          "data": {
            "text/html": [
              ""
            ],
            "text/plain": [
              "<IPython.core.display.HTML object>"
            ]
          },
          "metadata": {
            "tags": []
          }
        },
        {
          "output_type": "display_data",
          "data": {
            "text/html": [
              "<table border=\"1\" class=\"dataframe\">\n",
              "  <thead>\n",
              "    <tr style=\"text-align: left;\">\n",
              "      <th>epoch</th>\n",
              "      <th>train_loss</th>\n",
              "      <th>valid_loss</th>\n",
              "      <th>accuracy</th>\n",
              "      <th>time</th>\n",
              "    </tr>\n",
              "  </thead>\n",
              "  <tbody>\n",
              "    <tr>\n",
              "      <td>0</td>\n",
              "      <td>523.685852</td>\n",
              "      <td>12.675475</td>\n",
              "      <td>0.007071</td>\n",
              "      <td>01:36</td>\n",
              "    </tr>\n",
              "  </tbody>\n",
              "</table>"
            ],
            "text/plain": [
              "<IPython.core.display.HTML object>"
            ]
          },
          "metadata": {
            "tags": []
          }
        },
        {
          "output_type": "display_data",
          "data": {
            "image/png": "[encoded data removed]",
            "text/plain": [
              "<Figure size 432x288 with 1 Axes>"
            ]
          },
          "metadata": {
            "tags": [],
            "needs_background": "light"
          }
        }
      ]
    }
  ]
}