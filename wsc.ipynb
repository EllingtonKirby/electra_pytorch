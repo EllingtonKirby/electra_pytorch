{
 "cells": [
  {
   "cell_type": "code",
   "execution_count": 2,
   "metadata": {},
   "outputs": [],
   "source": [
    "import torch\n",
    "from transformers import ElectraForPreTraining, ElectraTokenizerFast\n",
    "discriminaotr = ElectraForPreTraining.from_pretrained('google/electra-small-discriminator')\n",
    "tokenizer = ElectraTokenizerFast.from_pretrained('google/electra-small-discriminator')"
   ]
  },
  {
   "cell_type": "code",
   "execution_count": 3,
   "metadata": {
    "tags": []
   },
   "outputs": [
    {
     "output_type": "stream",
     "name": "stdout",
     "text": "{'input_ids': tensor([[ 101, 1045, 2003, 1037, 5394, 1012,  102]]), 'token_type_ids': tensor([[0, 0, 0, 0, 0, 0, 0]]), 'attention_mask': tensor([[1, 1, 1, 1, 1, 1, 1]])}\n"
    },
    {
     "output_type": "execute_result",
     "data": {
      "text/plain": "tensor([5.3586e-05, 5.6633e-01, 5.8161e-01, 2.8755e-02, 8.0858e-02, 3.8214e-03,\n        5.4281e-05], grad_fn=<SigmoidBackward>)"
     },
     "metadata": {},
     "execution_count": 3
    }
   ],
   "source": [
    "inputs = tokenizer.batch_encode_plus(['I is a hero.'])\n",
    "inputs = { k:torch.tensor(v) for k,v in inputs.items()}\n",
    "print(inputs)\n",
    "torch.sigmoid(discriminaotr(**inputs)[0])"
   ]
  },
  {
   "cell_type": "code",
   "execution_count": 4,
   "metadata": {
    "tags": []
   },
   "outputs": [
    {
     "output_type": "stream",
     "name": "stdout",
     "text": "{'input_ids': tensor([[ 101, 1045, 2572, 1037, 5394, 1012,  102]]), 'token_type_ids': tensor([[0, 0, 0, 0, 0, 0, 0]]), 'attention_mask': tensor([[1, 1, 1, 1, 1, 1, 1]])}\n"
    },
    {
     "output_type": "execute_result",
     "data": {
      "text/plain": "tensor([4.8178e-05, 1.3944e-03, 1.8017e-02, 3.8448e-02, 1.0535e-01, 6.4814e-03,\n        4.8617e-05], grad_fn=<SigmoidBackward>)"
     },
     "metadata": {},
     "execution_count": 4
    }
   ],
   "source": [
    "inputs = tokenizer.batch_encode_plus(['I am a hero.'])\n",
    "inputs = { k:torch.tensor(v) for k,v in inputs.items()}\n",
    "print(inputs)\n",
    "torch.sigmoid(discriminaotr(**inputs)[0])"
   ]
  }
 ],
 "metadata": {
  "language_info": {
   "codemirror_mode": {
    "name": "ipython",
    "version": 3
   },
   "file_extension": ".py",
   "mimetype": "text/x-python",
   "name": "python",
   "nbconvert_exporter": "python",
   "pygments_lexer": "ipython3",
   "version": "3.7.7-final"
  },
  "orig_nbformat": 2,
  "kernelspec": {
   "name": "python3",
   "display_name": "Python 3"
  }
 },
 "nbformat": 4,
 "nbformat_minor": 2
}