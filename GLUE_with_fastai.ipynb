{
  "nbformat": 4,
  "nbformat_minor": 0,
  "metadata": {
    "colab": {
      "name": "GLUE with fastai.ipynb",
      "provenance": []
    },
    "kernelspec": {
      "name": "python3",
      "display_name": "Python 3"
    },
    "accelerator": "GPU",
    "widgets": {
      "application/vnd.jupyter.widget-state+json": {
        "d837026ad32445329c2c72faa6bd02a8": {
          "model_module": "@jupyter-widgets/controls",
          "model_name": "HBoxModel",
          "state": {
            "_view_name": "HBoxView",
            "_dom_classes": [],
            "_model_name": "HBoxModel",
            "_view_module": "@jupyter-widgets/controls",
            "_model_module_version": "1.5.0",
            "_view_count": null,
            "_view_module_version": "1.5.0",
            "box_style": "",
            "layout": "IPY_MODEL_1e3332f7a0d74e55ab38ea8cdc84ddc7",
            "_model_module": "@jupyter-widgets/controls",
            "children": [
              "IPY_MODEL_2a04a677973b4fca9bd9c3fdd6c855d0",
              "IPY_MODEL_271d08c0032b4d779113aa3e23bb17e5"
            ]
          }
        },
        "1e3332f7a0d74e55ab38ea8cdc84ddc7": {
          "model_module": "@jupyter-widgets/base",
          "model_name": "LayoutModel",
          "state": {
            "_view_name": "LayoutView",
            "grid_template_rows": null,
            "right": null,
            "justify_content": null,
            "_view_module": "@jupyter-widgets/base",
            "overflow": null,
            "_model_module_version": "1.2.0",
            "_view_count": null,
            "flex_flow": null,
            "width": null,
            "min_width": null,
            "border": null,
            "align_items": null,
            "bottom": null,
            "_model_module": "@jupyter-widgets/base",
            "top": null,
            "grid_column": null,
            "overflow_y": null,
            "overflow_x": null,
            "grid_auto_flow": null,
            "grid_area": null,
            "grid_template_columns": null,
            "flex": null,
            "_model_name": "LayoutModel",
            "justify_items": null,
            "grid_row": null,
            "max_height": null,
            "align_content": null,
            "visibility": null,
            "align_self": null,
            "height": null,
            "min_height": null,
            "padding": null,
            "grid_auto_rows": null,
            "grid_gap": null,
            "max_width": null,
            "order": null,
            "_view_module_version": "1.2.0",
            "grid_template_areas": null,
            "object_position": null,
            "object_fit": null,
            "grid_auto_columns": null,
            "margin": null,
            "display": null,
            "left": null
          }
        },
        "2a04a677973b4fca9bd9c3fdd6c855d0": {
          "model_module": "@jupyter-widgets/controls",
          "model_name": "FloatProgressModel",
          "state": {
            "_view_name": "ProgressView",
            "style": "IPY_MODEL_0466e8bbf1ba4af89ea064f0f232d080",
            "_dom_classes": [],
            "description": "Downloading: 100%",
            "_model_name": "FloatProgressModel",
            "bar_style": "success",
            "max": 231508,
            "_view_module": "@jupyter-widgets/controls",
            "_model_module_version": "1.5.0",
            "value": 231508,
            "_view_count": null,
            "_view_module_version": "1.5.0",
            "orientation": "horizontal",
            "min": 0,
            "description_tooltip": null,
            "_model_module": "@jupyter-widgets/controls",
            "layout": "IPY_MODEL_56b997f9f243421a9d54b7b9d98dd3f5"
          }
        },
        "271d08c0032b4d779113aa3e23bb17e5": {
          "model_module": "@jupyter-widgets/controls",
          "model_name": "HTMLModel",
          "state": {
            "_view_name": "HTMLView",
            "style": "IPY_MODEL_31a170e76d62436fb3d920b9df482ed0",
            "_dom_classes": [],
            "description": "",
            "_model_name": "HTMLModel",
            "placeholder": "​",
            "_view_module": "@jupyter-widgets/controls",
            "_model_module_version": "1.5.0",
            "value": " 232k/232k [00:00&lt;00:00, 2.54MB/s]",
            "_view_count": null,
            "_view_module_version": "1.5.0",
            "description_tooltip": null,
            "_model_module": "@jupyter-widgets/controls",
            "layout": "IPY_MODEL_502f5d1b6db94d188eaea9b091461ea3"
          }
        },
        "0466e8bbf1ba4af89ea064f0f232d080": {
          "model_module": "@jupyter-widgets/controls",
          "model_name": "ProgressStyleModel",
          "state": {
            "_view_name": "StyleView",
            "_model_name": "ProgressStyleModel",
            "description_width": "initial",
            "_view_module": "@jupyter-widgets/base",
            "_model_module_version": "1.5.0",
            "_view_count": null,
            "_view_module_version": "1.2.0",
            "bar_color": null,
            "_model_module": "@jupyter-widgets/controls"
          }
        },
        "56b997f9f243421a9d54b7b9d98dd3f5": {
          "model_module": "@jupyter-widgets/base",
          "model_name": "LayoutModel",
          "state": {
            "_view_name": "LayoutView",
            "grid_template_rows": null,
            "right": null,
            "justify_content": null,
            "_view_module": "@jupyter-widgets/base",
            "overflow": null,
            "_model_module_version": "1.2.0",
            "_view_count": null,
            "flex_flow": null,
            "width": null,
            "min_width": null,
            "border": null,
            "align_items": null,
            "bottom": null,
            "_model_module": "@jupyter-widgets/base",
            "top": null,
            "grid_column": null,
            "overflow_y": null,
            "overflow_x": null,
            "grid_auto_flow": null,
            "grid_area": null,
            "grid_template_columns": null,
            "flex": null,
            "_model_name": "LayoutModel",
            "justify_items": null,
            "grid_row": null,
            "max_height": null,
            "align_content": null,
            "visibility": null,
            "align_self": null,
            "height": null,
            "min_height": null,
            "padding": null,
            "grid_auto_rows": null,
            "grid_gap": null,
            "max_width": null,
            "order": null,
            "_view_module_version": "1.2.0",
            "grid_template_areas": null,
            "object_position": null,
            "object_fit": null,
            "grid_auto_columns": null,
            "margin": null,
            "display": null,
            "left": null
          }
        },
        "31a170e76d62436fb3d920b9df482ed0": {
          "model_module": "@jupyter-widgets/controls",
          "model_name": "DescriptionStyleModel",
          "state": {
            "_view_name": "StyleView",
            "_model_name": "DescriptionStyleModel",
            "description_width": "",
            "_view_module": "@jupyter-widgets/base",
            "_model_module_version": "1.5.0",
            "_view_count": null,
            "_view_module_version": "1.2.0",
            "_model_module": "@jupyter-widgets/controls"
          }
        },
        "502f5d1b6db94d188eaea9b091461ea3": {
          "model_module": "@jupyter-widgets/base",
          "model_name": "LayoutModel",
          "state": {
            "_view_name": "LayoutView",
            "grid_template_rows": null,
            "right": null,
            "justify_content": null,
            "_view_module": "@jupyter-widgets/base",
            "overflow": null,
            "_model_module_version": "1.2.0",
            "_view_count": null,
            "flex_flow": null,
            "width": null,
            "min_width": null,
            "border": null,
            "align_items": null,
            "bottom": null,
            "_model_module": "@jupyter-widgets/base",
            "top": null,
            "grid_column": null,
            "overflow_y": null,
            "overflow_x": null,
            "grid_auto_flow": null,
            "grid_area": null,
            "grid_template_columns": null,
            "flex": null,
            "_model_name": "LayoutModel",
            "justify_items": null,
            "grid_row": null,
            "max_height": null,
            "align_content": null,
            "visibility": null,
            "align_self": null,
            "height": null,
            "min_height": null,
            "padding": null,
            "grid_auto_rows": null,
            "grid_gap": null,
            "max_width": null,
            "order": null,
            "_view_module_version": "1.2.0",
            "grid_template_areas": null,
            "object_position": null,
            "object_fit": null,
            "grid_auto_columns": null,
            "margin": null,
            "display": null,
            "left": null
          }
        },
        "5c9a3eb9a14a4102aae24a137aefabf3": {
          "model_module": "@jupyter-widgets/controls",
          "model_name": "HBoxModel",
          "state": {
            "_view_name": "HBoxView",
            "_dom_classes": [],
            "_model_name": "HBoxModel",
            "_view_module": "@jupyter-widgets/controls",
            "_model_module_version": "1.5.0",
            "_view_count": null,
            "_view_module_version": "1.5.0",
            "box_style": "",
            "layout": "IPY_MODEL_2fe9f91ffacf42ceacb4e06d484e068b",
            "_model_module": "@jupyter-widgets/controls",
            "children": [
              "IPY_MODEL_a238585067b84167baf1206897cc8d73",
              "IPY_MODEL_7d898a39e5844f228751cb72b4176d85"
            ]
          }
        },
        "2fe9f91ffacf42ceacb4e06d484e068b": {
          "model_module": "@jupyter-widgets/base",
          "model_name": "LayoutModel",
          "state": {
            "_view_name": "LayoutView",
            "grid_template_rows": null,
            "right": null,
            "justify_content": null,
            "_view_module": "@jupyter-widgets/base",
            "overflow": null,
            "_model_module_version": "1.2.0",
            "_view_count": null,
            "flex_flow": null,
            "width": null,
            "min_width": null,
            "border": null,
            "align_items": null,
            "bottom": null,
            "_model_module": "@jupyter-widgets/base",
            "top": null,
            "grid_column": null,
            "overflow_y": null,
            "overflow_x": null,
            "grid_auto_flow": null,
            "grid_area": null,
            "grid_template_columns": null,
            "flex": null,
            "_model_name": "LayoutModel",
            "justify_items": null,
            "grid_row": null,
            "max_height": null,
            "align_content": null,
            "visibility": null,
            "align_self": null,
            "height": null,
            "min_height": null,
            "padding": null,
            "grid_auto_rows": null,
            "grid_gap": null,
            "max_width": null,
            "order": null,
            "_view_module_version": "1.2.0",
            "grid_template_areas": null,
            "object_position": null,
            "object_fit": null,
            "grid_auto_columns": null,
            "margin": null,
            "display": null,
            "left": null
          }
        },
        "a238585067b84167baf1206897cc8d73": {
          "model_module": "@jupyter-widgets/controls",
          "model_name": "FloatProgressModel",
          "state": {
            "_view_name": "ProgressView",
            "style": "IPY_MODEL_20914a3b733b4dd8844c3cc473159b7d",
            "_dom_classes": [],
            "description": "Downloading: 100%",
            "_model_name": "FloatProgressModel",
            "bar_style": "success",
            "max": 466,
            "_view_module": "@jupyter-widgets/controls",
            "_model_module_version": "1.5.0",
            "value": 466,
            "_view_count": null,
            "_view_module_version": "1.5.0",
            "orientation": "horizontal",
            "min": 0,
            "description_tooltip": null,
            "_model_module": "@jupyter-widgets/controls",
            "layout": "IPY_MODEL_dfcf82be7bdf414c8fdf1fbbaf4a46af"
          }
        },
        "7d898a39e5844f228751cb72b4176d85": {
          "model_module": "@jupyter-widgets/controls",
          "model_name": "HTMLModel",
          "state": {
            "_view_name": "HTMLView",
            "style": "IPY_MODEL_3c99a7fc7f0045adac838f9828251d32",
            "_dom_classes": [],
            "description": "",
            "_model_name": "HTMLModel",
            "placeholder": "​",
            "_view_module": "@jupyter-widgets/controls",
            "_model_module_version": "1.5.0",
            "value": " 466/466 [00:02&lt;00:00, 220B/s]",
            "_view_count": null,
            "_view_module_version": "1.5.0",
            "description_tooltip": null,
            "_model_module": "@jupyter-widgets/controls",
            "layout": "IPY_MODEL_eb4cbaa7bbef406786f2e53d669fe179"
          }
        },
        "20914a3b733b4dd8844c3cc473159b7d": {
          "model_module": "@jupyter-widgets/controls",
          "model_name": "ProgressStyleModel",
          "state": {
            "_view_name": "StyleView",
            "_model_name": "ProgressStyleModel",
            "description_width": "initial",
            "_view_module": "@jupyter-widgets/base",
            "_model_module_version": "1.5.0",
            "_view_count": null,
            "_view_module_version": "1.2.0",
            "bar_color": null,
            "_model_module": "@jupyter-widgets/controls"
          }
        },
        "dfcf82be7bdf414c8fdf1fbbaf4a46af": {
          "model_module": "@jupyter-widgets/base",
          "model_name": "LayoutModel",
          "state": {
            "_view_name": "LayoutView",
            "grid_template_rows": null,
            "right": null,
            "justify_content": null,
            "_view_module": "@jupyter-widgets/base",
            "overflow": null,
            "_model_module_version": "1.2.0",
            "_view_count": null,
            "flex_flow": null,
            "width": null,
            "min_width": null,
            "border": null,
            "align_items": null,
            "bottom": null,
            "_model_module": "@jupyter-widgets/base",
            "top": null,
            "grid_column": null,
            "overflow_y": null,
            "overflow_x": null,
            "grid_auto_flow": null,
            "grid_area": null,
            "grid_template_columns": null,
            "flex": null,
            "_model_name": "LayoutModel",
            "justify_items": null,
            "grid_row": null,
            "max_height": null,
            "align_content": null,
            "visibility": null,
            "align_self": null,
            "height": null,
            "min_height": null,
            "padding": null,
            "grid_auto_rows": null,
            "grid_gap": null,
            "max_width": null,
            "order": null,
            "_view_module_version": "1.2.0",
            "grid_template_areas": null,
            "object_position": null,
            "object_fit": null,
            "grid_auto_columns": null,
            "margin": null,
            "display": null,
            "left": null
          }
        },
        "3c99a7fc7f0045adac838f9828251d32": {
          "model_module": "@jupyter-widgets/controls",
          "model_name": "DescriptionStyleModel",
          "state": {
            "_view_name": "StyleView",
            "_model_name": "DescriptionStyleModel",
            "description_width": "",
            "_view_module": "@jupyter-widgets/base",
            "_model_module_version": "1.5.0",
            "_view_count": null,
            "_view_module_version": "1.2.0",
            "_model_module": "@jupyter-widgets/controls"
          }
        },
        "eb4cbaa7bbef406786f2e53d669fe179": {
          "model_module": "@jupyter-widgets/base",
          "model_name": "LayoutModel",
          "state": {
            "_view_name": "LayoutView",
            "grid_template_rows": null,
            "right": null,
            "justify_content": null,
            "_view_module": "@jupyter-widgets/base",
            "overflow": null,
            "_model_module_version": "1.2.0",
            "_view_count": null,
            "flex_flow": null,
            "width": null,
            "min_width": null,
            "border": null,
            "align_items": null,
            "bottom": null,
            "_model_module": "@jupyter-widgets/base",
            "top": null,
            "grid_column": null,
            "overflow_y": null,
            "overflow_x": null,
            "grid_auto_flow": null,
            "grid_area": null,
            "grid_template_columns": null,
            "flex": null,
            "_model_name": "LayoutModel",
            "justify_items": null,
            "grid_row": null,
            "max_height": null,
            "align_content": null,
            "visibility": null,
            "align_self": null,
            "height": null,
            "min_height": null,
            "padding": null,
            "grid_auto_rows": null,
            "grid_gap": null,
            "max_width": null,
            "order": null,
            "_view_module_version": "1.2.0",
            "grid_template_areas": null,
            "object_position": null,
            "object_fit": null,
            "grid_auto_columns": null,
            "margin": null,
            "display": null,
            "left": null
          }
        },
        "a6588e24b46d4a4483a461077e0224b1": {
          "model_module": "@jupyter-widgets/controls",
          "model_name": "HBoxModel",
          "state": {
            "_view_name": "HBoxView",
            "_dom_classes": [],
            "_model_name": "HBoxModel",
            "_view_module": "@jupyter-widgets/controls",
            "_model_module_version": "1.5.0",
            "_view_count": null,
            "_view_module_version": "1.5.0",
            "box_style": "",
            "layout": "IPY_MODEL_15da8b0ee8f64a42bc96ea08d11e49b3",
            "_model_module": "@jupyter-widgets/controls",
            "children": [
              "IPY_MODEL_7ede8729033243abb3b697ad0050ef9c",
              "IPY_MODEL_84c48e26fe75454dad4b3cf7914a7f04"
            ]
          }
        },
        "15da8b0ee8f64a42bc96ea08d11e49b3": {
          "model_module": "@jupyter-widgets/base",
          "model_name": "LayoutModel",
          "state": {
            "_view_name": "LayoutView",
            "grid_template_rows": null,
            "right": null,
            "justify_content": null,
            "_view_module": "@jupyter-widgets/base",
            "overflow": null,
            "_model_module_version": "1.2.0",
            "_view_count": null,
            "flex_flow": null,
            "width": null,
            "min_width": null,
            "border": null,
            "align_items": null,
            "bottom": null,
            "_model_module": "@jupyter-widgets/base",
            "top": null,
            "grid_column": null,
            "overflow_y": null,
            "overflow_x": null,
            "grid_auto_flow": null,
            "grid_area": null,
            "grid_template_columns": null,
            "flex": null,
            "_model_name": "LayoutModel",
            "justify_items": null,
            "grid_row": null,
            "max_height": null,
            "align_content": null,
            "visibility": null,
            "align_self": null,
            "height": null,
            "min_height": null,
            "padding": null,
            "grid_auto_rows": null,
            "grid_gap": null,
            "max_width": null,
            "order": null,
            "_view_module_version": "1.2.0",
            "grid_template_areas": null,
            "object_position": null,
            "object_fit": null,
            "grid_auto_columns": null,
            "margin": null,
            "display": null,
            "left": null
          }
        },
        "7ede8729033243abb3b697ad0050ef9c": {
          "model_module": "@jupyter-widgets/controls",
          "model_name": "FloatProgressModel",
          "state": {
            "_view_name": "ProgressView",
            "style": "IPY_MODEL_959ea78eda714628a282bd9b17c80781",
            "_dom_classes": [],
            "description": "Downloading: 100%",
            "_model_name": "FloatProgressModel",
            "bar_style": "success",
            "max": 54245363,
            "_view_module": "@jupyter-widgets/controls",
            "_model_module_version": "1.5.0",
            "value": 54245363,
            "_view_count": null,
            "_view_module_version": "1.5.0",
            "orientation": "horizontal",
            "min": 0,
            "description_tooltip": null,
            "_model_module": "@jupyter-widgets/controls",
            "layout": "IPY_MODEL_902f172f476245fc8536437e2ed9f510"
          }
        },
        "84c48e26fe75454dad4b3cf7914a7f04": {
          "model_module": "@jupyter-widgets/controls",
          "model_name": "HTMLModel",
          "state": {
            "_view_name": "HTMLView",
            "style": "IPY_MODEL_9a84ffd30885487194bfee5c56fe617b",
            "_dom_classes": [],
            "description": "",
            "_model_name": "HTMLModel",
            "placeholder": "​",
            "_view_module": "@jupyter-widgets/controls",
            "_model_module_version": "1.5.0",
            "value": " 54.2M/54.2M [00:01&lt;00:00, 43.6MB/s]",
            "_view_count": null,
            "_view_module_version": "1.5.0",
            "description_tooltip": null,
            "_model_module": "@jupyter-widgets/controls",
            "layout": "IPY_MODEL_10c3ef93ea1e4c97aae246f23ee6fe07"
          }
        },
        "959ea78eda714628a282bd9b17c80781": {
          "model_module": "@jupyter-widgets/controls",
          "model_name": "ProgressStyleModel",
          "state": {
            "_view_name": "StyleView",
            "_model_name": "ProgressStyleModel",
            "description_width": "initial",
            "_view_module": "@jupyter-widgets/base",
            "_model_module_version": "1.5.0",
            "_view_count": null,
            "_view_module_version": "1.2.0",
            "bar_color": null,
            "_model_module": "@jupyter-widgets/controls"
          }
        },
        "902f172f476245fc8536437e2ed9f510": {
          "model_module": "@jupyter-widgets/base",
          "model_name": "LayoutModel",
          "state": {
            "_view_name": "LayoutView",
            "grid_template_rows": null,
            "right": null,
            "justify_content": null,
            "_view_module": "@jupyter-widgets/base",
            "overflow": null,
            "_model_module_version": "1.2.0",
            "_view_count": null,
            "flex_flow": null,
            "width": null,
            "min_width": null,
            "border": null,
            "align_items": null,
            "bottom": null,
            "_model_module": "@jupyter-widgets/base",
            "top": null,
            "grid_column": null,
            "overflow_y": null,
            "overflow_x": null,
            "grid_auto_flow": null,
            "grid_area": null,
            "grid_template_columns": null,
            "flex": null,
            "_model_name": "LayoutModel",
            "justify_items": null,
            "grid_row": null,
            "max_height": null,
            "align_content": null,
            "visibility": null,
            "align_self": null,
            "height": null,
            "min_height": null,
            "padding": null,
            "grid_auto_rows": null,
            "grid_gap": null,
            "max_width": null,
            "order": null,
            "_view_module_version": "1.2.0",
            "grid_template_areas": null,
            "object_position": null,
            "object_fit": null,
            "grid_auto_columns": null,
            "margin": null,
            "display": null,
            "left": null
          }
        },
        "9a84ffd30885487194bfee5c56fe617b": {
          "model_module": "@jupyter-widgets/controls",
          "model_name": "DescriptionStyleModel",
          "state": {
            "_view_name": "StyleView",
            "_model_name": "DescriptionStyleModel",
            "description_width": "",
            "_view_module": "@jupyter-widgets/base",
            "_model_module_version": "1.5.0",
            "_view_count": null,
            "_view_module_version": "1.2.0",
            "_model_module": "@jupyter-widgets/controls"
          }
        },
        "10c3ef93ea1e4c97aae246f23ee6fe07": {
          "model_module": "@jupyter-widgets/base",
          "model_name": "LayoutModel",
          "state": {
            "_view_name": "LayoutView",
            "grid_template_rows": null,
            "right": null,
            "justify_content": null,
            "_view_module": "@jupyter-widgets/base",
            "overflow": null,
            "_model_module_version": "1.2.0",
            "_view_count": null,
            "flex_flow": null,
            "width": null,
            "min_width": null,
            "border": null,
            "align_items": null,
            "bottom": null,
            "_model_module": "@jupyter-widgets/base",
            "top": null,
            "grid_column": null,
            "overflow_y": null,
            "overflow_x": null,
            "grid_auto_flow": null,
            "grid_area": null,
            "grid_template_columns": null,
            "flex": null,
            "_model_name": "LayoutModel",
            "justify_items": null,
            "grid_row": null,
            "max_height": null,
            "align_content": null,
            "visibility": null,
            "align_self": null,
            "height": null,
            "min_height": null,
            "padding": null,
            "grid_auto_rows": null,
            "grid_gap": null,
            "max_width": null,
            "order": null,
            "_view_module_version": "1.2.0",
            "grid_template_areas": null,
            "object_position": null,
            "object_fit": null,
            "grid_auto_columns": null,
            "margin": null,
            "display": null,
            "left": null
          }
        },
        "64974849280c4924a628fb94c1926229": {
          "model_module": "@jupyter-widgets/controls",
          "model_name": "HBoxModel",
          "state": {
            "_view_name": "HBoxView",
            "_dom_classes": [],
            "_model_name": "HBoxModel",
            "_view_module": "@jupyter-widgets/controls",
            "_model_module_version": "1.5.0",
            "_view_count": null,
            "_view_module_version": "1.5.0",
            "box_style": "",
            "layout": "IPY_MODEL_d272ab5b77eb439d8000f41c927fa5ad",
            "_model_module": "@jupyter-widgets/controls",
            "children": [
              "IPY_MODEL_862e6b55c7aa44198726fbee2d9ecc8d",
              "IPY_MODEL_07ccac51e48f4082817bf12381c48175"
            ]
          }
        },
        "d272ab5b77eb439d8000f41c927fa5ad": {
          "model_module": "@jupyter-widgets/base",
          "model_name": "LayoutModel",
          "state": {
            "_view_name": "LayoutView",
            "grid_template_rows": null,
            "right": null,
            "justify_content": null,
            "_view_module": "@jupyter-widgets/base",
            "overflow": null,
            "_model_module_version": "1.2.0",
            "_view_count": null,
            "flex_flow": null,
            "width": null,
            "min_width": null,
            "border": null,
            "align_items": null,
            "bottom": null,
            "_model_module": "@jupyter-widgets/base",
            "top": null,
            "grid_column": null,
            "overflow_y": null,
            "overflow_x": null,
            "grid_auto_flow": null,
            "grid_area": null,
            "grid_template_columns": null,
            "flex": null,
            "_model_name": "LayoutModel",
            "justify_items": null,
            "grid_row": null,
            "max_height": null,
            "align_content": null,
            "visibility": null,
            "align_self": null,
            "height": null,
            "min_height": null,
            "padding": null,
            "grid_auto_rows": null,
            "grid_gap": null,
            "max_width": null,
            "order": null,
            "_view_module_version": "1.2.0",
            "grid_template_areas": null,
            "object_position": null,
            "object_fit": null,
            "grid_auto_columns": null,
            "margin": null,
            "display": null,
            "left": null
          }
        },
        "862e6b55c7aa44198726fbee2d9ecc8d": {
          "model_module": "@jupyter-widgets/controls",
          "model_name": "FloatProgressModel",
          "state": {
            "_view_name": "ProgressView",
            "style": "IPY_MODEL_35cef367759948d4a8e65cd6ec996e32",
            "_dom_classes": [],
            "description": "Downloading: 100%",
            "_model_name": "FloatProgressModel",
            "bar_style": "success",
            "max": 28998,
            "_view_module": "@jupyter-widgets/controls",
            "_model_module_version": "1.5.0",
            "value": 28998,
            "_view_count": null,
            "_view_module_version": "1.5.0",
            "orientation": "horizontal",
            "min": 0,
            "description_tooltip": null,
            "_model_module": "@jupyter-widgets/controls",
            "layout": "IPY_MODEL_2e4e19a39dc242a0b042d28740b2f382"
          }
        },
        "07ccac51e48f4082817bf12381c48175": {
          "model_module": "@jupyter-widgets/controls",
          "model_name": "HTMLModel",
          "state": {
            "_view_name": "HTMLView",
            "style": "IPY_MODEL_850e39b896e74da6a45eae6834af2d35",
            "_dom_classes": [],
            "description": "",
            "_model_name": "HTMLModel",
            "placeholder": "​",
            "_view_module": "@jupyter-widgets/controls",
            "_model_module_version": "1.5.0",
            "value": " 29.0k/29.0k [00:00&lt;00:00, 84.4kB/s]",
            "_view_count": null,
            "_view_module_version": "1.5.0",
            "description_tooltip": null,
            "_model_module": "@jupyter-widgets/controls",
            "layout": "IPY_MODEL_f80134e0b8434075954775f09fb1e82a"
          }
        },
        "35cef367759948d4a8e65cd6ec996e32": {
          "model_module": "@jupyter-widgets/controls",
          "model_name": "ProgressStyleModel",
          "state": {
            "_view_name": "StyleView",
            "_model_name": "ProgressStyleModel",
            "description_width": "initial",
            "_view_module": "@jupyter-widgets/base",
            "_model_module_version": "1.5.0",
            "_view_count": null,
            "_view_module_version": "1.2.0",
            "bar_color": null,
            "_model_module": "@jupyter-widgets/controls"
          }
        },
        "2e4e19a39dc242a0b042d28740b2f382": {
          "model_module": "@jupyter-widgets/base",
          "model_name": "LayoutModel",
          "state": {
            "_view_name": "LayoutView",
            "grid_template_rows": null,
            "right": null,
            "justify_content": null,
            "_view_module": "@jupyter-widgets/base",
            "overflow": null,
            "_model_module_version": "1.2.0",
            "_view_count": null,
            "flex_flow": null,
            "width": null,
            "min_width": null,
            "border": null,
            "align_items": null,
            "bottom": null,
            "_model_module": "@jupyter-widgets/base",
            "top": null,
            "grid_column": null,
            "overflow_y": null,
            "overflow_x": null,
            "grid_auto_flow": null,
            "grid_area": null,
            "grid_template_columns": null,
            "flex": null,
            "_model_name": "LayoutModel",
            "justify_items": null,
            "grid_row": null,
            "max_height": null,
            "align_content": null,
            "visibility": null,
            "align_self": null,
            "height": null,
            "min_height": null,
            "padding": null,
            "grid_auto_rows": null,
            "grid_gap": null,
            "max_width": null,
            "order": null,
            "_view_module_version": "1.2.0",
            "grid_template_areas": null,
            "object_position": null,
            "object_fit": null,
            "grid_auto_columns": null,
            "margin": null,
            "display": null,
            "left": null
          }
        },
        "850e39b896e74da6a45eae6834af2d35": {
          "model_module": "@jupyter-widgets/controls",
          "model_name": "DescriptionStyleModel",
          "state": {
            "_view_name": "StyleView",
            "_model_name": "DescriptionStyleModel",
            "description_width": "",
            "_view_module": "@jupyter-widgets/base",
            "_model_module_version": "1.5.0",
            "_view_count": null,
            "_view_module_version": "1.2.0",
            "_model_module": "@jupyter-widgets/controls"
          }
        },
        "f80134e0b8434075954775f09fb1e82a": {
          "model_module": "@jupyter-widgets/base",
          "model_name": "LayoutModel",
          "state": {
            "_view_name": "LayoutView",
            "grid_template_rows": null,
            "right": null,
            "justify_content": null,
            "_view_module": "@jupyter-widgets/base",
            "overflow": null,
            "_model_module_version": "1.2.0",
            "_view_count": null,
            "flex_flow": null,
            "width": null,
            "min_width": null,
            "border": null,
            "align_items": null,
            "bottom": null,
            "_model_module": "@jupyter-widgets/base",
            "top": null,
            "grid_column": null,
            "overflow_y": null,
            "overflow_x": null,
            "grid_auto_flow": null,
            "grid_area": null,
            "grid_template_columns": null,
            "flex": null,
            "_model_name": "LayoutModel",
            "justify_items": null,
            "grid_row": null,
            "max_height": null,
            "align_content": null,
            "visibility": null,
            "align_self": null,
            "height": null,
            "min_height": null,
            "padding": null,
            "grid_auto_rows": null,
            "grid_gap": null,
            "max_width": null,
            "order": null,
            "_view_module_version": "1.2.0",
            "grid_template_areas": null,
            "object_position": null,
            "object_fit": null,
            "grid_auto_columns": null,
            "margin": null,
            "display": null,
            "left": null
          }
        },
        "7d90337e576c4046a8d586358e56f80b": {
          "model_module": "@jupyter-widgets/controls",
          "model_name": "HBoxModel",
          "state": {
            "_view_name": "HBoxView",
            "_dom_classes": [],
            "_model_name": "HBoxModel",
            "_view_module": "@jupyter-widgets/controls",
            "_model_module_version": "1.5.0",
            "_view_count": null,
            "_view_module_version": "1.5.0",
            "box_style": "",
            "layout": "IPY_MODEL_1aea93c9d4d648938acaf468e578e8bb",
            "_model_module": "@jupyter-widgets/controls",
            "children": [
              "IPY_MODEL_92bcb8ac65ec410bb0b7b081fb1f3975",
              "IPY_MODEL_57cff609dd004658840be554441bda30"
            ]
          }
        },
        "1aea93c9d4d648938acaf468e578e8bb": {
          "model_module": "@jupyter-widgets/base",
          "model_name": "LayoutModel",
          "state": {
            "_view_name": "LayoutView",
            "grid_template_rows": null,
            "right": null,
            "justify_content": null,
            "_view_module": "@jupyter-widgets/base",
            "overflow": null,
            "_model_module_version": "1.2.0",
            "_view_count": null,
            "flex_flow": null,
            "width": null,
            "min_width": null,
            "border": null,
            "align_items": null,
            "bottom": null,
            "_model_module": "@jupyter-widgets/base",
            "top": null,
            "grid_column": null,
            "overflow_y": null,
            "overflow_x": null,
            "grid_auto_flow": null,
            "grid_area": null,
            "grid_template_columns": null,
            "flex": null,
            "_model_name": "LayoutModel",
            "justify_items": null,
            "grid_row": null,
            "max_height": null,
            "align_content": null,
            "visibility": null,
            "align_self": null,
            "height": null,
            "min_height": null,
            "padding": null,
            "grid_auto_rows": null,
            "grid_gap": null,
            "max_width": null,
            "order": null,
            "_view_module_version": "1.2.0",
            "grid_template_areas": null,
            "object_position": null,
            "object_fit": null,
            "grid_auto_columns": null,
            "margin": null,
            "display": null,
            "left": null
          }
        },
        "92bcb8ac65ec410bb0b7b081fb1f3975": {
          "model_module": "@jupyter-widgets/controls",
          "model_name": "FloatProgressModel",
          "state": {
            "_view_name": "ProgressView",
            "style": "IPY_MODEL_365f1cd3e502477d9da8bcf75a5c3c7d",
            "_dom_classes": [],
            "description": "Downloading: 100%",
            "_model_name": "FloatProgressModel",
            "bar_style": "success",
            "max": 30329,
            "_view_module": "@jupyter-widgets/controls",
            "_model_module_version": "1.5.0",
            "value": 30329,
            "_view_count": null,
            "_view_module_version": "1.5.0",
            "orientation": "horizontal",
            "min": 0,
            "description_tooltip": null,
            "_model_module": "@jupyter-widgets/controls",
            "layout": "IPY_MODEL_50084726251e41478f9c415bdca2be2d"
          }
        },
        "57cff609dd004658840be554441bda30": {
          "model_module": "@jupyter-widgets/controls",
          "model_name": "HTMLModel",
          "state": {
            "_view_name": "HTMLView",
            "style": "IPY_MODEL_7a935f75d03d4d8393f88d063bf88e80",
            "_dom_classes": [],
            "description": "",
            "_model_name": "HTMLModel",
            "placeholder": "​",
            "_view_module": "@jupyter-widgets/controls",
            "_model_module_version": "1.5.0",
            "value": " 30.3k/30.3k [00:00&lt;00:00, 548kB/s]",
            "_view_count": null,
            "_view_module_version": "1.5.0",
            "description_tooltip": null,
            "_model_module": "@jupyter-widgets/controls",
            "layout": "IPY_MODEL_e0b943a389c04f04846f1d21b775d6ed"
          }
        },
        "365f1cd3e502477d9da8bcf75a5c3c7d": {
          "model_module": "@jupyter-widgets/controls",
          "model_name": "ProgressStyleModel",
          "state": {
            "_view_name": "StyleView",
            "_model_name": "ProgressStyleModel",
            "description_width": "initial",
            "_view_module": "@jupyter-widgets/base",
            "_model_module_version": "1.5.0",
            "_view_count": null,
            "_view_module_version": "1.2.0",
            "bar_color": null,
            "_model_module": "@jupyter-widgets/controls"
          }
        },
        "50084726251e41478f9c415bdca2be2d": {
          "model_module": "@jupyter-widgets/base",
          "model_name": "LayoutModel",
          "state": {
            "_view_name": "LayoutView",
            "grid_template_rows": null,
            "right": null,
            "justify_content": null,
            "_view_module": "@jupyter-widgets/base",
            "overflow": null,
            "_model_module_version": "1.2.0",
            "_view_count": null,
            "flex_flow": null,
            "width": null,
            "min_width": null,
            "border": null,
            "align_items": null,
            "bottom": null,
            "_model_module": "@jupyter-widgets/base",
            "top": null,
            "grid_column": null,
            "overflow_y": null,
            "overflow_x": null,
            "grid_auto_flow": null,
            "grid_area": null,
            "grid_template_columns": null,
            "flex": null,
            "_model_name": "LayoutModel",
            "justify_items": null,
            "grid_row": null,
            "max_height": null,
            "align_content": null,
            "visibility": null,
            "align_self": null,
            "height": null,
            "min_height": null,
            "padding": null,
            "grid_auto_rows": null,
            "grid_gap": null,
            "max_width": null,
            "order": null,
            "_view_module_version": "1.2.0",
            "grid_template_areas": null,
            "object_position": null,
            "object_fit": null,
            "grid_auto_columns": null,
            "margin": null,
            "display": null,
            "left": null
          }
        },
        "7a935f75d03d4d8393f88d063bf88e80": {
          "model_module": "@jupyter-widgets/controls",
          "model_name": "DescriptionStyleModel",
          "state": {
            "_view_name": "StyleView",
            "_model_name": "DescriptionStyleModel",
            "description_width": "",
            "_view_module": "@jupyter-widgets/base",
            "_model_module_version": "1.5.0",
            "_view_count": null,
            "_view_module_version": "1.2.0",
            "_model_module": "@jupyter-widgets/controls"
          }
        },
        "e0b943a389c04f04846f1d21b775d6ed": {
          "model_module": "@jupyter-widgets/base",
          "model_name": "LayoutModel",
          "state": {
            "_view_name": "LayoutView",
            "grid_template_rows": null,
            "right": null,
            "justify_content": null,
            "_view_module": "@jupyter-widgets/base",
            "overflow": null,
            "_model_module_version": "1.2.0",
            "_view_count": null,
            "flex_flow": null,
            "width": null,
            "min_width": null,
            "border": null,
            "align_items": null,
            "bottom": null,
            "_model_module": "@jupyter-widgets/base",
            "top": null,
            "grid_column": null,
            "overflow_y": null,
            "overflow_x": null,
            "grid_auto_flow": null,
            "grid_area": null,
            "grid_template_columns": null,
            "flex": null,
            "_model_name": "LayoutModel",
            "justify_items": null,
            "grid_row": null,
            "max_height": null,
            "align_content": null,
            "visibility": null,
            "align_self": null,
            "height": null,
            "min_height": null,
            "padding": null,
            "grid_auto_rows": null,
            "grid_gap": null,
            "max_width": null,
            "order": null,
            "_view_module_version": "1.2.0",
            "grid_template_areas": null,
            "object_position": null,
            "object_fit": null,
            "grid_auto_columns": null,
            "margin": null,
            "display": null,
            "left": null
          }
        }
      }
    }
  },
  "cells": [
    {
      "cell_type": "code",
      "metadata": {
        "id": "Uns2VbU0Yj5f",
        "colab_type": "code",
        "colab": {}
      },
      "source": [
        "try: import nlp\n",
        "except ImportError:\n",
        "  %pip install -q fastai2 transformers nlp\n",
        "  !rm -rf Pretrain-MLM-and-finetune-on-GLUE-with-fastai\n",
        "  !git clone https://github.com/richardyy1188/Pretrain-MLM-and-finetune-on-GLUE-with-fastai.git\n",
        "  exit() # In Colab, to use the newer installed pyarrow, you need to restart your session for first use"
      ],
      "execution_count": 0,
      "outputs": []
    },
    {
      "cell_type": "code",
      "metadata": {
        "id": "ugFdx5v_YxzA",
        "colab_type": "code",
        "colab": {
          "base_uri": "https://localhost:8080/",
          "height": 35
        },
        "outputId": "3ed7882f-d925-49b3-bd41-a17f9d1da72f"
      },
      "source": [
        "%cd Pretrain-MLM-and-finetune-on-GLUE-with-fastai\n",
        "\n",
        "from pathlib import Path\n",
        "from functools import partial\n",
        "from IPython.core.debugger import set_trace as bk\n",
        "from sklearn import metrics as skm\n",
        "from scipy import stats as spm\n",
        "from torch import nn\n",
        "import nlp\n",
        "from transformers import ElectraModel, ElectraTokenizer, ElectraTokenizerFast\n",
        "from fastai2.text.all import *\n",
        "from _utils.would_like_to_pr import TextDataloader\n",
        "from _utils.hf_transformers_integration import HFModelWrapper"
      ],
      "execution_count": 2,
      "outputs": [
        {
          "output_type": "stream",
          "text": [
            "/content/Pretrain-MLM-and-finetune-on-GLUE-with-fastai\n"
          ],
          "name": "stdout"
        }
      ]
    },
    {
      "cell_type": "code",
      "metadata": {
        "id": "6wb0zB6iYyvC",
        "colab_type": "code",
        "colab": {
          "base_uri": "https://localhost:8080/",
          "height": 166,
          "referenced_widgets": [
            "d837026ad32445329c2c72faa6bd02a8",
            "1e3332f7a0d74e55ab38ea8cdc84ddc7",
            "2a04a677973b4fca9bd9c3fdd6c855d0",
            "271d08c0032b4d779113aa3e23bb17e5",
            "0466e8bbf1ba4af89ea064f0f232d080",
            "56b997f9f243421a9d54b7b9d98dd3f5",
            "31a170e76d62436fb3d920b9df482ed0",
            "502f5d1b6db94d188eaea9b091461ea3",
            "5c9a3eb9a14a4102aae24a137aefabf3",
            "2fe9f91ffacf42ceacb4e06d484e068b",
            "a238585067b84167baf1206897cc8d73",
            "7d898a39e5844f228751cb72b4176d85",
            "20914a3b733b4dd8844c3cc473159b7d",
            "dfcf82be7bdf414c8fdf1fbbaf4a46af",
            "3c99a7fc7f0045adac838f9828251d32",
            "eb4cbaa7bbef406786f2e53d669fe179",
            "a6588e24b46d4a4483a461077e0224b1",
            "15da8b0ee8f64a42bc96ea08d11e49b3",
            "7ede8729033243abb3b697ad0050ef9c",
            "84c48e26fe75454dad4b3cf7914a7f04",
            "959ea78eda714628a282bd9b17c80781",
            "902f172f476245fc8536437e2ed9f510",
            "9a84ffd30885487194bfee5c56fe617b",
            "10c3ef93ea1e4c97aae246f23ee6fe07"
          ]
        },
        "outputId": "ec879acf-7398-463b-ee3d-c33a42b47da4"
      },
      "source": [
        "\"\"\" tokenizer and fast tokenizer\n",
        "We use normal tokenizer to get vocab, use fast tokenizer to convert tokens to ids.\n",
        "Because we can't get vocab from fast tokenizer and fast tokenizer is faster,\n",
        "and they share the same token-id mapping.\n",
        "\"\"\"\n",
        "hf_tokenizer = ElectraTokenizer.from_pretrained(\"google/electra-small-discriminator\")\n",
        "hf_fast_tokenizer = ElectraTokenizerFast.from_pretrained(\"google/electra-small-discriminator\")\n",
        "base_model = ElectraModel.from_pretrained('google/electra-small-discriminator')"
      ],
      "execution_count": 3,
      "outputs": [
        {
          "output_type": "display_data",
          "data": {
            "application/vnd.jupyter.widget-view+json": {
              "model_id": "d837026ad32445329c2c72faa6bd02a8",
              "version_minor": 0,
              "version_major": 2
            },
            "text/plain": [
              "HBox(children=(FloatProgress(value=0.0, description='Downloading', max=231508.0, style=ProgressStyle(descripti…"
            ]
          },
          "metadata": {
            "tags": []
          }
        },
        {
          "output_type": "stream",
          "text": [
            "\n"
          ],
          "name": "stdout"
        },
        {
          "output_type": "display_data",
          "data": {
            "application/vnd.jupyter.widget-view+json": {
              "model_id": "5c9a3eb9a14a4102aae24a137aefabf3",
              "version_minor": 0,
              "version_major": 2
            },
            "text/plain": [
              "HBox(children=(FloatProgress(value=0.0, description='Downloading', max=466.0, style=ProgressStyle(description_…"
            ]
          },
          "metadata": {
            "tags": []
          }
        },
        {
          "output_type": "stream",
          "text": [
            "\n"
          ],
          "name": "stdout"
        },
        {
          "output_type": "display_data",
          "data": {
            "application/vnd.jupyter.widget-view+json": {
              "model_id": "a6588e24b46d4a4483a461077e0224b1",
              "version_minor": 0,
              "version_major": 2
            },
            "text/plain": [
              "HBox(children=(FloatProgress(value=0.0, description='Downloading', max=54245363.0, style=ProgressStyle(descrip…"
            ]
          },
          "metadata": {
            "tags": []
          }
        },
        {
          "output_type": "stream",
          "text": [
            "\n"
          ],
          "name": "stdout"
        }
      ]
    },
    {
      "cell_type": "markdown",
      "metadata": {
        "id": "yoI6QffPY6Jv",
        "colab_type": "text"
      },
      "source": [
        "# 1. Prepare data"
      ]
    },
    {
      "cell_type": "markdown",
      "metadata": {
        "id": "p_P8P4hffUr8",
        "colab_type": "text"
      },
      "source": [
        "## 1.1 Download"
      ]
    },
    {
      "cell_type": "markdown",
      "metadata": {
        "id": "W0zfrnOzY9u6",
        "colab_type": "text"
      },
      "source": [
        "**Download, Preprocess, and Cache**\n",
        "\n",
        "In Colab, it takes you 20+ minutes for the creation, and about 3 minutes using cache for the first time, and few seconds if it is not using cache for the first time. "
      ]
    },
    {
      "cell_type": "code",
      "metadata": {
        "id": "U-PLcDIRY6y-",
        "colab_type": "code",
        "colab": {
          "base_uri": "https://localhost:8080/",
          "height": 294,
          "referenced_widgets": [
            "64974849280c4924a628fb94c1926229",
            "d272ab5b77eb439d8000f41c927fa5ad",
            "862e6b55c7aa44198726fbee2d9ecc8d",
            "07ccac51e48f4082817bf12381c48175",
            "35cef367759948d4a8e65cd6ec996e32",
            "2e4e19a39dc242a0b042d28740b2f382",
            "850e39b896e74da6a45eae6834af2d35",
            "f80134e0b8434075954775f09fb1e82a",
            "7d90337e576c4046a8d586358e56f80b",
            "1aea93c9d4d648938acaf468e578e8bb",
            "92bcb8ac65ec410bb0b7b081fb1f3975",
            "57cff609dd004658840be554441bda30",
            "365f1cd3e502477d9da8bcf75a5c3c7d",
            "50084726251e41478f9c415bdca2be2d",
            "7a935f75d03d4d8393f88d063bf88e80",
            "e0b943a389c04f04846f1d21b775d6ed"
          ]
        },
        "outputId": "b1d88e8a-1684-4581-b385-65a1174b07c2"
      },
      "source": [
        "# create a 'glue' folder under it, and all cache files will be under 'glue'\n",
        "cache_dir=Path('/content/drive/My Drive/datasets')\n",
        "cache_dir.mkdir(parents=True, exist_ok=True) # create recursively if not exist\n",
        "\n",
        "def textcols(dataset):\n",
        "  \"Infer text cols of different GLUE datasets in huggingface/nlp\"\n",
        "  column_names = dataset.column_names\n",
        "  if 'question' in column_names: return ['question', 'sentence']\n",
        "  elif 'sentence1' in column_names: return ['sentence1', 'sentence2']\n",
        "  elif 'question1' in column_names: return ['question1','question2']\n",
        "  elif 'premise' in column_names: return ['premise','hypothesis']\n",
        "  elif 'sentence' in column_names: return ['sentence']\n",
        "\n",
        "\"\"\"\n",
        "quote from transformers tutorial of fastai (http://dev.fast.ai/tutorial.transformers)\n",
        "we don't use the tokenizer.encode method since it does some additional preprocessing for the model after tokenizing and numericalizing (the aprt throwing a warning before). Here we don't need any post-processing so it's fine to skip it.\n",
        "\"\"\"\n",
        "def tokenize_sents(example, cols):\n",
        "  if len(cols)==1:\n",
        "    example['input_ids'] = hf_fast_tokenizer.convert_tokens_to_ids(hf_fast_tokenizer.tokenize(f\"[CLS] {example[cols[0]]} [SEP]\"))\n",
        "  elif len(cols)==2:\n",
        "    example['input_ids'] = concat(hf_fast_tokenizer.convert_tokens_to_ids(hf_fast_tokenizer.tokenize(f'[CLS] {example[cols[0]]} [SEP]')),\n",
        "                                  hf_fast_tokenizer.convert_tokens_to_ids(hf_fast_tokenizer.tokenize(f'{example[cols[1]]} [SEP]')))\n",
        "  else: raise ValueError()\n",
        "  return example\n",
        "\n",
        "glue_dsets = {}\n",
        "for glue_task in ['cola', 'sst2', 'mrpc', 'qqp', 'stsb', 'mnli', 'qnli', 'rte', 'wnli', 'ax']:\n",
        "  task = nlp.load_dataset('glue', glue_task, cache_dir=cache_dir)\n",
        "  glue_dsets[glue_task] = {}\n",
        "  print(f'loading processed datasets of {glue_task} ...')\n",
        "  for split in task.keys():\n",
        "    raw_dataset = task[split]\n",
        "    cache_file = Path(raw_dataset.cache_files[0]['filename']).parent / f'tokenized_{split}.arrow'\n",
        "    if cache_file.exists():dataset = nlp.Dataset.from_file(str(cache_file))\n",
        "    else: dataset = raw_dataset.map(partial(tokenize_sents, cols=textcols(raw_dataset)),\n",
        "                                    cache_file_name=str(cache_file))\n",
        "    glue_dsets[glue_task][split] = dataset "
      ],
      "execution_count": 4,
      "outputs": [
        {
          "output_type": "display_data",
          "data": {
            "application/vnd.jupyter.widget-view+json": {
              "model_id": "64974849280c4924a628fb94c1926229",
              "version_minor": 0,
              "version_major": 2
            },
            "text/plain": [
              "HBox(children=(FloatProgress(value=0.0, description='Downloading', max=28998.0, style=ProgressStyle(descriptio…"
            ]
          },
          "metadata": {
            "tags": []
          }
        },
        {
          "output_type": "stream",
          "text": [
            "\n"
          ],
          "name": "stdout"
        },
        {
          "output_type": "display_data",
          "data": {
            "application/vnd.jupyter.widget-view+json": {
              "model_id": "7d90337e576c4046a8d586358e56f80b",
              "version_minor": 0,
              "version_major": 2
            },
            "text/plain": [
              "HBox(children=(FloatProgress(value=0.0, description='Downloading', max=30329.0, style=ProgressStyle(descriptio…"
            ]
          },
          "metadata": {
            "tags": []
          }
        },
        {
          "output_type": "stream",
          "text": [
            "\n",
            "loading processed datasets of cola ...\n",
            "loading processed datasets of sst2 ...\n",
            "loading processed datasets of mrpc ...\n",
            "loading processed datasets of qqp ...\n",
            "loading processed datasets of stsb ...\n",
            "loading processed datasets of mnli ...\n",
            "loading processed datasets of qnli ...\n",
            "loading processed datasets of rte ...\n",
            "loading processed datasets of wnli ...\n",
            "loading processed datasets of ax ...\n"
          ],
          "name": "stdout"
        }
      ]
    },
    {
      "cell_type": "markdown",
      "metadata": {
        "id": "yKxetBkqfdgm",
        "colab_type": "text"
      },
      "source": [
        "## 1.2 integration of fastai and huggingface/nlp"
      ]
    },
    {
      "cell_type": "markdown",
      "metadata": {
        "id": "KQ9vazyOZFIL",
        "colab_type": "text"
      },
      "source": [
        "I don't know how to let `Learner` validate two validation sets every epochs, so I just merged `mnli validation mismatched` and `mnli validation matched`."
      ]
    },
    {
      "cell_type": "code",
      "metadata": {
        "id": "1Oc3ZjYwZGLn",
        "colab_type": "code",
        "colab": {}
      },
      "source": [
        "class HF_MergedDataset():\n",
        "  def __init__(self, *datasets):\n",
        "    self.dsets = datasets\n",
        "  def __len__(self):\n",
        "    return reduce(lambda a,d: a+len(d), self.dsets, 0)\n",
        "  def __getitem__(self, i):\n",
        "    for dset in self.dsets:\n",
        "      if i < len(dset): return dset[i]\n",
        "      else: i -= len(dset)\n",
        "  def set_format(self, type, columns):\n",
        "    for dset in self.dsets: dset.set_format(type, columns)\n",
        "  @property\n",
        "  def cache_files(self):\n",
        "    return concat(*[ds.cache_files for ds in self.dsets])\n",
        "    \n",
        "glue_dsets['mnli']['validation'] = HF_MergedDataset(glue_dsets['mnli']['validation_matched'], glue_dsets['mnli']['validation_mismatched'])"
      ],
      "execution_count": 0,
      "outputs": []
    },
    {
      "cell_type": "markdown",
      "metadata": {
        "id": "TcElSf3JZLy7",
        "colab_type": "text"
      },
      "source": [
        "**Novel huggingface/nlp integration**, which mimics `fastai2.data.core.Datasets`"
      ]
    },
    {
      "cell_type": "code",
      "metadata": {
        "id": "seSUELaTZQBj",
        "colab_type": "code",
        "colab": {}
      },
      "source": [
        "class HF_Dataset():\n",
        "\n",
        "  \"\"\" Inheritance by object composition\n",
        "  I want this class behave like nlp.arrow_dataset.Dataset, and overload some methods. (Inheritance),\n",
        "  But I don't know how to initialize a nlp.arrow_dataset.Dataset with existing Dataset properly and without additional cost such as a new copy.\n",
        "  \n",
        "  So I add every attributes/methods of nlp.arrow_dataset.Dataset, ans pass execution to composed Dataset.\n",
        "  Notice that __init__, __repr__,__getattribute__,__new__ should'nt be added, when doing this I call it Inheritance by object composition\n",
        "  ,otherwise it won't work for the reason I don't know.\n",
        "  \"\"\"\n",
        "  for attr_name, attr in nlp.arrow_dataset.Dataset.__dict__.items():\n",
        "    if attr_name not in ['__init__', '__repr__','__getattribute__','__new__'] + ['__getitem__','__iter__',]:\n",
        "      if callable(attr): exec(f'def {attr_name}(self,*args,**kwargs): return self.dataset.{attr_name}(*args,**kwargs)')\n",
        "      else: exec(f'@property\\ndef {attr_name}(self): return self.dataset.{attr_name}')\n",
        "\n",
        "  def __init__(self, dataset, cols, encode_types, decode_funcs, decode_types):\n",
        "    store_attr(self, 'dataset,cols,encode_types,decode_funcs,decode_types')\n",
        "\n",
        "  def __getitem__(self, i):\n",
        "    sample = self.dataset[i]\n",
        "    return tuple( enc_type(sample[col]) for col, enc_type in zip(self.cols, self.encode_types))\n",
        "\n",
        "  def __iter__(self):\n",
        "    \"\"\"\n",
        "    default __iter__ will iter until get IndexError, \n",
        "    but ArrowDataset gives you ValueError when out of index.\n",
        "    So we have to explicitly define __iter__ method\n",
        "    \"\"\"\n",
        "    for i in range(len(self)): yield self[i] \n",
        "\n",
        "  def decode(self, o, full=True): return tuple( de_type(de_fc(o_)) for o_,de_fc,de_type in zip(o,self.decode_funcs,self.decode_types))\n",
        "  #def __len__(self): return len(self.dataset)\n",
        "\n",
        "class HF_Datasets(FilteredBase):\n",
        "  def __init__(self, datasets, cols, encode_types, decode_funcs, decode_types):\n",
        "    assert len(cols) == len(decode_funcs) == len(encode_types) == len(decode_types) == len(decode_funcs)\n",
        "    for ds in datasets: ds.set_format(type='torch', columns=cols)\n",
        "    self.datasets = L(HF_Dataset(ds, cols, encode_types, decode_funcs, decode_types) for ds in datasets)\n",
        "  def subset(self, i): return self.datasets[i]\n",
        "  def __getitem__(self, i): return self.datasets[i]\n",
        "  @property\n",
        "  def n_subsets(self): return len(self.datasets)"
      ],
      "execution_count": 0,
      "outputs": []
    },
    {
      "cell_type": "code",
      "metadata": {
        "id": "R4mAI-scZSQh",
        "colab_type": "code",
        "colab": {}
      },
      "source": [
        "def text_decode_fc(x, pretty=True):\n",
        "  if pretty:\n",
        "    return hf_fast_tokenizer.decode([idx for idx in x if idx != hf_fast_tokenizer.pad_token_id])\n",
        "  else:\n",
        "    tokens = hf_fast_tokenizer.convert_ids_to_tokens(x)\n",
        "    return ' '.join(tokens)\n",
        "\n",
        "@delegates(FilteredBase.dataloaders)\n",
        "def get_glue_dls(task_name, **kwargs):\n",
        "  assert task_name in ['cola', 'sst2', 'mrpc', 'qqp', 'stsb', 'mnli', 'qnli', 'rte', 'wnli', 'ax']\n",
        "  splits = ['train','validation']+(['test'] if task_name != 'mnli' else ['test_matched', 'test_mismatched'])\n",
        "  if task_name == 'ax': splits = ['test']\n",
        "  arrow_dsets = [glue_dsets[task_name][s] for s in splits ]\n",
        "  show_pretty = kwargs.pop('show_pretty', True) \n",
        "  dsets = HF_Datasets(datasets=arrow_dsets, \n",
        "                      cols=['input_ids', 'label'],\n",
        "                      encode_types=[TensorText, noop],\n",
        "                      decode_funcs=[partial(text_decode_fc,pretty=show_pretty),noop],\n",
        "                      decode_types=[TitledStr, lambda x: Category(x.item())])\n",
        "  dl_cache_files = [Path(dset.cache_files[0]['filename']).parent/f'dl_{s}.pth' for dset, s in zip(dsets,splits)]\n",
        "  if all([ p.exists() for p in dl_cache_files]):\n",
        "    device = kwargs.pop('device', default_device())\n",
        "    dl_s = [TextDataloader.from_cache(f, dsets[i], **kwargs) for i, f in enumerate(dl_cache_files)]  \n",
        "    dls = DataLoaders(*dl_s, device=device)\n",
        "  else:\n",
        "    dls = dsets.dataloaders(before_batch=partial(pad_input_chunk,pad_first=False,pad_idx=hf_fast_tokenizer.pad_token_id,),\n",
        "                             dl_type=partial(TextDataloader, sort_by_len=False),\n",
        "                             **kwargs)\n",
        "    for dl, cache_f in zip(dls,dl_cache_files): dl.cache(cache_f)\n",
        "  return dls"
      ],
      "execution_count": 0,
      "outputs": []
    },
    {
      "cell_type": "markdown",
      "metadata": {
        "id": "MqtDnxK9ZYQP",
        "colab_type": "text"
      },
      "source": [
        "## 1.3 Get dataloaders fror each dataset"
      ]
    },
    {
      "cell_type": "markdown",
      "metadata": {
        "id": "0VYQubDaZbRv",
        "colab_type": "text"
      },
      "source": [
        "**[CoLA](https://nyu-mll.github.io/CoLA/)** (*The Corpus of Linguistic Acceptability*):\n",
        "\n",
        "\n",
        "Check whether a sentence is linguistically acceptable. \n",
        "\n",
        "(0: unacceptable, 1: acceptable) "
      ]
    },
    {
      "cell_type": "code",
      "metadata": {
        "id": "HhZ3HD7VZalK",
        "colab_type": "code",
        "colab": {
          "base_uri": "https://localhost:8080/",
          "height": 130
        },
        "outputId": "1cc37c9f-a8fa-4794-a37b-366b3e35d53a"
      },
      "source": [
        "cola_dls = get_glue_dls('cola', show_bar=False)\n",
        "print(f\"Dataset size (train/valid/test): {len(cola_dls[0].dataset)}/{len(cola_dls[1].dataset)}/{len(cola_dls[2].dataset)}\")\n",
        "cola_dls.show_batch(max_n=2)"
      ],
      "execution_count": 8,
      "outputs": [
        {
          "output_type": "stream",
          "text": [
            "Dataset size (train/valid/test): 8551/1043/1063\n"
          ],
          "name": "stdout"
        },
        {
          "output_type": "display_data",
          "data": {
            "text/html": [
              "<table border=\"1\" class=\"dataframe\">\n",
              "  <thead>\n",
              "    <tr style=\"text-align: right;\">\n",
              "      <th></th>\n",
              "      <th>text</th>\n",
              "      <th>category</th>\n",
              "    </tr>\n",
              "  </thead>\n",
              "  <tbody>\n",
              "    <tr>\n",
              "      <th>0</th>\n",
              "      <td>[CLS] our friends won't buy this analysis, let alone the next one we propose. [SEP]</td>\n",
              "      <td>1</td>\n",
              "    </tr>\n",
              "    <tr>\n",
              "      <th>1</th>\n",
              "      <td>[CLS] one more pseudo generalization and i'm giving up. [SEP]</td>\n",
              "      <td>1</td>\n",
              "    </tr>\n",
              "  </tbody>\n",
              "</table>"
            ],
            "text/plain": [
              "<IPython.core.display.HTML object>"
            ]
          },
          "metadata": {
            "tags": []
          }
        }
      ]
    },
    {
      "cell_type": "markdown",
      "metadata": {
        "id": "-ZJ2zGxJZiyq",
        "colab_type": "text"
      },
      "source": [
        "**Note**: for the readibility, we won't show pad and result of sentencepiece ('##...') here, which are the actual results in a batch."
      ]
    },
    {
      "cell_type": "code",
      "metadata": {
        "id": "j1zl6tm6Zk02",
        "colab_type": "code",
        "colab": {
          "base_uri": "https://localhost:8080/",
          "height": 112
        },
        "outputId": "9377e0a6-942f-4a26-a636-bbc9d48c40e7"
      },
      "source": [
        "get_glue_dls('cola', show_bar=False, show_pretty=False).show_batch(max_n=2)"
      ],
      "execution_count": 9,
      "outputs": [
        {
          "output_type": "display_data",
          "data": {
            "text/html": [
              "<table border=\"1\" class=\"dataframe\">\n",
              "  <thead>\n",
              "    <tr style=\"text-align: right;\">\n",
              "      <th></th>\n",
              "      <th>text</th>\n",
              "      <th>category</th>\n",
              "    </tr>\n",
              "  </thead>\n",
              "  <tbody>\n",
              "    <tr>\n",
              "      <th>0</th>\n",
              "      <td>[CLS] our friends won ' t buy this analysis , let alone the next one we propose . [SEP]</td>\n",
              "      <td>1</td>\n",
              "    </tr>\n",
              "    <tr>\n",
              "      <th>1</th>\n",
              "      <td>[CLS] one more pseudo general ##ization and i ' m giving up . [SEP] [PAD] [PAD] [PAD] [PAD] [PAD]</td>\n",
              "      <td>1</td>\n",
              "    </tr>\n",
              "  </tbody>\n",
              "</table>"
            ],
            "text/plain": [
              "<IPython.core.display.HTML object>"
            ]
          },
          "metadata": {
            "tags": []
          }
        }
      ]
    },
    {
      "cell_type": "markdown",
      "metadata": {
        "id": "STiSJYdbZns1",
        "colab_type": "text"
      },
      "source": [
        "**[SST-2](https://nlp.stanford.edu/sentiment/index.html)** (*The Stanford Sentiment Treebank*): \n",
        "\n",
        "Identify the sentiment of a work/phrase/sentence. \n",
        "\n",
        "(1: positvie, 0: negative)"
      ]
    },
    {
      "cell_type": "code",
      "metadata": {
        "id": "ouo5jT9sZnKG",
        "colab_type": "code",
        "colab": {
          "base_uri": "https://localhost:8080/",
          "height": 130
        },
        "outputId": "46f011ba-465b-4128-a164-bd74b486c78c"
      },
      "source": [
        "sst2_dls = get_glue_dls('sst2')\n",
        "print(f\"Dataset size (train/valid/test): {len(sst2_dls[0].dataset)}/{len(sst2_dls[1].dataset)}/{len(sst2_dls[2].dataset)}\")\n",
        "sst2_dls.show_batch(max_n=2)"
      ],
      "execution_count": 10,
      "outputs": [
        {
          "output_type": "stream",
          "text": [
            "Dataset size (train/valid/test): 67349/872/1821\n"
          ],
          "name": "stdout"
        },
        {
          "output_type": "display_data",
          "data": {
            "text/html": [
              "<table border=\"1\" class=\"dataframe\">\n",
              "  <thead>\n",
              "    <tr style=\"text-align: right;\">\n",
              "      <th></th>\n",
              "      <th>text</th>\n",
              "      <th>category</th>\n",
              "    </tr>\n",
              "  </thead>\n",
              "  <tbody>\n",
              "    <tr>\n",
              "      <th>0</th>\n",
              "      <td>[CLS] hide new secretions from the parental units [SEP]</td>\n",
              "      <td>0</td>\n",
              "    </tr>\n",
              "    <tr>\n",
              "      <th>1</th>\n",
              "      <td>[CLS] contains no wit, only labored gags [SEP]</td>\n",
              "      <td>0</td>\n",
              "    </tr>\n",
              "  </tbody>\n",
              "</table>"
            ],
            "text/plain": [
              "<IPython.core.display.HTML object>"
            ]
          },
          "metadata": {
            "tags": []
          }
        }
      ]
    },
    {
      "cell_type": "markdown",
      "metadata": {
        "id": "wecP4wm0ZqfX",
        "colab_type": "text"
      },
      "source": [
        "**[MRPC](https://www.microsoft.com/en-us/download/details.aspx?id=52398)** (*Microsoft Research Paraphrase Corpus*): \n",
        "\n",
        "Whether each pair captures a paraphrase/semantic equivalence relationship. \n",
        "\n",
        "(1: yes, 0: no)"
      ]
    },
    {
      "cell_type": "code",
      "metadata": {
        "id": "6T54EE4WZxgW",
        "colab_type": "code",
        "colab": {
          "base_uri": "https://localhost:8080/",
          "height": 164
        },
        "outputId": "6e85af9f-f25f-44d9-e740-1e2f7020ca81"
      },
      "source": [
        "mrpc_dls = get_glue_dls('mrpc',show_bar=False)\n",
        "print(f\"Dataset size (train/valid/test): {len(sst2_dls.train_ds)}/{len(sst2_dls.valid_ds)}/{len(sst2_dls[2])}\")\n",
        "mrpc_dls.show_batch(max_n=2)"
      ],
      "execution_count": 11,
      "outputs": [
        {
          "output_type": "stream",
          "text": [
            "Dataset size (train/valid/test): 67349/872/29\n"
          ],
          "name": "stdout"
        },
        {
          "output_type": "display_data",
          "data": {
            "text/html": [
              "<table border=\"1\" class=\"dataframe\">\n",
              "  <thead>\n",
              "    <tr style=\"text-align: right;\">\n",
              "      <th></th>\n",
              "      <th>text</th>\n",
              "      <th>category</th>\n",
              "    </tr>\n",
              "  </thead>\n",
              "  <tbody>\n",
              "    <tr>\n",
              "      <th>0</th>\n",
              "      <td>[CLS] amrozi accused his brother, whom he called \" the witness \", of deliberately distorting his evidence. [SEP] referring to him as only \" the witness \", amrozi accused his brother of deliberately distorting his evidence. [SEP]</td>\n",
              "      <td>1</td>\n",
              "    </tr>\n",
              "    <tr>\n",
              "      <th>1</th>\n",
              "      <td>[CLS] yucaipa owned dominick's before selling the chain to safeway in 1998 for $ 2. 5 billion. [SEP] yucaipa bought dominick's in 1995 for $ 693 million and sold it to safeway for $ 1. 8 billion in 1998. [SEP]</td>\n",
              "      <td>0</td>\n",
              "    </tr>\n",
              "  </tbody>\n",
              "</table>"
            ],
            "text/plain": [
              "<IPython.core.display.HTML object>"
            ]
          },
          "metadata": {
            "tags": []
          }
        }
      ]
    },
    {
      "cell_type": "markdown",
      "metadata": {
        "id": "znmNswfyZuCb",
        "colab_type": "text"
      },
      "source": [
        "**[STS-B](http://ixa2.si.ehu.es/stswiki/index.php/STSbenchmark)** (*Semantic Textual Similarity Benchmark*):\n",
        "\n",
        "Score the similarity of meanings of two sentences. The only regression task in GLUE \n",
        "\n",
        "(0.0 ~ 5.0)"
      ]
    },
    {
      "cell_type": "code",
      "metadata": {
        "id": "631vsrFwaDHB",
        "colab_type": "code",
        "colab": {
          "base_uri": "https://localhost:8080/",
          "height": 130
        },
        "outputId": "8205b7c0-3aaf-4f21-cb5f-8d3dd61d35f2"
      },
      "source": [
        "stsb_dls = get_glue_dls('stsb',show_bar=False)\n",
        "print(f\"Dataset size (train/valid/test): {len(stsb_dls.train_ds)}/{len(stsb_dls.valid_ds)}/{len(stsb_dls[2])}\")\n",
        "stsb_dls.show_batch(max_n=2)"
      ],
      "execution_count": 12,
      "outputs": [
        {
          "output_type": "stream",
          "text": [
            "Dataset size (train/valid/test): 5749/1500/22\n"
          ],
          "name": "stdout"
        },
        {
          "output_type": "display_data",
          "data": {
            "text/html": [
              "<table border=\"1\" class=\"dataframe\">\n",
              "  <thead>\n",
              "    <tr style=\"text-align: right;\">\n",
              "      <th></th>\n",
              "      <th>text</th>\n",
              "      <th>category</th>\n",
              "    </tr>\n",
              "  </thead>\n",
              "  <tbody>\n",
              "    <tr>\n",
              "      <th>0</th>\n",
              "      <td>[CLS] a plane is taking off. [SEP] an air plane is taking off. [SEP]</td>\n",
              "      <td>5.0</td>\n",
              "    </tr>\n",
              "    <tr>\n",
              "      <th>1</th>\n",
              "      <td>[CLS] a man is playing a large flute. [SEP] a man is playing a flute. [SEP]</td>\n",
              "      <td>3.799999952316284</td>\n",
              "    </tr>\n",
              "  </tbody>\n",
              "</table>"
            ],
            "text/plain": [
              "<IPython.core.display.HTML object>"
            ]
          },
          "metadata": {
            "tags": []
          }
        }
      ]
    },
    {
      "cell_type": "markdown",
      "metadata": {
        "id": "YR_ok10uaCYM",
        "colab_type": "text"
      },
      "source": [
        "**[QQP](https://www.quora.com/q/quoradata/First-Quora-Dataset-Release-Question-Pairs)** (*Quora Question Pairs*)\n",
        "\n",
        "Check whether two questions are duplicated. \n",
        "\n",
        "(0: no, 1: duplicated)"
      ]
    },
    {
      "cell_type": "code",
      "metadata": {
        "id": "hWQc8402aFJb",
        "colab_type": "code",
        "colab": {
          "base_uri": "https://localhost:8080/",
          "height": 147
        },
        "outputId": "3cf50ea8-468c-4a64-f92d-f08007ce3d27"
      },
      "source": [
        "qqp_dls = get_glue_dls('qqp')\n",
        "print(f\"Dataset size (train/valid/test): {len(qqp_dls.train_ds)}/{len(qqp_dls.valid_ds)}/{len(qqp_dls[2])}\")\n",
        "qqp_dls.show_batch(max_n=2)"
      ],
      "execution_count": 13,
      "outputs": [
        {
          "output_type": "stream",
          "text": [
            "Dataset size (train/valid/test): 363849/40430/6109\n"
          ],
          "name": "stdout"
        },
        {
          "output_type": "display_data",
          "data": {
            "text/html": [
              "<table border=\"1\" class=\"dataframe\">\n",
              "  <thead>\n",
              "    <tr style=\"text-align: right;\">\n",
              "      <th></th>\n",
              "      <th>text</th>\n",
              "      <th>category</th>\n",
              "    </tr>\n",
              "  </thead>\n",
              "  <tbody>\n",
              "    <tr>\n",
              "      <th>0</th>\n",
              "      <td>[CLS] how is the life of a math student? could you describe your own experiences? [SEP] which level of prepration is enough for the exam jlpt5? [SEP]</td>\n",
              "      <td>0</td>\n",
              "    </tr>\n",
              "    <tr>\n",
              "      <th>1</th>\n",
              "      <td>[CLS] how do i control my horny emotions? [SEP] how do you control your horniness? [SEP]</td>\n",
              "      <td>1</td>\n",
              "    </tr>\n",
              "  </tbody>\n",
              "</table>"
            ],
            "text/plain": [
              "<IPython.core.display.HTML object>"
            ]
          },
          "metadata": {
            "tags": []
          }
        }
      ]
    },
    {
      "cell_type": "markdown",
      "metadata": {
        "id": "dnZm1zqEaHHB",
        "colab_type": "text"
      },
      "source": [
        "**[MNLI](https://cims.nyu.edu/~sbowman/multinli/)** (*The Multi-Genre NLI Corpus*)\n",
        "\n",
        "Whether the premise (sentence 1) entails the hypothesis (sentence 2) (entailment), contradicts the hypothesis (contradiction), or neither (neutral) \n",
        "\n",
        "(0: entailment, 1: neutral, 2: contradiction)"
      ]
    },
    {
      "cell_type": "code",
      "metadata": {
        "id": "3PRuXBJ8aJTH",
        "colab_type": "code",
        "colab": {
          "base_uri": "https://localhost:8080/",
          "height": 182
        },
        "outputId": "36a28a10-0b82-493e-f505-8fd0fb8f08d0"
      },
      "source": [
        "mnli_dls = get_glue_dls('mnli')\n",
        "print(f\"Dataset size (train/valid/test_matched/test_mismatched): {len(mnli_dls[0].dataset)}/{len(mnli_dls[1].dataset)}/{len(mnli_dls[2].dataset)}/{len(mnli_dls[3].dataset)}\")\n",
        "mnli_dls.show_batch(max_n=2)"
      ],
      "execution_count": 14,
      "outputs": [
        {
          "output_type": "stream",
          "text": [
            "Dataset size (train/valid/test_matched/test_mismatched): 392702/19647/9796/9847\n"
          ],
          "name": "stdout"
        },
        {
          "output_type": "display_data",
          "data": {
            "text/html": [
              "<table border=\"1\" class=\"dataframe\">\n",
              "  <thead>\n",
              "    <tr style=\"text-align: right;\">\n",
              "      <th></th>\n",
              "      <th>text</th>\n",
              "      <th>category</th>\n",
              "    </tr>\n",
              "  </thead>\n",
              "  <tbody>\n",
              "    <tr>\n",
              "      <th>0</th>\n",
              "      <td>[CLS] conceptually cream skimming has two basic dimensions - product and geography. [SEP] product and geography are what make cream skimming work. [SEP]</td>\n",
              "      <td>1</td>\n",
              "    </tr>\n",
              "    <tr>\n",
              "      <th>1</th>\n",
              "      <td>[CLS] you know during the season and i guess at at your level uh you lose them to the next level if if they decide to recall the the parent team the braves decide to call to recall a guy from triple a then a double a guy goes up to replace him and a single a guy goes up to replace him [SEP] you lose the things to the following level if the people recall. [SEP]</td>\n",
              "      <td>0</td>\n",
              "    </tr>\n",
              "  </tbody>\n",
              "</table>"
            ],
            "text/plain": [
              "<IPython.core.display.HTML object>"
            ]
          },
          "metadata": {
            "tags": []
          }
        }
      ]
    },
    {
      "cell_type": "markdown",
      "metadata": {
        "id": "PJKg-BSkaPN5",
        "colab_type": "text"
      },
      "source": [
        "**QNLI** (*The Stanford Question Answering Dataset*):\n",
        "\n",
        "The task is to determine whether the context sentence (sentence 2) contains the answer to the question (sentence 1).\n",
        "\n",
        "(0: entailment, 1: not_entailment)"
      ]
    },
    {
      "cell_type": "code",
      "metadata": {
        "id": "DIK9BAnBaLbj",
        "colab_type": "code",
        "colab": {
          "base_uri": "https://localhost:8080/",
          "height": 199
        },
        "outputId": "e5185e1b-aa38-42ab-a14a-ffd26a2e8cc4"
      },
      "source": [
        "qnli_dls = get_glue_dls('qnli')\n",
        "print(f\"Dataset size (train/valid/test): {len(qnli_dls[0].dataset)}/{len(qnli_dls[1].dataset)}/{len(qnli_dls[2].dataset)}\")\n",
        "qnli_dls.show_batch(max_n=2)"
      ],
      "execution_count": 15,
      "outputs": [
        {
          "output_type": "stream",
          "text": [
            "Dataset size (train/valid/test): 104743/5463/5463\n"
          ],
          "name": "stdout"
        },
        {
          "output_type": "display_data",
          "data": {
            "text/html": [
              "<table border=\"1\" class=\"dataframe\">\n",
              "  <thead>\n",
              "    <tr style=\"text-align: right;\">\n",
              "      <th></th>\n",
              "      <th>text</th>\n",
              "      <th>category</th>\n",
              "    </tr>\n",
              "  </thead>\n",
              "  <tbody>\n",
              "    <tr>\n",
              "      <th>0</th>\n",
              "      <td>[CLS] when did the third digimon series begin? [SEP] unlike the two seasons before it and most of the seasons that followed, digimon tamers takes a darker and more realistic approach to its story featuring digimon who don't reincarnate after their deaths and more complex character development in the original japanese. [SEP]</td>\n",
              "      <td>1</td>\n",
              "    </tr>\n",
              "    <tr>\n",
              "      <th>1</th>\n",
              "      <td>[CLS] which missile batteries often have individual launchers several kilometres from one another? [SEP] when manpads is operated by specialists, batteries may have several dozen teams deploying separately in small sections ; self - propelled air defence guns may deploy in pairs. [SEP]</td>\n",
              "      <td>1</td>\n",
              "    </tr>\n",
              "  </tbody>\n",
              "</table>"
            ],
            "text/plain": [
              "<IPython.core.display.HTML object>"
            ]
          },
          "metadata": {
            "tags": []
          }
        }
      ]
    },
    {
      "cell_type": "markdown",
      "metadata": {
        "id": "I2OPdiDpaS6v",
        "colab_type": "text"
      },
      "source": [
        "**[RTE](https://aclweb.org/aclwiki/Recognizing_Textual_Entailment)** (*Recognizing_Textual_Entailment*):\n",
        "\n",
        "Whether hypothesis (sentence 2) is entailed (can be inferred) from the premise (sentence 1).\n",
        "\n",
        "(0: entailment, 1: not_entailment)"
      ]
    },
    {
      "cell_type": "code",
      "metadata": {
        "id": "cODdx4WyaVRh",
        "colab_type": "code",
        "colab": {
          "base_uri": "https://localhost:8080/",
          "height": 164
        },
        "outputId": "d72e33ef-0a1a-4e0c-cf5c-8d31b2717a88"
      },
      "source": [
        "rte_dls = get_glue_dls('rte', show_bar=False)\n",
        "print(f\"Dataset size (train/valid/test): {len(rte_dls[0].dataset)}/{len(rte_dls[1].dataset)}/{len(rte_dls[2].dataset)}\")\n",
        "rte_dls.show_batch(max_n=2)"
      ],
      "execution_count": 16,
      "outputs": [
        {
          "output_type": "stream",
          "text": [
            "Dataset size (train/valid/test): 2490/277/3000\n"
          ],
          "name": "stdout"
        },
        {
          "output_type": "display_data",
          "data": {
            "text/html": [
              "<table border=\"1\" class=\"dataframe\">\n",
              "  <thead>\n",
              "    <tr style=\"text-align: right;\">\n",
              "      <th></th>\n",
              "      <th>text</th>\n",
              "      <th>category</th>\n",
              "    </tr>\n",
              "  </thead>\n",
              "  <tbody>\n",
              "    <tr>\n",
              "      <th>0</th>\n",
              "      <td>[CLS] no weapons of mass destruction found in iraq yet. [SEP] weapons of mass destruction found in iraq. [SEP]</td>\n",
              "      <td>1</td>\n",
              "    </tr>\n",
              "    <tr>\n",
              "      <th>1</th>\n",
              "      <td>[CLS] a place of sorrow, after pope john paul ii died, became a place of celebration, as roman catholic faithful gathered in downtown chicago to mark the installation of new pope benedict xvi. [SEP] pope benedict xvi is the new leader of the roman catholic church. [SEP]</td>\n",
              "      <td>0</td>\n",
              "    </tr>\n",
              "  </tbody>\n",
              "</table>"
            ],
            "text/plain": [
              "<IPython.core.display.HTML object>"
            ]
          },
          "metadata": {
            "tags": []
          }
        }
      ]
    },
    {
      "cell_type": "markdown",
      "metadata": {
        "id": "E-iIX2EaaUt-",
        "colab_type": "text"
      },
      "source": [
        "**[WNLI](https://cs.nyu.edu/faculty/davise/papers/WinogradSchemas/WS.html)** (*The Winograd Schema Challenge*)\n",
        "\n",
        "Check whether sentence 2 (which is rephrased sentence of sentence 1) correctly solve the pronoun in sentence 1.\n",
        "\n",
        "(0: wrong, 1: correct)"
      ]
    },
    {
      "cell_type": "code",
      "metadata": {
        "id": "L7wGvrihaZAj",
        "colab_type": "code",
        "colab": {
          "base_uri": "https://localhost:8080/",
          "height": 130
        },
        "outputId": "2ac6bed8-b76d-4021-f435-eff9576606a8"
      },
      "source": [
        "wnli_dls = get_glue_dls('wnli', show_bar=False)\n",
        "print(f\"Dataset size (train/valid/test): {len(wnli_dls[0].dataset)}/{len(wnli_dls[1].dataset)}/{len(wnli_dls[2].dataset)}\")\n",
        "wnli_dls.show_batch(max_n=2)"
      ],
      "execution_count": 17,
      "outputs": [
        {
          "output_type": "stream",
          "text": [
            "Dataset size (train/valid/test): 635/71/146\n"
          ],
          "name": "stdout"
        },
        {
          "output_type": "display_data",
          "data": {
            "text/html": [
              "<table border=\"1\" class=\"dataframe\">\n",
              "  <thead>\n",
              "    <tr style=\"text-align: right;\">\n",
              "      <th></th>\n",
              "      <th>text</th>\n",
              "      <th>category</th>\n",
              "    </tr>\n",
              "  </thead>\n",
              "  <tbody>\n",
              "    <tr>\n",
              "      <th>0</th>\n",
              "      <td>[CLS] i stuck a pin through a carrot. when i pulled the pin out, it had a hole. [SEP] the carrot had a hole. [SEP]</td>\n",
              "      <td>1</td>\n",
              "    </tr>\n",
              "    <tr>\n",
              "      <th>1</th>\n",
              "      <td>[CLS] john couldn't see the stage with billy in front of him because he is so short. [SEP] john is so short. [SEP]</td>\n",
              "      <td>1</td>\n",
              "    </tr>\n",
              "  </tbody>\n",
              "</table>"
            ],
            "text/plain": [
              "<IPython.core.display.HTML object>"
            ]
          },
          "metadata": {
            "tags": []
          }
        }
      ]
    },
    {
      "cell_type": "markdown",
      "metadata": {
        "id": "0RQ-BEaIaa8F",
        "colab_type": "text"
      },
      "source": [
        "**[AX](https://gluebenchmark.com/diagnostics)** (*GLUE Diagnostic Dataset*):\n",
        "\n",
        "Whether the premise (sentence 1) entails the hypothesis (sentence 2) (entailment), contradicts the hypothesis (contradiction), or neither (neutral) \n",
        "\n",
        "Test set only.\n",
        "\n",
        "The label is all -1, because this is a test dataset and the answers is kept by GLUE benchmark and not provided. The categories are the same as MNLI (entailment, neutral, contradiction)"
      ]
    },
    {
      "cell_type": "code",
      "metadata": {
        "id": "5IKH0iJKadAW",
        "colab_type": "code",
        "colab": {
          "base_uri": "https://localhost:8080/",
          "height": 130
        },
        "outputId": "a20deaa0-d24a-4564-d176-1aab22f1aba1"
      },
      "source": [
        "ax_dls = get_glue_dls('ax')\n",
        "print(f\"Dataset size (test): {len(ax_dls[0].dataset)}\")\n",
        "ax_dls.show_batch(max_n=2)"
      ],
      "execution_count": 18,
      "outputs": [
        {
          "output_type": "stream",
          "text": [
            "Dataset size (test): 1104\n"
          ],
          "name": "stdout"
        },
        {
          "output_type": "display_data",
          "data": {
            "text/html": [
              "<table border=\"1\" class=\"dataframe\">\n",
              "  <thead>\n",
              "    <tr style=\"text-align: right;\">\n",
              "      <th></th>\n",
              "      <th>text</th>\n",
              "      <th>category</th>\n",
              "    </tr>\n",
              "  </thead>\n",
              "  <tbody>\n",
              "    <tr>\n",
              "      <th>0</th>\n",
              "      <td>[CLS] the cat sat on the mat. [SEP] the cat did not sit on the mat. [SEP]</td>\n",
              "      <td>-1</td>\n",
              "    </tr>\n",
              "    <tr>\n",
              "      <th>1</th>\n",
              "      <td>[CLS] the cat did not sit on the mat. [SEP] the cat sat on the mat. [SEP]</td>\n",
              "      <td>-1</td>\n",
              "    </tr>\n",
              "  </tbody>\n",
              "</table>"
            ],
            "text/plain": [
              "<IPython.core.display.HTML object>"
            ]
          },
          "metadata": {
            "tags": []
          }
        }
      ]
    },
    {
      "cell_type": "code",
      "metadata": {
        "id": "3wRQS_H1aekI",
        "colab_type": "code",
        "colab": {}
      },
      "source": [
        "glue_dls = {}\n",
        "for task_name in ['cola', 'sst2', 'mrpc', 'qqp', 'stsb', 'mnli', 'qnli', 'rte', 'wnli', 'ax']:\n",
        "  glue_dls[task_name] = eval(f\"{task_name}_dls\")\n",
        "glue_dls['ax'][0].shuffle = False # fastai see 0th dl as train_dl which is default shuffled"
      ],
      "execution_count": 0,
      "outputs": []
    },
    {
      "cell_type": "markdown",
      "metadata": {
        "id": "LFcM5MGaafFJ",
        "colab_type": "text"
      },
      "source": [
        "# 2. Finetuning model"
      ]
    },
    {
      "cell_type": "markdown",
      "metadata": {
        "id": "tUGxkcDfQGxS",
        "colab_type": "text"
      },
      "source": [
        "* ELECTRA use CLS encodings as pooled result to predict the sentence. (see [here](https://github.com/google-research/electra/blob/79111328070e491b287c307906701ebc61091eb2/model/modeling.py#L254) of its official repository)\n",
        "\n",
        "* Note that we should use different prediction head for different tasks."
      ]
    },
    {
      "cell_type": "code",
      "metadata": {
        "id": "MF6vajgKQKJ7",
        "colab_type": "code",
        "colab": {}
      },
      "source": [
        "class SentencePredictHead(nn.Module):\n",
        "  \"The way that Electra and Bert do for sentence prediction task\"\n",
        "  def __init__(self, hidden_size, targ_voc_size):\n",
        "    super().__init__()\n",
        "    self.linear = nn.Linear(hidden_size, targ_voc_size)\n",
        "    self.dropout = nn.Dropout(0.1)\n",
        "  def forward(self, x):\n",
        "    \"x: (batch size, sequence length, hidden_size)\"\n",
        "    return self.linear(self.dropout(x[:,0])) # project the first token (a special token)'s hidden encoding"
      ],
      "execution_count": 0,
      "outputs": []
    },
    {
      "cell_type": "markdown",
      "metadata": {
        "id": "hRoFPXjpe4Nb",
        "colab_type": "text"
      },
      "source": [
        "`SentencePredictHead`\n",
        "* change `targ_voc_size` for diffrent task\n",
        "* change `256` for your model's hidden size"
      ]
    },
    {
      "cell_type": "code",
      "metadata": {
        "id": "K3_2P-uZV8sb",
        "colab_type": "code",
        "colab": {
          "base_uri": "https://localhost:8080/",
          "height": 88
        },
        "outputId": "4f36ba7b-8349-4da6-8e7d-747a3c3431fd"
      },
      "source": [
        "single_task_model = nn.Sequential(HFModelWrapper(base_model, pad_id=hf_tokenizer.pad_token_id, sep_id=hf_tokenizer.sep_token_id), # specify spe_id and wrapper will create and pass token_type_ids of sentece A/B for you\n",
        "                                  SentencePredictHead(256, targ_voc_size=2)) # <- change targ_voc_size according to the task\n",
        "inp_tensor = torch.tensor(hf_tokenizer.encode('I am the sentence A','I am the sentence B'))[None,:] \n",
        "print(f'input shape: {inp_tensor.shape} (batch size, sequence length)')\n",
        "with torch.no_grad(): out_tensor = single_task_model(inp_tensor)\n",
        "print(f'output shape: {out_tensor.shape} (batch_size, target vocab size)')\n",
        "print(f'The output is the raw score-like thing for each label')\n",
        "print(out_tensor)"
      ],
      "execution_count": 21,
      "outputs": [
        {
          "output_type": "stream",
          "text": [
            "input shape: torch.Size([1, 13]) (batch size, sequence length)\n",
            "output shape: torch.Size([1, 2]) (batch_size, target vocab size)\n",
            "The output is the raw score-like thing for each label\n",
            "tensor([[ 0.3207, -0.1437]])\n"
          ],
          "name": "stdout"
        }
      ]
    },
    {
      "cell_type": "markdown",
      "metadata": {
        "id": "zi5_OKHqX8qw",
        "colab_type": "text"
      },
      "source": [
        "# 3. Single Task Finetuning"
      ]
    },
    {
      "cell_type": "markdown",
      "metadata": {
        "id": "gebKI3-ywWNS",
        "colab_type": "text"
      },
      "source": [
        "## 3.1 The metrics problem\n",
        "- We need single label Matthew's Correlation\n",
        "- We need Pearson Correlation, Spearman Correlation\n",
        "- We need `AccumMetric` to be able to grab the element of return of metric function if it return a collection."
      ]
    },
    {
      "cell_type": "code",
      "metadata": {
        "id": "y2tS0DASwUUf",
        "colab_type": "code",
        "colab": {}
      },
      "source": [
        "def get_item(container, i):\n",
        "  if isinstance(i, int):\n",
        "    return container[i]\n",
        "  elif isinstance(i, str):\n",
        "    return getattr(container, i)\n",
        "  else:\n",
        "    TypeError(f'{type(i)} is not legal.')\n",
        "\n",
        "# add `get` cuz scipy spearmanr returns tuple-like object, I need to extract only correlation\n",
        "class MyAccumMetric(AccumMetric):\n",
        "  def __init__(self, func, get=None, **kwargs):\n",
        "      super().__init__(func, **kwargs)\n",
        "      self.get =  None if get is None else partial(get_item, i=get)\n",
        "  \n",
        "  @property\n",
        "  def value(self):\n",
        "      if len(self.preds) == 0: return\n",
        "      preds,targs = torch.cat(self.preds),torch.cat(self.targs)\n",
        "      if self.to_np: preds,targs = preds.numpy(),targs.numpy()\n",
        "      out = self.func(targs, preds, **self.kwargs) if self.invert_args else self.func(preds, targs, **self.kwargs)\n",
        "      return self.get(out) if self.get else out\n",
        "\n",
        "# dim -> dim_argmax cuz scipy spearman use axis\n",
        "def scim_to_fastai(func, invert_xy, get=None, is_class=True, thresh=None, dim_argmax=-1, sigmoid=None, **kwargs):\n",
        "    \"Wrap metrics of scipy scikit_learn as fastai's metric\"\n",
        "    dim_argmax = dim_argmax if is_class and thresh is None else None\n",
        "    sigmoid = sigmoid if sigmoid is not None else (is_class and thresh is not None)\n",
        "    return MyAccumMetric(func, dim_argmax=dim_argmax, sigmoid=sigmoid, thresh=thresh,\n",
        "                       to_np=True, invert_arg=invert_xy, get=get, **kwargs)\n",
        "\n",
        "\"\"\"\n",
        "There is bug in scikit_learn (https://github.com/scikit-learn/scikit-learn/issues/16924)\n",
        "so you always get `RuntimeWarning: invalid value encountered in double_scalar` and get a value 0.0\n",
        "\"\"\"\n",
        "def MatthewsCorrCoef(dim_argmax=-1, sample_weight=None):\n",
        "    \"Matthews correlation coefficient for single-label classification problems\"\n",
        "    return scim_to_fastai(skm.matthews_corrcoef, invert_xy=True, dim_argmax=dim_argmax, flatten=True, sample_weight=sample_weight)\n",
        "\n",
        "\"\"\"\n",
        "If you see PearsonRConstantInputWarning, that may mean the model always outputs a specific label,\n",
        "which is probable when you test something with very small dataset size or very short training\n",
        "\"\"\"\n",
        "# metric for STS task\n",
        "def PearsonCorrCoef(dim_argmax=-1):\n",
        "    \"Pearson correlation coefficient for single-label classification problems\"\n",
        "    return scim_to_fastai(spm.pearsonr, invert_xy=False, get=0, dim_argmax=dim_argmax, flatten=True,)\n",
        "\n",
        "\"\"\"\n",
        "For the same reason as Pearson correlation, you may see nan for value of Spearman correlation, and\n",
        "RuntimeWarning: invalid value encountered in true_divide, because there is no mutual change. \n",
        "(see https://stackoverflow.com/questions/45897003/python-numpy-corrcoef-runtimewarning-invalid-value-encountered-in-true-divide)\n",
        "\"\"\"\n",
        "# metric for STS task\n",
        "def SpearmanCorrCoef(dim_argmax=-1, axis=0, nan_policy='propagate'):\n",
        "    \"Spearman correlation coefficient for single-label classification problems\"\n",
        "    return scim_to_fastai(spm.spearmanr, invert_xy=False, get=0, dim_argmax=dim_argmax, flatten=True, axis=axis, nan_policy=nan_policy)\n",
        "\n",
        "\"\"\"\n",
        "I would like more uniform way to pass the metrics, no matter loss_func or metric,\n",
        "instantiate it and then pass.\n",
        "This uniform way also make it possible such as `metrics=[m() for m inTASK_METRICS[task]]`\n",
        "\"\"\"\n",
        "def Accuracy(axis=-1):\n",
        "  return AvgMetric(partial(accuracy, axis=axis))"
      ],
      "execution_count": 0,
      "outputs": []
    },
    {
      "cell_type": "markdown",
      "metadata": {
        "id": "-Mcjq0b8wbkO",
        "colab_type": "text"
      },
      "source": [
        "## 5.2 finetune"
      ]
    },
    {
      "cell_type": "markdown",
      "metadata": {
        "id": "CK1tdI9HY63y",
        "colab_type": "text"
      },
      "source": [
        "Normally we do multi-task learning on all GLUE tasks first, and then fit each task individually.\n",
        "\n",
        "And also we train for a short time, so you don't need to care about the accuracy (or other metrics) is low."
      ]
    },
    {
      "cell_type": "code",
      "metadata": {
        "id": "ZLKItnWAd0a3",
        "colab_type": "code",
        "colab": {}
      },
      "source": [
        "single_task_learn = Learner(glue_dls['mrpc'], single_task_model,\n",
        "                            # flatten only if needed, here in fact we don't need\n",
        "                            # if regression task (STS-B), use MSELossFlat() instead\n",
        "                            loss_func=CrossEntropyLossFlat(), \n",
        "                            metrics=[F1Score(), Accuracy()]).to_fp16()"
      ],
      "execution_count": 0,
      "outputs": []
    },
    {
      "cell_type": "code",
      "metadata": {
        "id": "pJCsfhUHwZKl",
        "colab_type": "code",
        "outputId": "eb414ec7-302d-495a-fcbb-d733e54ca062",
        "colab": {
          "base_uri": "https://localhost:8080/",
          "height": 347
        }
      },
      "source": [
        "lr, _ = single_task_learn.lr_find()                \n",
        "single_task_learn.fit_one_cycle(n_epoch=1, lr_max=lr)"
      ],
      "execution_count": 24,
      "outputs": [
        {
          "output_type": "display_data",
          "data": {
            "text/html": [
              ""
            ],
            "text/plain": [
              "<IPython.core.display.HTML object>"
            ]
          },
          "metadata": {
            "tags": []
          }
        },
        {
          "output_type": "display_data",
          "data": {
            "text/html": [
              "<table border=\"1\" class=\"dataframe\">\n",
              "  <thead>\n",
              "    <tr style=\"text-align: left;\">\n",
              "      <th>epoch</th>\n",
              "      <th>train_loss</th>\n",
              "      <th>valid_loss</th>\n",
              "      <th>f1_score</th>\n",
              "      <th>accuracy</th>\n",
              "      <th>time</th>\n",
              "    </tr>\n",
              "  </thead>\n",
              "  <tbody>\n",
              "    <tr>\n",
              "      <td>0</td>\n",
              "      <td>0.663655</td>\n",
              "      <td>0.623973</td>\n",
              "      <td>0.812227</td>\n",
              "      <td>0.683824</td>\n",
              "      <td>00:08</td>\n",
              "    </tr>\n",
              "  </tbody>\n",
              "</table>"
            ],
            "text/plain": [
              "<IPython.core.display.HTML object>"
            ]
          },
          "metadata": {
            "tags": []
          }
        },
        {
          "output_type": "display_data",
          "data": {
            "image/png": "[encoded data removed]",
            "text/plain": [
              "<Figure size 432x288 with 1 Axes>"
            ]
          },
          "metadata": {
            "tags": [],
            "needs_background": "light"
          }
        }
      ]
    }
  ]
}