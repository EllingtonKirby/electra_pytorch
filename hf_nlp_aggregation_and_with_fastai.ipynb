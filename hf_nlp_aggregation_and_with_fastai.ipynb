{
 "cells": [
  {
   "cell_type": "code",
   "execution_count": 1,
   "metadata": {},
   "outputs": [],
   "source": [
    "from IPython.core.debugger import set_trace as bk\n",
    "from pathlib import Path\n",
    "from functools import partial\n",
    "import torch\n",
    "import nlp\n",
    "from tqdm import tqdm\n",
    "from transformers import ElectraTokenizerFast\n",
    "hf_fast_tokenizer = ElectraTokenizerFast.from_pretrained(\"google/electra-small-generator\")\n",
    "from fastai2.text.all import *"
   ]
  },
  {
   "cell_type": "code",
   "execution_count": 31,
   "metadata": {},
   "outputs": [
    {
     "output_type": "stream",
     "name": "stderr",
     "text": "1043it [00:00, 8892.32it/s]\n"
    }
   ],
   "source": [
    "cola = nlp.load_dataset('glue', 'cola', cache_dir='~/tmp')['validation']\n",
    "\n",
    "class HF_TokenizeTfm():\n",
    "  def __init__(self, tokenizer, cols):\n",
    "    if isinstance(cols, list): cols = {c:c for c in cols}\n",
    "    assert isinstance(cols, dict)\n",
    "    self.cols = cols\n",
    "  def __call__(self, example):\n",
    "    for in_col, out_col in self.cols.items():\n",
    "      example[out_col] = hf_fast_tokenizer.convert_tokens_to_ids(hf_fast_tokenizer.tokenize(example[in_col]))\n",
    "    return example\n",
    "\n",
    "tokenized_cola = cola.map(HF_TokenizeTfm(hf_fast_tokenizer, {'sentence':'text_idxs'}),\n",
    "                          remove_columns=['sentence'])"
   ]
  },
  {
   "cell_type": "code",
   "execution_count": 34,
   "metadata": {},
   "outputs": [
    {
     "output_type": "stream",
     "name": "stderr",
     "text": "0%|          | 0/348 [00:00<?, ?it/s]\n  0%|          | 0/3 [00:00<?, ?it/s]\u001b[A\n\u001b[A\n  0%|          | 0/3 [00:00<?, ?it/s]\u001b[A\n\u001b[A\n  0%|          | 0/3 [00:00<?, ?it/s]\u001b[A\n\u001b[A\n  0%|          | 0/3 [00:00<?, ?it/s]\u001b[A\n\u001b[A\n  0%|          | 0/3 [00:00<?, ?it/s]\u001b[A\n\u001b[A\n  0%|          | 0/3 [00:00<?, ?it/s]\u001b[A\n\u001b[A\n  0%|          | 0/3 [00:00<?, ?it/s]\u001b[A\n\u001b[A\n  0%|          | 0/3 [00:00<?, ?it/s]\u001b[A\n\u001b[A\n  0%|          | 0/3 [00:00<?, ?it/s]\u001b[A\n\u001b[A\n  0%|          | 0/3 [00:00<?, ?it/s]\u001b[A\n\u001b[A\n  0%|          | 0/3 [00:00<?, ?it/s]\u001b[A\n\u001b[A\n  0%|          | 0/3 [00:00<?, ?it/s]\u001b[A\n\u001b[A\n  0%|          | 0/3 [00:00<?, ?it/s]\u001b[A\n\u001b[A\n  0%|          | 0/3 [00:00<?, ?it/s]\u001b[A\n\u001b[A\n  0%|          | 0/3 [00:00<?, ?it/s]\u001b[A\n\u001b[A\n  0%|          | 0/3 [00:00<?, ?it/s]\u001b[A\n\u001b[A\n  0%|          | 0/3 [00:00<?, ?it/s]\u001b[A\n\u001b[A\n  0%|          | 0/3 [00:00<?, ?it/s]\u001b[A\n\u001b[A\n  0%|          | 0/3 [00:00<?, ?it/s]\u001b[A\n\u001b[A\n  0%|          | 0/3 [00:00<?, ?it/s]\u001b[A\n\u001b[A\n  0%|          | 0/3 [00:00<?, ?it/s]\u001b[A\n\u001b[A\n  0%|          | 0/3 [00:00<?, ?it/s]\u001b[A\n  6%|▋         | 22/348 [00:00<00:01, 214.31it/s]\n  0%|          | 0/3 [00:00<?, ?it/s]\u001b[A\n\u001b[A\n  0%|          | 0/3 [00:00<?, ?it/s]\u001b[A\n\u001b[A\n  0%|          | 0/3 [00:00<?, ?it/s]\u001b[A\n\u001b[A\n  0%|          | 0/3 [00:00<?, ?it/s]\u001b[A\n\u001b[A\n  0%|          | 0/3 [00:00<?, ?it/s]\u001b[A\n\u001b[A\n  0%|          | 0/3 [00:00<?, ?it/s]\u001b[A\n\u001b[A\n  0%|          | 0/3 [00:00<?, ?it/s]\u001b[A\n\u001b[A\n  0%|          | 0/3 [00:00<?, ?it/s]\u001b[A\n\u001b[A\n  0%|          | 0/3 [00:00<?, ?it/s]\u001b[A\n\u001b[A\n  0%|          | 0/3 [00:00<?, ?it/s]\u001b[A\n\u001b[A\n  0%|          | 0/3 [00:00<?, ?it/s]\u001b[A\n\u001b[A\n  0%|          | 0/3 [00:00<?, ?it/s]\u001b[A\n\u001b[A\n  0%|          | 0/3 [00:00<?, ?it/s]\u001b[A\n\u001b[A\n  0%|          | 0/3 [00:00<?, ?it/s]\u001b[A\n\u001b[A\n  0%|          | 0/3 [00:00<?, ?it/s]\u001b[A\n\u001b[A\n  0%|          | 0/3 [00:00<?, ?it/s]\u001b[A\n\u001b[A\n  0%|          | 0/3 [00:00<?, ?it/s]\u001b[A\n\u001b[A\n  0%|          | 0/3 [00:00<?, ?it/s]\u001b[A\n\u001b[A\n  0%|          | 0/3 [00:00<?, ?it/s]\u001b[A\n\u001b[A\n  0%|          | 0/3 [00:00<?, ?it/s]\u001b[A\n\u001b[A\n  0%|          | 0/3 [00:00<?, ?it/s]\u001b[A\n\u001b[A\n  0%|          | 0/3 [00:00<?, ?it/s]\u001b[A\n\u001b[A\n  0%|          | 0/3 [00:00<?, ?it/s]\u001b[A\n\u001b[A\n  0%|          | 0/3 [00:00<?, ?it/s]\u001b[A\n\u001b[A\n  0%|          | 0/3 [00:00<?, ?it/s]\u001b[A\n\u001b[A\n  0%|          | 0/3 [00:00<?, ?it/s]\u001b[A\n 14%|█▍        | 48/348 [00:00<00:01, 224.76it/s]\n  0%|          | 0/3 [00:00<?, ?it/s]\u001b[A\n\u001b[A\n  0%|          | 0/3 [00:00<?, ?it/s]\u001b[A\n\u001b[A\n  0%|          | 0/3 [00:00<?, ?it/s]\u001b[A\n\u001b[A\n  0%|          | 0/3 [00:00<?, ?it/s]\u001b[A\n\u001b[A\n  0%|          | 0/3 [00:00<?, ?it/s]\u001b[A\n\u001b[A\n  0%|          | 0/3 [00:00<?, ?it/s]\u001b[A\n\u001b[A\n  0%|          | 0/3 [00:00<?, ?it/s]\u001b[A\n\u001b[A\n  0%|          | 0/3 [00:00<?, ?it/s]\u001b[A\n\u001b[A\n  0%|          | 0/3 [00:00<?, ?it/s]\u001b[A\n\u001b[A\n  0%|          | 0/3 [00:00<?, ?it/s]\u001b[A\n\u001b[A\n  0%|          | 0/3 [00:00<?, ?it/s]\u001b[A\n\u001b[A\n  0%|          | 0/3 [00:00<?, ?it/s]\u001b[A\n\u001b[A\n  0%|          | 0/3 [00:00<?, ?it/s]\u001b[A\n\u001b[A\n  0%|          | 0/3 [00:00<?, ?it/s]\u001b[A\n\u001b[A\n  0%|          | 0/3 [00:00<?, ?it/s]\u001b[A\n\u001b[A\n  0%|          | 0/3 [00:00<?, ?it/s]\u001b[A\n\u001b[A\n  0%|          | 0/3 [00:00<?, ?it/s]\u001b[A\n\u001b[A\n  0%|          | 0/3 [00:00<?, ?it/s]\u001b[A\n\u001b[A\n  0%|          | 0/3 [00:00<?, ?it/s]\u001b[A\n\u001b[A\n  0%|          | 0/3 [00:00<?, ?it/s]\u001b[A\n\u001b[A\n  0%|          | 0/3 [00:00<?, ?it/s]\u001b[A\n\u001b[A\n  0%|          | 0/3 [00:00<?, ?it/s]\u001b[A\n\u001b[A\n  0%|          | 0/3 [00:00<?, ?it/s]\u001b[A\n 20%|██        | 71/348 [00:00<00:01, 224.09it/s]\n  0%|          | 0/3 [00:00<?, ?it/s]\u001b[A\n\u001b[A\n  0%|          | 0/3 [00:00<?, ?it/s]\u001b[A\n\u001b[A\n  0%|          | 0/3 [00:00<?, ?it/s]\u001b[A\n\u001b[A\n  0%|          | 0/3 [00:00<?, ?it/s]\u001b[A\n\u001b[A\n  0%|          | 0/3 [00:00<?, ?it/s]\u001b[A\n\u001b[A\n  0%|          | 0/3 [00:00<?, ?it/s]\u001b[A\n\u001b[A\n  0%|          | 0/3 [00:00<?, ?it/s]\u001b[A\n\u001b[A\n  0%|          | 0/3 [00:00<?, ?it/s]\u001b[A\n\u001b[A\n  0%|          | 0/3 [00:00<?, ?it/s]\u001b[A\n\u001b[A\n  0%|          | 0/3 [00:00<?, ?it/s]\u001b[A\n\u001b[A\n  0%|          | 0/3 [00:00<?, ?it/s]\u001b[A\n\u001b[A\n  0%|          | 0/3 [00:00<?, ?it/s]\u001b[A\n\u001b[A\n  0%|          | 0/3 [00:00<?, ?it/s]\u001b[A\n\u001b[A\n  0%|          | 0/3 [00:00<?, ?it/s]\u001b[A\n\u001b[A\n  0%|          | 0/3 [00:00<?, ?it/s]\u001b[A\n\u001b[A\n  0%|          | 0/3 [00:00<?, ?it/s]\u001b[A\n\u001b[A\n  0%|          | 0/3 [00:00<?, ?it/s]\u001b[A\n\u001b[A\n  0%|          | 0/3 [00:00<?, ?it/s]\u001b[A\n\u001b[A\n  0%|          | 0/3 [00:00<?, ?it/s]\u001b[A\n\u001b[A\n  0%|          | 0/3 [00:00<?, ?it/s]\u001b[A\n\u001b[A\n  0%|          | 0/3 [00:00<?, ?it/s]\u001b[A\n 26%|██▋       | 92/348 [00:00<00:01, 219.19it/s]\n  0%|          | 0/3 [00:00<?, ?it/s]\u001b[A\n\u001b[A\n  0%|          | 0/3 [00:00<?, ?it/s]\u001b[A\n\u001b[A\n  0%|          | 0/3 [00:00<?, ?it/s]\u001b[A\n\u001b[A\n  0%|          | 0/3 [00:00<?, ?it/s]\u001b[A\n\u001b[A\n  0%|          | 0/3 [00:00<?, ?it/s]\u001b[A\n\u001b[A\n  0%|          | 0/3 [00:00<?, ?it/s]\u001b[A\n\u001b[A\n  0%|          | 0/3 [00:00<?, ?it/s]\u001b[A\n\u001b[A\n  0%|          | 0/3 [00:00<?, ?it/s]\u001b[A\n\u001b[A\n  0%|          | 0/3 [00:00<?, ?it/s]\u001b[A\n\u001b[A\n  0%|          | 0/3 [00:00<?, ?it/s]\u001b[A\n\u001b[A\n  0%|          | 0/3 [00:00<?, ?it/s]\u001b[A\n\u001b[A\n  0%|          | 0/3 [00:00<?, ?it/s]\u001b[A\n\u001b[A\n  0%|          | 0/3 [00:00<?, ?it/s]\u001b[A\n\u001b[A\n  0%|          | 0/3 [00:00<?, ?it/s]\u001b[A\n\u001b[A\n  0%|          | 0/3 [00:00<?, ?it/s]\u001b[A\n\u001b[A\n  0%|          | 0/3 [00:00<?, ?it/s]\u001b[A\n\u001b[A\n  0%|          | 0/3 [00:00<?, ?it/s]\u001b[A\n\u001b[A\n  0%|          | 0/3 [00:00<?, ?it/s]\u001b[A\n\u001b[A\n  0%|          | 0/3 [00:00<?, ?it/s]\u001b[A\n\u001b[A\n  0%|          | 0/3 [00:00<?, ?it/s]\u001b[A\n\u001b[A\n  0%|          | 0/3 [00:00<?, ?it/s]\u001b[A\n\u001b[A\n  0%|          | 0/3 [00:00<?, ?it/s]\u001b[A\n\u001b[A\n  0%|          | 0/3 [00:00<?, ?it/s]\u001b[A\n 33%|███▎      | 115/348 [00:00<00:01, 219.93it/s]\n  0%|          | 0/3 [00:00<?, ?it/s]\u001b[A\n\u001b[A\n  0%|          | 0/3 [00:00<?, ?it/s]\u001b[A\n\u001b[A\n  0%|          | 0/3 [00:00<?, ?it/s]\u001b[A\n\u001b[A\n  0%|          | 0/3 [00:00<?, ?it/s]\u001b[A\n\u001b[A\n  0%|          | 0/3 [00:00<?, ?it/s]\u001b[A\n\u001b[A\n  0%|          | 0/3 [00:00<?, ?it/s]\u001b[A\n\u001b[A\n  0%|          | 0/3 [00:00<?, ?it/s]\u001b[A\n\u001b[A\n  0%|          | 0/3 [00:00<?, ?it/s]\u001b[A\n\u001b[A\n  0%|          | 0/3 [00:00<?, ?it/s]\u001b[A\n\u001b[A\n  0%|          | 0/3 [00:00<?, ?it/s]\u001b[A\n\u001b[A\n  0%|          | 0/3 [00:00<?, ?it/s]\u001b[A\n\u001b[A\n  0%|          | 0/3 [00:00<?, ?it/s]\u001b[A\n\u001b[A\n  0%|          | 0/3 [00:00<?, ?it/s]\u001b[A\n\u001b[A\n  0%|          | 0/3 [00:00<?, ?it/s]\u001b[A\n\u001b[A\n  0%|          | 0/3 [00:00<?, ?it/s]\u001b[A\n\u001b[A\n  0%|          | 0/3 [00:00<?, ?it/s]\u001b[A\n\u001b[A\n  0%|          | 0/3 [00:00<?, ?it/s]\u001b[A\n\u001b[A\n  0%|          | 0/3 [00:00<?, ?it/s]\u001b[A\n\u001b[A\n  0%|          | 0/3 [00:00<?, ?it/s]\u001b[A\n\u001b[A\n  0%|          | 0/3 [00:00<?, ?it/s]\u001b[A\n\u001b[A\n  0%|          | 0/3 [00:00<?, ?it/s]\u001b[A\n\u001b[A\n  0%|          | 0/3 [00:00<?, ?it/s]\u001b[A\n\u001b[A\n  0%|          | 0/3 [00:00<?, ?it/s]\u001b[A\n 40%|███▉      | 138/348 [00:00<00:00, 221.43it/s]\n  0%|          | 0/3 [00:00<?, ?it/s]\u001b[A\n\u001b[A\n  0%|          | 0/3 [00:00<?, ?it/s]\u001b[A\n\u001b[A\n  0%|          | 0/3 [00:00<?, ?it/s]\u001b[A\n\u001b[A\n  0%|          | 0/3 [00:00<?, ?it/s]\u001b[A\n\u001b[A\n  0%|          | 0/3 [00:00<?, ?it/s]\u001b[A\n\u001b[A\n  0%|          | 0/3 [00:00<?, ?it/s]\u001b[A\n\u001b[A\n  0%|          | 0/3 [00:00<?, ?it/s]\u001b[A\n\u001b[A\n  0%|          | 0/3 [00:00<?, ?it/s]\u001b[A\n\u001b[A\n  0%|          | 0/3 [00:00<?, ?it/s]\u001b[A\n\u001b[A\n  0%|          | 0/3 [00:00<?, ?it/s]\u001b[A\n\u001b[A\n  0%|          | 0/3 [00:00<?, ?it/s]\u001b[A\n\u001b[A\n  0%|          | 0/3 [00:00<?, ?it/s]\u001b[A\n\u001b[A\n  0%|          | 0/3 [00:00<?, ?it/s]\u001b[A\n\u001b[A\n  0%|          | 0/3 [00:00<?, ?it/s]\u001b[A\n\u001b[A\n  0%|          | 0/3 [00:00<?, ?it/s]\u001b[A\n\u001b[A\n  0%|          | 0/3 [00:00<?, ?it/s]\u001b[A\n\u001b[A\n  0%|          | 0/3 [00:00<?, ?it/s]\u001b[A\n\u001b[A\n  0%|          | 0/3 [00:00<?, ?it/s]\u001b[A\n\u001b[A\n  0%|          | 0/3 [00:00<?, ?it/s]\u001b[A\n\u001b[A\n  0%|          | 0/3 [00:00<?, ?it/s]\u001b[A\n\u001b[A\n  0%|          | 0/3 [00:00<?, ?it/s]\u001b[A\n\u001b[A\n  0%|          | 0/3 [00:00<?, ?it/s]\u001b[A\n 46%|████▌     | 160/348 [00:00<00:00, 220.76it/s]\n  0%|          | 0/3 [00:00<?, ?it/s]\u001b[A\n\u001b[A\n  0%|          | 0/3 [00:00<?, ?it/s]\u001b[A\n\u001b[A\n  0%|          | 0/3 [00:00<?, ?it/s]\u001b[A\n\u001b[A\n  0%|          | 0/3 [00:00<?, ?it/s]\u001b[A\n\u001b[A\n  0%|          | 0/3 [00:00<?, ?it/s]\u001b[A\n\u001b[A\n  0%|          | 0/3 [00:00<?, ?it/s]\u001b[A\n\u001b[A\n  0%|          | 0/3 [00:00<?, ?it/s]\u001b[A\n\u001b[A\n  0%|          | 0/3 [00:00<?, ?it/s]\u001b[A\n\u001b[A\n  0%|          | 0/3 [00:00<?, ?it/s]\u001b[A\n\u001b[A\n  0%|          | 0/3 [00:00<?, ?it/s]\u001b[A\n\u001b[A\n  0%|          | 0/3 [00:00<?, ?it/s]\u001b[A\n\u001b[A\n  0%|          | 0/3 [00:00<?, ?it/s]\u001b[A\n\u001b[A\n  0%|          | 0/3 [00:00<?, ?it/s]\u001b[A\n\u001b[A\n  0%|          | 0/3 [00:00<?, ?it/s]\u001b[A\n\u001b[A\n  0%|          | 0/3 [00:00<?, ?it/s]\u001b[A\n\u001b[A\n  0%|          | 0/3 [00:00<?, ?it/s]\u001b[A\n\u001b[A\n  0%|          | 0/3 [00:00<?, ?it/s]\u001b[A\n\u001b[A\n  0%|          | 0/3 [00:00<?, ?it/s]\u001b[A\n\u001b[A\n  0%|          | 0/3 [00:00<?, ?it/s]\u001b[A\n\u001b[A\n  0%|          | 0/3 [00:00<?, ?it/s]\u001b[A\n\u001b[A\n  0%|          | 0/3 [00:00<?, ?it/s]\u001b[A\n\u001b[A\n  0%|          | 0/3 [00:00<?, ?it/s]\u001b[A\n\u001b[A\n  0%|          | 0/3 [00:00<?, ?it/s]\u001b[A\n 53%|█████▎    | 183/348 [00:00<00:00, 222.24it/s]\n  0%|          | 0/3 [00:00<?, ?it/s]\u001b[A\n\u001b[A\n  0%|          | 0/3 [00:00<?, ?it/s]\u001b[A\n\u001b[A\n  0%|          | 0/3 [00:00<?, ?it/s]\u001b[A\n\u001b[A\n  0%|          | 0/3 [00:00<?, ?it/s]\u001b[A\n\u001b[A\n  0%|          | 0/3 [00:00<?, ?it/s]\u001b[A\n\u001b[A\n  0%|          | 0/3 [00:00<?, ?it/s]\u001b[A\n\u001b[A\n  0%|          | 0/3 [00:00<?, ?it/s]\u001b[A\n\u001b[A\n  0%|          | 0/3 [00:00<?, ?it/s]\u001b[A\n\u001b[A\n  0%|          | 0/3 [00:00<?, ?it/s]\u001b[A\n\u001b[A\n  0%|          | 0/3 [00:00<?, ?it/s]\u001b[A\n\u001b[A\n  0%|          | 0/3 [00:00<?, ?it/s]\u001b[A\n\u001b[A\n  0%|          | 0/3 [00:00<?, ?it/s]\u001b[A\n\u001b[A\n  0%|          | 0/3 [00:00<?, ?it/s]\u001b[A\n\u001b[A\n  0%|          | 0/3 [00:00<?, ?it/s]\u001b[A\n\u001b[A\n  0%|          | 0/3 [00:00<?, ?it/s]\u001b[A\n\u001b[A\n  0%|          | 0/3 [00:00<?, ?it/s]\u001b[A\n\u001b[A\n  0%|          | 0/3 [00:00<?, ?it/s]\u001b[A\n\u001b[A\n  0%|          | 0/3 [00:00<?, ?it/s]\u001b[A\n\u001b[A\n  0%|          | 0/3 [00:00<?, ?it/s]\u001b[A\n\u001b[A\n  0%|          | 0/3 [00:00<?, ?it/s]\u001b[A\n\u001b[A\n  0%|          | 0/3 [00:00<?, ?it/s]\u001b[A\n\u001b[A\n  0%|          | 0/3 [00:00<?, ?it/s]\u001b[A\n\u001b[A\n  0%|          | 0/3 [00:00<?, ?it/s]\u001b[A\n\u001b[A\n  0%|          | 0/3 [00:00<?, ?it/s]\u001b[A\n\u001b[A\n  0%|          | 0/3 [00:00<?, ?it/s]\u001b[A\n\u001b[A\n  0%|          | 0/3 [00:00<?, ?it/s]\u001b[A\n 60%|██████    | 209/348 [00:00<00:00, 230.45it/s]\n  0%|          | 0/3 [00:00<?, ?it/s]\u001b[A\n\u001b[A\n  0%|          | 0/3 [00:00<?, ?it/s]\u001b[A\n\u001b[A\n  0%|          | 0/3 [00:00<?, ?it/s]\u001b[A\n\u001b[A\n  0%|          | 0/3 [00:00<?, ?it/s]\u001b[A\n\u001b[A\n  0%|          | 0/3 [00:00<?, ?it/s]\u001b[A\n\u001b[A\n  0%|          | 0/3 [00:00<?, ?it/s]\u001b[A\n\u001b[A\n  0%|          | 0/3 [00:00<?, ?it/s]\u001b[A\n\u001b[A\n  0%|          | 0/3 [00:00<?, ?it/s]\u001b[A\n\u001b[A\n  0%|          | 0/3 [00:00<?, ?it/s]\u001b[A\n\u001b[A\n  0%|          | 0/3 [00:00<?, ?it/s]\u001b[A\n\u001b[A\n  0%|          | 0/3 [00:00<?, ?it/s]\u001b[A\n\u001b[A\n  0%|          | 0/3 [00:00<?, ?it/s]\u001b[A\n\u001b[A\n  0%|          | 0/3 [00:00<?, ?it/s]\u001b[A\n\u001b[A\n  0%|          | 0/3 [00:00<?, ?it/s]\u001b[A\n\u001b[A\n  0%|          | 0/3 [00:00<?, ?it/s]\u001b[A\n\u001b[A\n  0%|          | 0/3 [00:00<?, ?it/s]\u001b[A\n\u001b[A\n  0%|          | 0/3 [00:00<?, ?it/s]\u001b[A\n\u001b[A\n  0%|          | 0/3 [00:00<?, ?it/s]\u001b[A\n\u001b[A\n  0%|          | 0/3 [00:00<?, ?it/s]\u001b[A\n\u001b[A\n  0%|          | 0/3 [00:00<?, ?it/s]\u001b[A\n\u001b[A\n  0%|          | 0/3 [00:00<?, ?it/s]\u001b[A\n\u001b[A\n  0%|          | 0/3 [00:00<?, ?it/s]\u001b[A\n\u001b[A\n  0%|          | 0/3 [00:00<?, ?it/s]\u001b[A\n\u001b[A\n  0%|          | 0/3 [00:00<?, ?it/s]\u001b[A\n\u001b[A\n  0%|          | 0/3 [00:00<?, ?it/s]\u001b[A\n\u001b[A\n  0%|          | 0/3 [00:00<?, ?it/s]\u001b[A\n\u001b[A\n  0%|          | 0/3 [00:00<?, ?it/s]\u001b[A\n 68%|██████▊   | 236/348 [00:01<00:00, 240.07it/s]\n  0%|          | 0/3 [00:00<?, ?it/s]\u001b[A\n\u001b[A\n  0%|          | 0/3 [00:00<?, ?it/s]\u001b[A\n\u001b[A\n  0%|          | 0/3 [00:00<?, ?it/s]\u001b[A\n\u001b[A\n  0%|          | 0/3 [00:00<?, ?it/s]\u001b[A\n\u001b[A\n  0%|          | 0/3 [00:00<?, ?it/s]\u001b[A\n\u001b[A\n  0%|          | 0/3 [00:00<?, ?it/s]\u001b[A\n\u001b[A\n  0%|          | 0/3 [00:00<?, ?it/s]\u001b[A\n\u001b[A\n  0%|          | 0/3 [00:00<?, ?it/s]\u001b[A\n\u001b[A\n  0%|          | 0/3 [00:00<?, ?it/s]\u001b[A\n\u001b[A\n  0%|          | 0/3 [00:00<?, ?it/s]\u001b[A\n\u001b[A\n  0%|          | 0/3 [00:00<?, ?it/s]\u001b[A\n\u001b[A\n  0%|          | 0/3 [00:00<?, ?it/s]\u001b[A\n\u001b[A\n  0%|          | 0/3 [00:00<?, ?it/s]\u001b[A\n\u001b[A\n  0%|          | 0/3 [00:00<?, ?it/s]\u001b[A\n\u001b[A\n  0%|          | 0/3 [00:00<?, ?it/s]\u001b[A\n\u001b[A\n  0%|          | 0/3 [00:00<?, ?it/s]\u001b[A\n\u001b[A\n  0%|          | 0/3 [00:00<?, ?it/s]\u001b[A\n\u001b[A\n  0%|          | 0/3 [00:00<?, ?it/s]\u001b[A\n\u001b[A\n  0%|          | 0/3 [00:00<?, ?it/s]\u001b[A\n\u001b[A\n  0%|          | 0/3 [00:00<?, ?it/s]\u001b[A\n\u001b[A\n  0%|          | 0/3 [00:00<?, ?it/s]\u001b[A\n\u001b[A\n  0%|          | 0/3 [00:00<?, ?it/s]\u001b[A\n\u001b[A\n  0%|          | 0/3 [00:00<?, ?it/s]\u001b[A\n\u001b[A\n  0%|          | 0/3 [00:00<?, ?it/s]\u001b[A\n 75%|███████▍  | 260/348 [00:01<00:00, 238.65it/s]\n  0%|          | 0/3 [00:00<?, ?it/s]\u001b[A\n\u001b[A\n  0%|          | 0/3 [00:00<?, ?it/s]\u001b[A\n\u001b[A\n  0%|          | 0/3 [00:00<?, ?it/s]\u001b[A\n\u001b[A\n  0%|          | 0/3 [00:00<?, ?it/s]\u001b[A\n\u001b[A\n  0%|          | 0/3 [00:00<?, ?it/s]\u001b[A\n\u001b[A\n  0%|          | 0/3 [00:00<?, ?it/s]\u001b[A\n\u001b[A\n  0%|          | 0/3 [00:00<?, ?it/s]\u001b[A\n\u001b[A\n  0%|          | 0/3 [00:00<?, ?it/s]\u001b[A\n\u001b[A\n  0%|          | 0/3 [00:00<?, ?it/s]\u001b[A\n\u001b[A\n  0%|          | 0/3 [00:00<?, ?it/s]\u001b[A\n\u001b[A\n  0%|          | 0/3 [00:00<?, ?it/s]\u001b[A\n\u001b[A\n  0%|          | 0/3 [00:00<?, ?it/s]\u001b[A\n\u001b[A\n  0%|          | 0/3 [00:00<?, ?it/s]\u001b[A\n\u001b[A\n  0%|          | 0/3 [00:00<?, ?it/s]\u001b[A\n\u001b[A\n  0%|          | 0/3 [00:00<?, ?it/s]\u001b[A\n\u001b[A\n  0%|          | 0/3 [00:00<?, ?it/s]\u001b[A\n\u001b[A\n  0%|          | 0/3 [00:00<?, ?it/s]\u001b[A\n\u001b[A\n  0%|          | 0/3 [00:00<?, ?it/s]\u001b[A\n\u001b[A\n  0%|          | 0/3 [00:00<?, ?it/s]\u001b[A\n\u001b[A\n  0%|          | 0/3 [00:00<?, ?it/s]\u001b[A\n\u001b[A\n  0%|          | 0/3 [00:00<?, ?it/s]\u001b[A\n\u001b[A\n  0%|          | 0/3 [00:00<?, ?it/s]\u001b[A\n\u001b[A\n  0%|          | 0/3 [00:00<?, ?it/s]\u001b[A\n\u001b[A\n  0%|          | 0/3 [00:00<?, ?it/s]\u001b[A\n\u001b[A\n  0%|          | 0/3 [00:00<?, ?it/s]\u001b[A\n\u001b[A\n  0%|          | 0/3 [00:00<?, ?it/s]\u001b[A\n\u001b[A\n  0%|          | 0/3 [00:00<?, ?it/s]\u001b[A\n 82%|████████▏ | 287/348 [00:01<00:00, 245.18it/s]\n  0%|          | 0/3 [00:00<?, ?it/s]\u001b[A\n\u001b[A\n  0%|          | 0/3 [00:00<?, ?it/s]\u001b[A\n\u001b[A\n  0%|          | 0/3 [00:00<?, ?it/s]\u001b[A\n\u001b[A\n  0%|          | 0/3 [00:00<?, ?it/s]\u001b[A\n\u001b[A\n  0%|          | 0/3 [00:00<?, ?it/s]\u001b[A\n\u001b[A\n  0%|          | 0/3 [00:00<?, ?it/s]\u001b[A\n\u001b[A\n  0%|          | 0/3 [00:00<?, ?it/s]\u001b[A\n\u001b[A\n  0%|          | 0/3 [00:00<?, ?it/s]\u001b[A\n\u001b[A\n  0%|          | 0/3 [00:00<?, ?it/s]\u001b[A\n\u001b[A\n  0%|          | 0/3 [00:00<?, ?it/s]\u001b[A\n\u001b[A\n  0%|          | 0/3 [00:00<?, ?it/s]\u001b[A\n\u001b[A\n  0%|          | 0/3 [00:00<?, ?it/s]\u001b[A\n\u001b[A\n  0%|          | 0/3 [00:00<?, ?it/s]\u001b[A\n\u001b[A\n  0%|          | 0/3 [00:00<?, ?it/s]\u001b[A\n\u001b[A\n  0%|          | 0/3 [00:00<?, ?it/s]\u001b[A\n\u001b[A\n  0%|          | 0/3 [00:00<?, ?it/s]\u001b[A\n\u001b[A\n  0%|          | 0/3 [00:00<?, ?it/s]\u001b[A\n\u001b[A\n  0%|          | 0/3 [00:00<?, ?it/s]\u001b[A\n\u001b[A\n  0%|          | 0/3 [00:00<?, ?it/s]\u001b[A\n\u001b[A\n  0%|          | 0/3 [00:00<?, ?it/s]\u001b[A\n\u001b[A\n  0%|          | 0/3 [00:00<?, ?it/s]\u001b[A\n\u001b[A\n  0%|          | 0/3 [00:00<?, ?it/s]\u001b[A\n\u001b[A\n  0%|          | 0/3 [00:00<?, ?it/s]\u001b[A\n\u001b[A\n  0%|          | 0/3 [00:00<?, ?it/s]\u001b[A\n\u001b[A\n  0%|          | 0/3 [00:00<?, ?it/s]\u001b[A\n 90%|████████▉ | 312/348 [00:01<00:00, 245.32it/s]\n  0%|          | 0/3 [00:00<?, ?it/s]\u001b[A\n\u001b[A\n  0%|          | 0/3 [00:00<?, ?it/s]\u001b[A\n\u001b[A\n  0%|          | 0/3 [00:00<?, ?it/s]\u001b[A\n\u001b[A\n  0%|          | 0/3 [00:00<?, ?it/s]\u001b[A\n\u001b[A\n  0%|          | 0/3 [00:00<?, ?it/s]\u001b[A\n\u001b[A\n  0%|          | 0/3 [00:00<?, ?it/s]\u001b[A\n\u001b[A\n  0%|          | 0/3 [00:00<?, ?it/s]\u001b[A\n\u001b[A\n  0%|          | 0/3 [00:00<?, ?it/s]\u001b[A\n\u001b[A\n  0%|          | 0/3 [00:00<?, ?it/s]\u001b[A\n\u001b[A\n  0%|          | 0/3 [00:00<?, ?it/s]\u001b[A\n\u001b[A\n  0%|          | 0/3 [00:00<?, ?it/s]\u001b[A\n\u001b[A\n  0%|          | 0/3 [00:00<?, ?it/s]\u001b[A\n\u001b[A\n  0%|          | 0/3 [00:00<?, ?it/s]\u001b[A\n\u001b[A\n  0%|          | 0/3 [00:00<?, ?it/s]\u001b[A\n\u001b[A\n  0%|          | 0/3 [00:00<?, ?it/s]\u001b[A\n\u001b[A\n  0%|          | 0/3 [00:00<?, ?it/s]\u001b[A\n\u001b[A\n  0%|          | 0/3 [00:00<?, ?it/s]\u001b[A\n\u001b[A\n  0%|          | 0/3 [00:00<?, ?it/s]\u001b[A\n\u001b[A\n  0%|          | 0/3 [00:00<?, ?it/s]\u001b[A\n\u001b[A\n  0%|          | 0/3 [00:00<?, ?it/s]\u001b[A\n\u001b[A\n  0%|          | 0/3 [00:00<?, ?it/s]\u001b[A\n\u001b[A\n  0%|          | 0/3 [00:00<?, ?it/s]\u001b[A\n\u001b[A\n  0%|          | 0/3 [00:00<?, ?it/s]\u001b[A\n\u001b[A\n  0%|          | 0/3 [00:00<?, ?it/s]\u001b[A\n\u001b[A\n  0%|          | 0/3 [00:00<?, ?it/s]\u001b[A\n 97%|█████████▋| 337/348 [00:01<00:00, 244.23it/s]\n  0%|          | 0/3 [00:00<?, ?it/s]\u001b[A\n\u001b[A\n  0%|          | 0/3 [00:00<?, ?it/s]\u001b[A\n\u001b[A\n  0%|          | 0/3 [00:00<?, ?it/s]\u001b[A\n\u001b[A\n  0%|          | 0/3 [00:00<?, ?it/s]\u001b[A\n\u001b[A\n  0%|          | 0/3 [00:00<?, ?it/s]\u001b[A\n\u001b[A\n  0%|          | 0/3 [00:00<?, ?it/s]\u001b[A\n\u001b[A\n  0%|          | 0/3 [00:00<?, ?it/s]\u001b[A\n\u001b[A\n  0%|          | 0/3 [00:00<?, ?it/s]\u001b[A\n\u001b[A\n  0%|          | 0/3 [00:00<?, ?it/s]\u001b[A\n\u001b[A\n  0%|          | 0/3 [00:00<?, ?it/s]\u001b[A\n\u001b[A\n  0%|          | 0/2 [00:00<?, ?it/s]\u001b[A\n100%|██████████| 348/348 [00:01<00:00, 236.41it/s]\n"
    }
   ],
   "source": [
    "\n",
    "\n",
    "class LMTransform():\n",
    "  def __init__(self, max_len, ds_size, text_col, x_text_col='x_text', y_text_col='y_text'):\n",
    "    assert text_col != x_text_col and text_col != y_text_col\n",
    "    self._max_len = max_len + 1\n",
    "    self.last_idx = ds_size - 1\n",
    "    self.text_col, self.x_text_col, self.y_text_col = text_col, x_text_col, y_text_col\n",
    "    self.residual_len, self.new_text = self._max_len, []\n",
    "\n",
    "  def __call__(self, b, idxs):\n",
    "    self.x_texts, self.y_texts =  [], []\n",
    "    for text in tqdm(b[self.text_col], leave=False):\n",
    "      self._accumulate(text)\n",
    "    if self.last_idx in idxs and len(self.new_text) >= 2:\n",
    "      self.x_texts.append(self.new_text[:-1])\n",
    "      self.y_texts.append(self.new_text[1:])\n",
    "    new_b = {self.x_text_col: self.x_texts, self.y_text_col: self.y_texts}\n",
    "    for key in b: new_b[key] = [None]*len(self.x_texts) # map require the returned includes original columns\n",
    "    return new_b\n",
    "\n",
    "  def _accumulate(self, text):\n",
    "    \"text: a list of indices\"\n",
    "    usable_len = len(text)\n",
    "    cursor = 0\n",
    "    while usable_len != 0:\n",
    "      use_len = min(usable_len, self.residual_len)\n",
    "      self.new_text += text[cursor:cursor+use_len]\n",
    "      self.residual_len -= use_len\n",
    "      usable_len -= use_len\n",
    "      cursor += use_len\n",
    "      if self.residual_len == 0:\n",
    "        self.x_texts.append(self.new_text[:-1])\n",
    "        self.y_texts.append(self.new_text[1:])\n",
    "        self.new_text = []\n",
    "        self.residual_len = self._max_len\n",
    "    \n",
    "lm_dataset = tokenized_cola.map(LMTransform(20, len(tokenized_cola), 'text_idxs'), \n",
    "                        batched=True, batch_size=3, with_indices=True, remove_columns=tokenized_cola.column_names)"
   ]
  },
  {
   "cell_type": "code",
   "execution_count": 35,
   "metadata": {},
   "outputs": [
    {
     "output_type": "stream",
     "name": "stdout",
     "text": "Original dataset:\nnum of samples: 1043\nsecond to last sentence: John arranged for himself to get the prize.\n          last sentence: John talked to Bill about himself.\nLM dataset:\nnum of sampels: 481\nlast text (x): . john talked to bill about himself\nlast text (y): john talked to bill about himself.\n"
    }
   ],
   "source": [
    "print('Original dataset:')\n",
    "print('num of samples:', len(cola_dataset))\n",
    "print('second to last sentence:', cola_dataset[-2]['sentence'])\n",
    "print('          last sentence:', cola_dataset[-1]['sentence'])\n",
    "print('LM dataset:')\n",
    "print('num of sampels:', len(lm_dataset))\n",
    "print('last text (x):', hf_fast_tokenizer.decode(lm_dataset[-1]['x_text']))\n",
    "print('last text (y):', hf_fast_tokenizer.decode(lm_dataset[-1]['y_text']))"
   ]
  },
  {
   "cell_type": "code",
   "execution_count": 55,
   "metadata": {},
   "outputs": [],
   "source": [
    "class HF_Dataset(FilteredBase):\n",
    "  \n",
    "  def __init__(self, hf_dset, cols, n_inp=1, hf_tokenizer=None, pretty_show=False)\n",
    "    \n",
    "    # some default setting for tensor type used in decoding\n",
    "    if isinstance(cols, list): \n",
    "      if n_inp==1: \n",
    "        if len(cols)==1: cols = {cols[0]: TensorText}\n",
    "        elif len(cols)==2: cols = {cols[0]: TensorText, cols[1]: TensorCategory}\n",
    "      else: cols = { c: noop for c in cols }\n",
    "    assert isinstance(cols, dict)\n",
    "    \n",
    "    # make dataset output pytorch tensor\n",
    "    if hf_ds.format['type'] != 'torch': \n",
    "      hf_ds.set_format( type='torch', cols=list(cols.keys()) )\n",
    "\n",
    "    # store attributes\n",
    "    store_attr(self, \"hf_ds,cols,n_inp,hf_tokenizer,pretty_show\")\n",
    "\n",
    "  def __getitem__(self, idx):\n",
    "    sample = self.hf_ds[idx]\n",
    "    return tuple( tensor_cls(sample[col]) for col, tensor_cls in self.cols.items() )\n",
    "\n",
    "  def decode(self, o, full=True): \n",
    "    return tuple( self._decode(o_) ) for o_ in o)\n",
    "\n",
    "  @typedispatch\n",
    "  def _decode(self, t:TensorText): \n",
    "    if self.pretty_show: text = self.hf_tokenizer.decode([idx for idx in t if idx != self.hf_tokenizer.pad_token_id])\n",
    "    else: text = ' '.join(self.hf_tokenizer.convert_ids_to_tokens(t))\n",
    "    return TitledStr(text)\n",
    "\n",
    "  @typedispatch\n",
    "  def _decode(self, t:LMTensorText): return self._decode[TensorText](self, t)\n",
    "\n",
    "  @typedispatch\n",
    "  def _decode(self, t:TensorCategory): return Category(t.item())\n",
    "  \n",
    "def HF_datasets(FilteredBase)\n",
    "  def __init__(self, hs_dsets: dict):\n",
    "    self.hs_dsets = hs_dsets\n",
    "  def subset(self, i): return list(self.hs_dsets.values)[i]\n",
    "  def __getitem__(self, split): return self.hs_dsets[split]\n",
    "  @property\n",
    "  def n_subsets(self): return len(self.hs_dsets)\n",
    "\n",
    "@delegates()\n",
    "class HF_Dataloader(TfmdDL):\n",
    "  \n",
    "  def __init__(self, dataset, pad_idx=None, sort=True, **kwargs):\n",
    "    if pad_idx is not None:\n",
    "      kwargs['before_batch'] = partial(pad_input_chunk, pad_idx=pad_idx, pad_first=False)\n",
    "    super().__init__(dataset, **kwargs)\n",
    "    self.sort = sort\n",
    "    if sort:\n",
    "      col = list(cols.keys())[0]\n",
    "      self.lens = [ len(sample[col]) for sample in dataset ]\n",
    "  \n",
    "  def get_idxs(self):\n",
    "    idxs = super().get_idxs()\n",
    "    return sorted(idxs, key=lambda i: self.lens[i], reverse=True)\n",
    "\n",
    "  def new(self, **kwargs):\n",
    "    return super().new(dataset=self.dataset, sort=self.sort, **kwargs)"
   ]
  },
  {
   "cell_type": "code",
   "execution_count": 56,
   "metadata": {},
   "outputs": [
    {
     "output_type": "error",
     "ename": "AttributeError",
     "evalue": "'TensorText' object has no attribute 'truncate'",
     "traceback": [
      "\u001b[0;31m---------------------------------------------------------------------------\u001b[0m",
      "\u001b[0;31mAttributeError\u001b[0m                            Traceback (most recent call last)",
      "\u001b[0;32m<ipython-input-56-0d256391a593>\u001b[0m in \u001b[0;36m<module>\u001b[0;34m\u001b[0m\n\u001b[1;32m      1\u001b[0m \u001b[0mcola_dl\u001b[0m \u001b[0;34m=\u001b[0m \u001b[0mHF_Dataloader\u001b[0m\u001b[0;34m(\u001b[0m\u001b[0mtokenized_cola\u001b[0m\u001b[0;34m,\u001b[0m \u001b[0;34m[\u001b[0m\u001b[0;34m'text_idxs'\u001b[0m\u001b[0;34m,\u001b[0m \u001b[0;34m'label'\u001b[0m\u001b[0;34m]\u001b[0m\u001b[0;34m,\u001b[0m \u001b[0mpad_idx\u001b[0m\u001b[0;34m=\u001b[0m\u001b[0mhf_fast_tokenizer\u001b[0m\u001b[0;34m.\u001b[0m\u001b[0mpad_token_id\u001b[0m\u001b[0;34m)\u001b[0m\u001b[0;34m\u001b[0m\u001b[0;34m\u001b[0m\u001b[0m\n\u001b[0;32m----> 2\u001b[0;31m \u001b[0mcola_dl\u001b[0m\u001b[0;34m.\u001b[0m\u001b[0mshow_batch\u001b[0m\u001b[0;34m(\u001b[0m\u001b[0;34m)\u001b[0m\u001b[0;34m\u001b[0m\u001b[0;34m\u001b[0m\u001b[0m\n\u001b[0m",
      "\u001b[0;32m~/miniconda3/envs/ml/lib/python3.7/site-packages/fastai2/data/core.py\u001b[0m in \u001b[0;36mshow_batch\u001b[0;34m(self, b, max_n, ctxs, show, unique, **kwargs)\u001b[0m\n\u001b[1;32m     97\u001b[0m         \u001b[0;32mif\u001b[0m \u001b[0mb\u001b[0m \u001b[0;32mis\u001b[0m \u001b[0;32mNone\u001b[0m\u001b[0;34m:\u001b[0m \u001b[0mb\u001b[0m \u001b[0;34m=\u001b[0m \u001b[0mself\u001b[0m\u001b[0;34m.\u001b[0m\u001b[0mone_batch\u001b[0m\u001b[0;34m(\u001b[0m\u001b[0;34m)\u001b[0m\u001b[0;34m\u001b[0m\u001b[0;34m\u001b[0m\u001b[0m\n\u001b[1;32m     98\u001b[0m         \u001b[0;32mif\u001b[0m \u001b[0;32mnot\u001b[0m \u001b[0mshow\u001b[0m\u001b[0;34m:\u001b[0m \u001b[0;32mreturn\u001b[0m \u001b[0mself\u001b[0m\u001b[0;34m.\u001b[0m\u001b[0m_pre_show_batch\u001b[0m\u001b[0;34m(\u001b[0m\u001b[0mb\u001b[0m\u001b[0;34m,\u001b[0m \u001b[0mmax_n\u001b[0m\u001b[0;34m=\u001b[0m\u001b[0mmax_n\u001b[0m\u001b[0;34m)\u001b[0m\u001b[0;34m\u001b[0m\u001b[0;34m\u001b[0m\u001b[0m\n\u001b[0;32m---> 99\u001b[0;31m         \u001b[0mshow_batch\u001b[0m\u001b[0;34m(\u001b[0m\u001b[0;34m*\u001b[0m\u001b[0mself\u001b[0m\u001b[0;34m.\u001b[0m\u001b[0m_pre_show_batch\u001b[0m\u001b[0;34m(\u001b[0m\u001b[0mb\u001b[0m\u001b[0;34m,\u001b[0m \u001b[0mmax_n\u001b[0m\u001b[0;34m=\u001b[0m\u001b[0mmax_n\u001b[0m\u001b[0;34m)\u001b[0m\u001b[0;34m,\u001b[0m \u001b[0mctxs\u001b[0m\u001b[0;34m=\u001b[0m\u001b[0mctxs\u001b[0m\u001b[0;34m,\u001b[0m \u001b[0mmax_n\u001b[0m\u001b[0;34m=\u001b[0m\u001b[0mmax_n\u001b[0m\u001b[0;34m,\u001b[0m \u001b[0;34m**\u001b[0m\u001b[0mkwargs\u001b[0m\u001b[0;34m)\u001b[0m\u001b[0;34m\u001b[0m\u001b[0;34m\u001b[0m\u001b[0m\n\u001b[0m\u001b[1;32m    100\u001b[0m         \u001b[0;32mif\u001b[0m \u001b[0munique\u001b[0m\u001b[0;34m:\u001b[0m \u001b[0mself\u001b[0m\u001b[0;34m.\u001b[0m\u001b[0mget_idxs\u001b[0m \u001b[0;34m=\u001b[0m \u001b[0mold_get_idxs\u001b[0m\u001b[0;34m\u001b[0m\u001b[0;34m\u001b[0m\u001b[0m\n\u001b[1;32m    101\u001b[0m \u001b[0;34m\u001b[0m\u001b[0m\n",
      "\u001b[0;32m~/miniconda3/envs/ml/lib/python3.7/site-packages/fastcore/dispatch.py\u001b[0m in \u001b[0;36m__call__\u001b[0;34m(self, *args, **kwargs)\u001b[0m\n\u001b[1;32m     96\u001b[0m         \u001b[0;32mif\u001b[0m \u001b[0;32mnot\u001b[0m \u001b[0mf\u001b[0m\u001b[0;34m:\u001b[0m \u001b[0;32mreturn\u001b[0m \u001b[0margs\u001b[0m\u001b[0;34m[\u001b[0m\u001b[0;36m0\u001b[0m\u001b[0;34m]\u001b[0m\u001b[0;34m\u001b[0m\u001b[0;34m\u001b[0m\u001b[0m\n\u001b[1;32m     97\u001b[0m         \u001b[0;32mif\u001b[0m \u001b[0mself\u001b[0m\u001b[0;34m.\u001b[0m\u001b[0minst\u001b[0m \u001b[0;32mis\u001b[0m \u001b[0;32mnot\u001b[0m \u001b[0;32mNone\u001b[0m\u001b[0;34m:\u001b[0m \u001b[0mf\u001b[0m \u001b[0;34m=\u001b[0m \u001b[0mMethodType\u001b[0m\u001b[0;34m(\u001b[0m\u001b[0mf\u001b[0m\u001b[0;34m,\u001b[0m \u001b[0mself\u001b[0m\u001b[0;34m.\u001b[0m\u001b[0minst\u001b[0m\u001b[0;34m)\u001b[0m\u001b[0;34m\u001b[0m\u001b[0;34m\u001b[0m\u001b[0m\n\u001b[0;32m---> 98\u001b[0;31m         \u001b[0;32mreturn\u001b[0m \u001b[0mf\u001b[0m\u001b[0;34m(\u001b[0m\u001b[0;34m*\u001b[0m\u001b[0margs\u001b[0m\u001b[0;34m,\u001b[0m \u001b[0;34m**\u001b[0m\u001b[0mkwargs\u001b[0m\u001b[0;34m)\u001b[0m\u001b[0;34m\u001b[0m\u001b[0;34m\u001b[0m\u001b[0m\n\u001b[0m\u001b[1;32m     99\u001b[0m \u001b[0;34m\u001b[0m\u001b[0m\n\u001b[1;32m    100\u001b[0m     \u001b[0;32mdef\u001b[0m \u001b[0m__get__\u001b[0m\u001b[0;34m(\u001b[0m\u001b[0mself\u001b[0m\u001b[0;34m,\u001b[0m \u001b[0minst\u001b[0m\u001b[0;34m,\u001b[0m \u001b[0mowner\u001b[0m\u001b[0;34m)\u001b[0m\u001b[0;34m:\u001b[0m\u001b[0;34m\u001b[0m\u001b[0;34m\u001b[0m\u001b[0m\n",
      "\u001b[0;32m~/miniconda3/envs/ml/lib/python3.7/site-packages/fastai2/text/data.py\u001b[0m in \u001b[0;36mshow_batch\u001b[0;34m(x, y, samples, ctxs, max_n, trunc_at, **kwargs)\u001b[0m\n\u001b[1;32m    107\u001b[0m \u001b[0;32mdef\u001b[0m \u001b[0mshow_batch\u001b[0m\u001b[0;34m(\u001b[0m\u001b[0mx\u001b[0m\u001b[0;34m:\u001b[0m \u001b[0mTensorText\u001b[0m\u001b[0;34m,\u001b[0m \u001b[0my\u001b[0m\u001b[0;34m,\u001b[0m \u001b[0msamples\u001b[0m\u001b[0;34m,\u001b[0m \u001b[0mctxs\u001b[0m\u001b[0;34m=\u001b[0m\u001b[0;32mNone\u001b[0m\u001b[0;34m,\u001b[0m \u001b[0mmax_n\u001b[0m\u001b[0;34m=\u001b[0m\u001b[0;36m10\u001b[0m\u001b[0;34m,\u001b[0m \u001b[0mtrunc_at\u001b[0m\u001b[0;34m=\u001b[0m\u001b[0;36m150\u001b[0m\u001b[0;34m,\u001b[0m \u001b[0;34m**\u001b[0m\u001b[0mkwargs\u001b[0m\u001b[0;34m)\u001b[0m\u001b[0;34m:\u001b[0m\u001b[0;34m\u001b[0m\u001b[0;34m\u001b[0m\u001b[0m\n\u001b[1;32m    108\u001b[0m     \u001b[0;32mif\u001b[0m \u001b[0mctxs\u001b[0m \u001b[0;32mis\u001b[0m \u001b[0;32mNone\u001b[0m\u001b[0;34m:\u001b[0m \u001b[0mctxs\u001b[0m \u001b[0;34m=\u001b[0m \u001b[0mget_empty_df\u001b[0m\u001b[0;34m(\u001b[0m\u001b[0mmin\u001b[0m\u001b[0;34m(\u001b[0m\u001b[0mlen\u001b[0m\u001b[0;34m(\u001b[0m\u001b[0msamples\u001b[0m\u001b[0;34m)\u001b[0m\u001b[0;34m,\u001b[0m \u001b[0mmax_n\u001b[0m\u001b[0;34m)\u001b[0m\u001b[0;34m)\u001b[0m\u001b[0;34m\u001b[0m\u001b[0;34m\u001b[0m\u001b[0m\n\u001b[0;32m--> 109\u001b[0;31m     \u001b[0;32mif\u001b[0m \u001b[0mtrunc_at\u001b[0m \u001b[0;32mis\u001b[0m \u001b[0;32mnot\u001b[0m \u001b[0;32mNone\u001b[0m\u001b[0;34m:\u001b[0m \u001b[0msamples\u001b[0m \u001b[0;34m=\u001b[0m \u001b[0mL\u001b[0m\u001b[0;34m(\u001b[0m\u001b[0;34m(\u001b[0m\u001b[0ms\u001b[0m\u001b[0;34m[\u001b[0m\u001b[0;36m0\u001b[0m\u001b[0;34m]\u001b[0m\u001b[0;34m.\u001b[0m\u001b[0mtruncate\u001b[0m\u001b[0;34m(\u001b[0m\u001b[0mtrunc_at\u001b[0m\u001b[0;34m)\u001b[0m\u001b[0;34m,\u001b[0m\u001b[0;34m*\u001b[0m\u001b[0ms\u001b[0m\u001b[0;34m[\u001b[0m\u001b[0;36m1\u001b[0m\u001b[0;34m:\u001b[0m\u001b[0;34m]\u001b[0m\u001b[0;34m)\u001b[0m \u001b[0;32mfor\u001b[0m \u001b[0ms\u001b[0m \u001b[0;32min\u001b[0m \u001b[0msamples\u001b[0m\u001b[0;34m)\u001b[0m\u001b[0;34m\u001b[0m\u001b[0;34m\u001b[0m\u001b[0m\n\u001b[0m\u001b[1;32m    110\u001b[0m     \u001b[0mctxs\u001b[0m \u001b[0;34m=\u001b[0m \u001b[0mshow_batch\u001b[0m\u001b[0;34m[\u001b[0m\u001b[0mobject\u001b[0m\u001b[0;34m]\u001b[0m\u001b[0;34m(\u001b[0m\u001b[0mx\u001b[0m\u001b[0;34m,\u001b[0m \u001b[0my\u001b[0m\u001b[0;34m,\u001b[0m \u001b[0msamples\u001b[0m\u001b[0;34m,\u001b[0m \u001b[0mmax_n\u001b[0m\u001b[0;34m=\u001b[0m\u001b[0mmax_n\u001b[0m\u001b[0;34m,\u001b[0m \u001b[0mctxs\u001b[0m\u001b[0;34m=\u001b[0m\u001b[0mctxs\u001b[0m\u001b[0;34m,\u001b[0m \u001b[0;34m**\u001b[0m\u001b[0mkwargs\u001b[0m\u001b[0;34m)\u001b[0m\u001b[0;34m\u001b[0m\u001b[0;34m\u001b[0m\u001b[0m\n\u001b[1;32m    111\u001b[0m     \u001b[0mdisplay_df\u001b[0m\u001b[0;34m(\u001b[0m\u001b[0mpd\u001b[0m\u001b[0;34m.\u001b[0m\u001b[0mDataFrame\u001b[0m\u001b[0;34m(\u001b[0m\u001b[0mctxs\u001b[0m\u001b[0;34m)\u001b[0m\u001b[0;34m)\u001b[0m\u001b[0;34m\u001b[0m\u001b[0;34m\u001b[0m\u001b[0m\n",
      "\u001b[0;32m~/miniconda3/envs/ml/lib/python3.7/site-packages/fastcore/foundation.py\u001b[0m in \u001b[0;36m__call__\u001b[0;34m(cls, x, *args, **kwargs)\u001b[0m\n\u001b[1;32m     45\u001b[0m             \u001b[0;32mreturn\u001b[0m \u001b[0mx\u001b[0m\u001b[0;34m\u001b[0m\u001b[0;34m\u001b[0m\u001b[0m\n\u001b[1;32m     46\u001b[0m \u001b[0;34m\u001b[0m\u001b[0m\n\u001b[0;32m---> 47\u001b[0;31m         \u001b[0mres\u001b[0m \u001b[0;34m=\u001b[0m \u001b[0msuper\u001b[0m\u001b[0;34m(\u001b[0m\u001b[0;34m)\u001b[0m\u001b[0;34m.\u001b[0m\u001b[0m__call__\u001b[0m\u001b[0;34m(\u001b[0m\u001b[0;34m*\u001b[0m\u001b[0;34m(\u001b[0m\u001b[0;34m(\u001b[0m\u001b[0mx\u001b[0m\u001b[0;34m,\u001b[0m\u001b[0;34m)\u001b[0m \u001b[0;34m+\u001b[0m \u001b[0margs\u001b[0m\u001b[0;34m)\u001b[0m\u001b[0;34m,\u001b[0m \u001b[0;34m**\u001b[0m\u001b[0mkwargs\u001b[0m\u001b[0;34m)\u001b[0m\u001b[0;34m\u001b[0m\u001b[0;34m\u001b[0m\u001b[0m\n\u001b[0m\u001b[1;32m     48\u001b[0m         \u001b[0mres\u001b[0m\u001b[0;34m.\u001b[0m\u001b[0m_newchk\u001b[0m \u001b[0;34m=\u001b[0m \u001b[0;36m0\u001b[0m\u001b[0;34m\u001b[0m\u001b[0;34m\u001b[0m\u001b[0m\n\u001b[1;32m     49\u001b[0m         \u001b[0;32mreturn\u001b[0m \u001b[0mres\u001b[0m\u001b[0;34m\u001b[0m\u001b[0;34m\u001b[0m\u001b[0m\n",
      "\u001b[0;32m~/miniconda3/envs/ml/lib/python3.7/site-packages/fastcore/foundation.py\u001b[0m in \u001b[0;36m__init__\u001b[0;34m(self, items, use_list, match, *rest)\u001b[0m\n\u001b[1;32m    316\u001b[0m         \u001b[0;32mif\u001b[0m \u001b[0mitems\u001b[0m \u001b[0;32mis\u001b[0m \u001b[0;32mNone\u001b[0m\u001b[0;34m:\u001b[0m \u001b[0mitems\u001b[0m \u001b[0;34m=\u001b[0m \u001b[0;34m[\u001b[0m\u001b[0;34m]\u001b[0m\u001b[0;34m\u001b[0m\u001b[0;34m\u001b[0m\u001b[0m\n\u001b[1;32m    317\u001b[0m         \u001b[0;32mif\u001b[0m \u001b[0;34m(\u001b[0m\u001b[0muse_list\u001b[0m \u001b[0;32mis\u001b[0m \u001b[0;32mnot\u001b[0m \u001b[0;32mNone\u001b[0m\u001b[0;34m)\u001b[0m \u001b[0;32mor\u001b[0m \u001b[0;32mnot\u001b[0m \u001b[0m_is_array\u001b[0m\u001b[0;34m(\u001b[0m\u001b[0mitems\u001b[0m\u001b[0;34m)\u001b[0m\u001b[0;34m:\u001b[0m\u001b[0;34m\u001b[0m\u001b[0;34m\u001b[0m\u001b[0m\n\u001b[0;32m--> 318\u001b[0;31m             \u001b[0mitems\u001b[0m \u001b[0;34m=\u001b[0m \u001b[0mlist\u001b[0m\u001b[0;34m(\u001b[0m\u001b[0mitems\u001b[0m\u001b[0;34m)\u001b[0m \u001b[0;32mif\u001b[0m \u001b[0muse_list\u001b[0m \u001b[0;32melse\u001b[0m \u001b[0m_listify\u001b[0m\u001b[0;34m(\u001b[0m\u001b[0mitems\u001b[0m\u001b[0;34m)\u001b[0m\u001b[0;34m\u001b[0m\u001b[0;34m\u001b[0m\u001b[0m\n\u001b[0m\u001b[1;32m    319\u001b[0m         \u001b[0;32mif\u001b[0m \u001b[0mmatch\u001b[0m \u001b[0;32mis\u001b[0m \u001b[0;32mnot\u001b[0m \u001b[0;32mNone\u001b[0m\u001b[0;34m:\u001b[0m\u001b[0;34m\u001b[0m\u001b[0;34m\u001b[0m\u001b[0m\n\u001b[1;32m    320\u001b[0m             \u001b[0;32mif\u001b[0m \u001b[0mis_coll\u001b[0m\u001b[0;34m(\u001b[0m\u001b[0mmatch\u001b[0m\u001b[0;34m)\u001b[0m\u001b[0;34m:\u001b[0m \u001b[0mmatch\u001b[0m \u001b[0;34m=\u001b[0m \u001b[0mlen\u001b[0m\u001b[0;34m(\u001b[0m\u001b[0mmatch\u001b[0m\u001b[0;34m)\u001b[0m\u001b[0;34m\u001b[0m\u001b[0;34m\u001b[0m\u001b[0m\n",
      "\u001b[0;32m~/miniconda3/envs/ml/lib/python3.7/site-packages/fastcore/foundation.py\u001b[0m in \u001b[0;36m_listify\u001b[0;34m(o)\u001b[0m\n\u001b[1;32m    252\u001b[0m     \u001b[0;32mif\u001b[0m \u001b[0misinstance\u001b[0m\u001b[0;34m(\u001b[0m\u001b[0mo\u001b[0m\u001b[0;34m,\u001b[0m \u001b[0mlist\u001b[0m\u001b[0;34m)\u001b[0m\u001b[0;34m:\u001b[0m \u001b[0;32mreturn\u001b[0m \u001b[0mo\u001b[0m\u001b[0;34m\u001b[0m\u001b[0;34m\u001b[0m\u001b[0m\n\u001b[1;32m    253\u001b[0m     \u001b[0;32mif\u001b[0m \u001b[0misinstance\u001b[0m\u001b[0;34m(\u001b[0m\u001b[0mo\u001b[0m\u001b[0;34m,\u001b[0m \u001b[0mstr\u001b[0m\u001b[0;34m)\u001b[0m \u001b[0;32mor\u001b[0m \u001b[0m_is_array\u001b[0m\u001b[0;34m(\u001b[0m\u001b[0mo\u001b[0m\u001b[0;34m)\u001b[0m\u001b[0;34m:\u001b[0m \u001b[0;32mreturn\u001b[0m \u001b[0;34m[\u001b[0m\u001b[0mo\u001b[0m\u001b[0;34m]\u001b[0m\u001b[0;34m\u001b[0m\u001b[0;34m\u001b[0m\u001b[0m\n\u001b[0;32m--> 254\u001b[0;31m     \u001b[0;32mif\u001b[0m \u001b[0mis_iter\u001b[0m\u001b[0;34m(\u001b[0m\u001b[0mo\u001b[0m\u001b[0;34m)\u001b[0m\u001b[0;34m:\u001b[0m \u001b[0;32mreturn\u001b[0m \u001b[0mlist\u001b[0m\u001b[0;34m(\u001b[0m\u001b[0mo\u001b[0m\u001b[0;34m)\u001b[0m\u001b[0;34m\u001b[0m\u001b[0;34m\u001b[0m\u001b[0m\n\u001b[0m\u001b[1;32m    255\u001b[0m     \u001b[0;32mreturn\u001b[0m \u001b[0;34m[\u001b[0m\u001b[0mo\u001b[0m\u001b[0;34m]\u001b[0m\u001b[0;34m\u001b[0m\u001b[0;34m\u001b[0m\u001b[0m\n\u001b[1;32m    256\u001b[0m \u001b[0;34m\u001b[0m\u001b[0m\n",
      "\u001b[0;32m~/miniconda3/envs/ml/lib/python3.7/site-packages/fastai2/text/data.py\u001b[0m in \u001b[0;36m<genexpr>\u001b[0;34m(.0)\u001b[0m\n\u001b[1;32m    107\u001b[0m \u001b[0;32mdef\u001b[0m \u001b[0mshow_batch\u001b[0m\u001b[0;34m(\u001b[0m\u001b[0mx\u001b[0m\u001b[0;34m:\u001b[0m \u001b[0mTensorText\u001b[0m\u001b[0;34m,\u001b[0m \u001b[0my\u001b[0m\u001b[0;34m,\u001b[0m \u001b[0msamples\u001b[0m\u001b[0;34m,\u001b[0m \u001b[0mctxs\u001b[0m\u001b[0;34m=\u001b[0m\u001b[0;32mNone\u001b[0m\u001b[0;34m,\u001b[0m \u001b[0mmax_n\u001b[0m\u001b[0;34m=\u001b[0m\u001b[0;36m10\u001b[0m\u001b[0;34m,\u001b[0m \u001b[0mtrunc_at\u001b[0m\u001b[0;34m=\u001b[0m\u001b[0;36m150\u001b[0m\u001b[0;34m,\u001b[0m \u001b[0;34m**\u001b[0m\u001b[0mkwargs\u001b[0m\u001b[0;34m)\u001b[0m\u001b[0;34m:\u001b[0m\u001b[0;34m\u001b[0m\u001b[0;34m\u001b[0m\u001b[0m\n\u001b[1;32m    108\u001b[0m     \u001b[0;32mif\u001b[0m \u001b[0mctxs\u001b[0m \u001b[0;32mis\u001b[0m \u001b[0;32mNone\u001b[0m\u001b[0;34m:\u001b[0m \u001b[0mctxs\u001b[0m \u001b[0;34m=\u001b[0m \u001b[0mget_empty_df\u001b[0m\u001b[0;34m(\u001b[0m\u001b[0mmin\u001b[0m\u001b[0;34m(\u001b[0m\u001b[0mlen\u001b[0m\u001b[0;34m(\u001b[0m\u001b[0msamples\u001b[0m\u001b[0;34m)\u001b[0m\u001b[0;34m,\u001b[0m \u001b[0mmax_n\u001b[0m\u001b[0;34m)\u001b[0m\u001b[0;34m)\u001b[0m\u001b[0;34m\u001b[0m\u001b[0;34m\u001b[0m\u001b[0m\n\u001b[0;32m--> 109\u001b[0;31m     \u001b[0;32mif\u001b[0m \u001b[0mtrunc_at\u001b[0m \u001b[0;32mis\u001b[0m \u001b[0;32mnot\u001b[0m \u001b[0;32mNone\u001b[0m\u001b[0;34m:\u001b[0m \u001b[0msamples\u001b[0m \u001b[0;34m=\u001b[0m \u001b[0mL\u001b[0m\u001b[0;34m(\u001b[0m\u001b[0;34m(\u001b[0m\u001b[0ms\u001b[0m\u001b[0;34m[\u001b[0m\u001b[0;36m0\u001b[0m\u001b[0;34m]\u001b[0m\u001b[0;34m.\u001b[0m\u001b[0mtruncate\u001b[0m\u001b[0;34m(\u001b[0m\u001b[0mtrunc_at\u001b[0m\u001b[0;34m)\u001b[0m\u001b[0;34m,\u001b[0m\u001b[0;34m*\u001b[0m\u001b[0ms\u001b[0m\u001b[0;34m[\u001b[0m\u001b[0;36m1\u001b[0m\u001b[0;34m:\u001b[0m\u001b[0;34m]\u001b[0m\u001b[0;34m)\u001b[0m \u001b[0;32mfor\u001b[0m \u001b[0ms\u001b[0m \u001b[0;32min\u001b[0m \u001b[0msamples\u001b[0m\u001b[0;34m)\u001b[0m\u001b[0;34m\u001b[0m\u001b[0;34m\u001b[0m\u001b[0m\n\u001b[0m\u001b[1;32m    110\u001b[0m     \u001b[0mctxs\u001b[0m \u001b[0;34m=\u001b[0m \u001b[0mshow_batch\u001b[0m\u001b[0;34m[\u001b[0m\u001b[0mobject\u001b[0m\u001b[0;34m]\u001b[0m\u001b[0;34m(\u001b[0m\u001b[0mx\u001b[0m\u001b[0;34m,\u001b[0m \u001b[0my\u001b[0m\u001b[0;34m,\u001b[0m \u001b[0msamples\u001b[0m\u001b[0;34m,\u001b[0m \u001b[0mmax_n\u001b[0m\u001b[0;34m=\u001b[0m\u001b[0mmax_n\u001b[0m\u001b[0;34m,\u001b[0m \u001b[0mctxs\u001b[0m\u001b[0;34m=\u001b[0m\u001b[0mctxs\u001b[0m\u001b[0;34m,\u001b[0m \u001b[0;34m**\u001b[0m\u001b[0mkwargs\u001b[0m\u001b[0;34m)\u001b[0m\u001b[0;34m\u001b[0m\u001b[0;34m\u001b[0m\u001b[0m\n\u001b[1;32m    111\u001b[0m     \u001b[0mdisplay_df\u001b[0m\u001b[0;34m(\u001b[0m\u001b[0mpd\u001b[0m\u001b[0;34m.\u001b[0m\u001b[0mDataFrame\u001b[0m\u001b[0;34m(\u001b[0m\u001b[0mctxs\u001b[0m\u001b[0;34m)\u001b[0m\u001b[0;34m)\u001b[0m\u001b[0;34m\u001b[0m\u001b[0;34m\u001b[0m\u001b[0m\n",
      "\u001b[0;31mAttributeError\u001b[0m: 'TensorText' object has no attribute 'truncate'"
     ]
    }
   ],
   "source": [
    "cola_dl = HF_Dataloader(HF_Dataset(tokenized_cola, ['text_idxs', 'label']),         \n",
    "                        pad_idx=hf_fast_tokenizer.pad_token_id)\n",
    "cola_dl.show_batch()"
   ]
  },
  {
   "cell_type": "code",
   "execution_count": 7,
   "metadata": {},
   "outputs": [
    {
     "output_type": "error",
     "ename": "NameError",
     "evalue": "name 'HF_Dataloader' is not defined",
     "traceback": [
      "\u001b[0;31m---------------------------------------------------------------------------\u001b[0m",
      "\u001b[0;31mNameError\u001b[0m                                 Traceback (most recent call last)",
      "\u001b[0;32m<ipython-input-7-28c60e6962ff>\u001b[0m in \u001b[0;36m<module>\u001b[0;34m\u001b[0m\n\u001b[0;32m----> 1\u001b[0;31m \u001b[0mlm_dl\u001b[0m \u001b[0;34m=\u001b[0m \u001b[0mHF_Dataloader\u001b[0m\u001b[0;34m(\u001b[0m\u001b[0mlm_dataset\u001b[0m\u001b[0;34m,\u001b[0m \u001b[0;34m{\u001b[0m\u001b[0;34m'x_text'\u001b[0m\u001b[0;34m:\u001b[0m\u001b[0mLMTensorText\u001b[0m\u001b[0;34m,\u001b[0m \u001b[0;34m'y_text'\u001b[0m\u001b[0;34m:\u001b[0m\u001b[0mTensorText\u001b[0m\u001b[0;34m}\u001b[0m\u001b[0;34m,\u001b[0m \u001b[0msort\u001b[0m\u001b[0;34m=\u001b[0m\u001b[0;32mFalse\u001b[0m\u001b[0;34m)\u001b[0m\u001b[0;34m\u001b[0m\u001b[0;34m\u001b[0m\u001b[0m\n\u001b[0m\u001b[1;32m      2\u001b[0m \u001b[0mlm_dl\u001b[0m\u001b[0;34m.\u001b[0m\u001b[0mshow_batch\u001b[0m\u001b[0;34m(\u001b[0m\u001b[0;34m)\u001b[0m\u001b[0;34m\u001b[0m\u001b[0;34m\u001b[0m\u001b[0m\n",
      "\u001b[0;31mNameError\u001b[0m: name 'HF_Dataloader' is not defined"
     ]
    }
   ],
   "source": [
    "lm_dl = HF_Dataloader(lm_dataset, {'x_text':LMTensorText, 'y_text':TensorText}, sort=False)\n",
    "lm_dl.show_batch()"
   ]
  }
 ],
 "metadata": {
  "language_info": {
   "codemirror_mode": {
    "name": "ipython",
    "version": 3
   },
   "file_extension": ".py",
   "mimetype": "text/x-python",
   "name": "python",
   "nbconvert_exporter": "python",
   "pygments_lexer": "ipython3",
   "version": "3.8.3-final"
  },
  "orig_nbformat": 2,
  "kernelspec": {
   "name": "python3",
   "display_name": "Python 3"
  }
 },
 "nbformat": 4,
 "nbformat_minor": 2
}