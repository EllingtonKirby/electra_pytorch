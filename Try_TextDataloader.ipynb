{
  "nbformat": 4,
  "nbformat_minor": 0,
  "metadata": {
    "colab": {
      "name": "Try TextDataloader",
      "provenance": [],
      "collapsed_sections": []
    },
    "kernelspec": {
      "name": "python3",
      "display_name": "Python 3"
    }
  },
  "cells": [
    {
      "cell_type": "code",
      "metadata": {
        "id": "k9jAg3I25Kfr",
        "colab_type": "code",
        "colab": {}
      },
      "source": [
        "try: import fastai2\n",
        "except: \n",
        "  !git clone https://github.com/richardyy1188/Pretrain-MLM-and-finetune-on-GLUE-with-fastai.git\n",
        "  %pip install -q fastai2 transformers tqdm"
      ],
      "execution_count": 0,
      "outputs": []
    },
    {
      "cell_type": "code",
      "metadata": {
        "id": "omRD3-nx5SVs",
        "colab_type": "code",
        "outputId": "2ede3860-340d-4b21-9ae9-d31f6c6102e9",
        "colab": {
          "base_uri": "https://localhost:8080/",
          "height": 35
        }
      },
      "source": [
        "%cd Pretrain-MLM-and-finetune-on-GLUE-with-fastai\n",
        "\n",
        "from IPython.core.debugger import set_trace as bk\n",
        "from functools import partial\n",
        "import pickle\n",
        "from tqdm import tqdm\n",
        "import torch\n",
        "from fastai2.text.all import *\n",
        "from transformers import ElectraTokenizer\n",
        "hf_tokenizer = ElectraTokenizer.from_pretrained(\"google/electra-small-generator\")\n",
        "from _utils.hf_transformers_integration import HF_Tokenizer, HF_TextBlock, HFModelWrapper\n",
        "from _utils.demo_data import load_demo_dataframe"
      ],
      "execution_count": 2,
      "outputs": [
        {
          "output_type": "stream",
          "text": [
            "/content/Pretrain-MLM-and-finetune-on-GLUE-with-fastai\n"
          ],
          "name": "stdout"
        }
      ]
    },
    {
      "cell_type": "code",
      "metadata": {
        "id": "0-SSKytH_6ns",
        "colab_type": "code",
        "outputId": "a6853fef-a31c-42f1-cf7b-3d86aa782e46",
        "colab": {
          "base_uri": "https://localhost:8080/",
          "height": 332
        }
      },
      "source": [
        "# from the lyrics of \"Avicii - Waiting For Love\"\n",
        "data={'text':[\"Monday left me broken\",\"Tuesday I was through with hoping\",\"Wednesday my empty arms were open\",\"Thursday waiting for love, waiting for love\",\"Thank the stars it's Friday\",\"I'm burning like a fire gone wild on Saturday\",\"Guess I won't be coming to church on Sunday\",\"I'll be waiting for love, waiting for love\",\"To come around\",],'is_valid':[False]*7 + [True]*2}\n",
        "data['length'] = [ len(t.split()) for t in data['text']]\n",
        "df = pd.DataFrame(data=data)\n",
        "df"
      ],
      "execution_count": 3,
      "outputs": [
        {
          "output_type": "execute_result",
          "data": {
            "text/html": [
              "<div>\n",
              "<style scoped>\n",
              "    .dataframe tbody tr th:only-of-type {\n",
              "        vertical-align: middle;\n",
              "    }\n",
              "\n",
              "    .dataframe tbody tr th {\n",
              "        vertical-align: top;\n",
              "    }\n",
              "\n",
              "    .dataframe thead th {\n",
              "        text-align: right;\n",
              "    }\n",
              "</style>\n",
              "<table border=\"1\" class=\"dataframe\">\n",
              "  <thead>\n",
              "    <tr style=\"text-align: right;\">\n",
              "      <th></th>\n",
              "      <th>text</th>\n",
              "      <th>is_valid</th>\n",
              "      <th>length</th>\n",
              "    </tr>\n",
              "  </thead>\n",
              "  <tbody>\n",
              "    <tr>\n",
              "      <th>0</th>\n",
              "      <td>Monday left me broken</td>\n",
              "      <td>False</td>\n",
              "      <td>4</td>\n",
              "    </tr>\n",
              "    <tr>\n",
              "      <th>1</th>\n",
              "      <td>Tuesday I was through with hoping</td>\n",
              "      <td>False</td>\n",
              "      <td>6</td>\n",
              "    </tr>\n",
              "    <tr>\n",
              "      <th>2</th>\n",
              "      <td>Wednesday my empty arms were open</td>\n",
              "      <td>False</td>\n",
              "      <td>6</td>\n",
              "    </tr>\n",
              "    <tr>\n",
              "      <th>3</th>\n",
              "      <td>Thursday waiting for love, waiting for love</td>\n",
              "      <td>False</td>\n",
              "      <td>7</td>\n",
              "    </tr>\n",
              "    <tr>\n",
              "      <th>4</th>\n",
              "      <td>Thank the stars it's Friday</td>\n",
              "      <td>False</td>\n",
              "      <td>5</td>\n",
              "    </tr>\n",
              "    <tr>\n",
              "      <th>5</th>\n",
              "      <td>I'm burning like a fire gone wild on Saturday</td>\n",
              "      <td>False</td>\n",
              "      <td>9</td>\n",
              "    </tr>\n",
              "    <tr>\n",
              "      <th>6</th>\n",
              "      <td>Guess I won't be coming to church on Sunday</td>\n",
              "      <td>False</td>\n",
              "      <td>9</td>\n",
              "    </tr>\n",
              "    <tr>\n",
              "      <th>7</th>\n",
              "      <td>I'll be waiting for love, waiting for love</td>\n",
              "      <td>True</td>\n",
              "      <td>8</td>\n",
              "    </tr>\n",
              "    <tr>\n",
              "      <th>8</th>\n",
              "      <td>To come around</td>\n",
              "      <td>True</td>\n",
              "      <td>3</td>\n",
              "    </tr>\n",
              "  </tbody>\n",
              "</table>\n",
              "</div>"
            ],
            "text/plain": [
              "                                            text  is_valid  length\n",
              "0                          Monday left me broken     False       4\n",
              "1              Tuesday I was through with hoping     False       6\n",
              "2              Wednesday my empty arms were open     False       6\n",
              "3    Thursday waiting for love, waiting for love     False       7\n",
              "4                    Thank the stars it's Friday     False       5\n",
              "5  I'm burning like a fire gone wild on Saturday     False       9\n",
              "6    Guess I won't be coming to church on Sunday     False       9\n",
              "7     I'll be waiting for love, waiting for love      True       8\n",
              "8                                 To come around      True       3"
            ]
          },
          "metadata": {
            "tags": []
          },
          "execution_count": 3
        }
      ]
    },
    {
      "cell_type": "markdown",
      "metadata": {
        "id": "YLiBRkiM5hgb",
        "colab_type": "text"
      },
      "source": [
        "#1. TextDataloader"
      ]
    },
    {
      "cell_type": "code",
      "metadata": {
        "id": "6xuPaHcu5jbx",
        "colab_type": "code",
        "colab": {}
      },
      "source": [
        "@delegates()\n",
        "class TextDataloader(TfmdDL):\n",
        "  def __init__(self, dataset, max_seq_len=float('inf'), sort_by_len=True, agg_mode=None, ignore_gt_maxlen=True, remove_heads=False, remove_tails=False, bos_idx_add=None, eos_idx_add=None, show_bar=True, samples=None, **kwargs):\n",
        "    super().__init__(dataset, **kwargs)\n",
        "    assert agg_mode in [None, 'lm', 'lines', 'window']\n",
        "    assert not (agg_mode and max_seq_len is None)\n",
        "    self.sort_by_len = sort_by_len and agg_mode in [None, 'lines'] # sorting makes sense only with these modes\n",
        "    ignore_gt_maxlen = ignore_gt_maxlen and agg_mode in [None, 'lines'] and max_seq_len is not None\n",
        "    first_text_tensor = dataset[0][0]\n",
        "    device, dtype = first_text_tensor.device, first_text_tensor.dtype\n",
        "    self.bos = torch.tensor([bos_idx_add] if bos_idx_add is not None else [], device=device, dtype=dtype)\n",
        "    self.eos = torch.tensor([eos_idx_add] if eos_idx_add is not None else [], device=device, dtype=dtype)\n",
        "    self.add_bos_or_eos = bos_idx_add or eos_idx_add\n",
        "    # only use [start:end] text to concatenate (if needed)\n",
        "    self.start = 0 if not remove_heads else 1\n",
        "    self.end = None if not remove_tails else -1\n",
        "\n",
        "    store_attr(self,'dataset,max_seq_len,sort_by_len,agg_mode,ignore_gt_maxlen,remove_heads,remove_tails,bos_idx_add,eos_idx_add,show_bar')\n",
        "    \n",
        "    if samples is not None: # Load from cache\n",
        "      self.samples, self.n = samples, len(samples)\n",
        "      return\n",
        "\n",
        "    self.samples = L()\n",
        "    # residual_len will reset to initial_residual_len\n",
        "    # lm mode: max_seq_len text and 1 right-shift text, so take max_seq_len + 1 window\n",
        "    self.initial_residual_len = max_seq_len + 1 if agg_mode=='lm' else max_seq_len \n",
        "    # keep spaces to add bos to final text \n",
        "    if bos_idx_add is not None: self.initial_residual_len -= 1\n",
        "    if eos_idx_add is not None: self.initial_residual_len -= 1\n",
        "    self.residual_len, self.new_sample = self.initial_residual_len, []\n",
        "\n",
        "    for i, sample in tqdm(enumerate(dataset), desc='TextDataloader init:', total=len(dataset), disable=not show_bar):\n",
        "      line_len = len(sample[0])\n",
        "      if remove_heads: line_len -= 1\n",
        "      if remove_tails: line_len -= 1\n",
        "      \n",
        "      if max_seq_len is not None and line_len > self.initial_residual_len and agg_mode in [None, 'lines']:\n",
        "        if ignore_gt_maxlen: continue\n",
        "        else: raise ValueError(f'The {i} th text line in dataset has length {line_len}(without removing head or tail, {len(sample[0])}), and is longer than max length {self.initial_residual_len}(without add bos or eos, {max_seq_len})')\n",
        "        \n",
        "      if agg_mode is None: self.samples.append( (line_len, i) )\n",
        "      elif agg_mode == 'lines': self._accumulate_lines(i, line_len)\n",
        "      else: self._accumulate_window(i, line_len)\n",
        "    \n",
        "    if agg_mode is not None and self.new_sample:\n",
        "      if agg_mode == 'lines': self.samples.append((self.max_seq_len-self.residual_len, self.new_sample))\n",
        "      else: self.samples.append(self.new_sample)\n",
        "\n",
        "    # specify total number of samples\n",
        "    self.n = len(self.samples)\n",
        "      \n",
        "  def _accumulate_lines(self, i, line_len):\n",
        "    if line_len <= self.residual_len:\n",
        "      self.new_sample.append(i)\n",
        "      self.residual_len -= line_len\n",
        "    else:\n",
        "      self.samples.append((self.max_seq_len-self.residual_len, self.new_sample))\n",
        "      self.new_sample = [i]\n",
        "      self.residual_len = self.initial_residual_len - line_len\n",
        "\n",
        "  def _accumulate_window(self, i, line_len):\n",
        "    usable_len = line_len\n",
        "    cursor = self.start\n",
        "    while usable_len != 0:\n",
        "      use_len = min(usable_len, self.residual_len)\n",
        "      self.new_sample.append((i, cursor, cursor+use_len))\n",
        "      self.residual_len -= use_len\n",
        "      usable_len -= use_len\n",
        "      cursor += use_len\n",
        "      if self.residual_len == 0:\n",
        "        self.samples.append(self.new_sample)\n",
        "        self.new_sample = []\n",
        "        self.residual_len = self.initial_residual_len\n",
        "\n",
        "  def create_item(self, s):\n",
        "    if self.agg_mode is None:\n",
        "      \"samples = [ (length, idx), ... ]\"\n",
        "      idx = self.samples[s][1]\n",
        "      sample = self.dataset[idx]\n",
        "      line = sample[0][self.start:self.end]\n",
        "      text = torch.cat([self.bos, line, self.eos]) if self.add_bos_or_eos else line\n",
        "      return ( TensorText(text), *sample[1:] )\n",
        "    elif self.agg_mode == 'lines':\n",
        "      \"samples = [ (length, [idx, idx, ...]) , ... ]\"\n",
        "      agg = [ self.dataset[idx][0][self.start:self.end] for idx in self.samples[s][1] ]\n",
        "      agg_text = concat(self.bos, *agg, self.eos) if self.add_bos_or_eos else concat(*agg)\n",
        "      return (TensorText(agg_text), )\n",
        "    else: # window or lm\n",
        "      \"samples = [ (idx,start,end) ]\"\n",
        "      agg = [ self.dataset[idx][0][start:end] for idx,start,end in self.samples[s] ]\n",
        "      agg_text = concat(self.bos, *agg, self.eos) if self.add_bos_or_eos else concat(*agg)\n",
        "      if self.agg_mode == 'window':\n",
        "        return (TensorText(agg_text), )\n",
        "      else: # 'lm'\n",
        "        return (LMTensorText(agg_text[:-1]), TensorText(agg_text[1:]))\n",
        "\n",
        "  def shuffle_fn(self, idxs):\n",
        "    if self.agg_mode in ['lm', 'window']:\n",
        "      self.samples.shuffle()\n",
        "    else:\n",
        "      self.samples.sort(key=lambda s: s[0])\n",
        "    return idxs\n",
        "\n",
        "  def cache(self, file_path):\n",
        "    tmp = self.dataset\n",
        "    self.dataset = None\n",
        "    torch.save(self, file_path)\n",
        "    self.dataset = tmp\n",
        "\n",
        "  #@delegates(TextDataloader.__init__) but we haven't evaluated TextDataloader\n",
        "  @delegates(TfmdDL.new)\n",
        "  @classmethod\n",
        "  def from_cache(cls, file_path, dataset, **kwargs):\n",
        "    \"\"\"\n",
        "    1. You must pass the dataset as the same as the original one.\n",
        "    2. You can not change args for TextDataloader itself (e.g. change bos_idx_add).\n",
        "    3. But you can change args for TfmDL (e.g. change bs), which results in reinit of TfmDL,\n",
        "       So you need to pass all other arguments (e.g. before_batch=...) like what you did in first time.\n",
        "    \"\"\"\n",
        "    dl = torch.load(file_path)\n",
        "    dl.dataset = dataset\n",
        "    if kwargs:\n",
        "      # reject change that cause arguments be inconsistent with loaded `self.samples` record \n",
        "      for arg in ['max_seq_len','agg_mode','ignore_gt_maxlen','remove_heads','remove_tails']:\n",
        "        assert arg not in kwargs, f\"Specifying {arg} will make it inconsistent with cached internal record.\"\n",
        "      for arg in ['bos_idx_add','eos_idx_add']:\n",
        "        if arg in kwargs: assert (kwargs[arg] is None) == (getattr(dl, arg) is None), f\"You can't change whether to add head/eos from cached setting.\"\n",
        "      return dl.new(dataset, samples=dl.samples, **kwargs)\n",
        "    else:\n",
        "      return dl\n",
        "\n",
        "  @delegates(TfmdDL.new)\n",
        "  def new(self, dataset=None, **kwargs):\n",
        "    cur_args = dict(max_seq_len=self.max_seq_len, sort_by_len=self.sort_by_len,agg_mode=self.agg_mode,ignore_gt_maxlen=self.ignore_gt_maxlen,remove_heads=self.remove_heads, remove_tails=self.remove_tails, bos_idx_add=self.bos_idx_add, eos_idx_add=self.eos_idx_add,show_bar=self.show_bar)\n",
        "    \n",
        "    # To create valid dl, only train_dl.new(shuffle=True/not specified) can skip this \n",
        "    if not self.shuffle or not getattr(kwargs, 'shuffle', True): # (is valid dl) or (told to create valid dl) -> to create valid dl\n",
        "      cur_args['ignore_gt_maxlen'] = False # You can't discard data from dataset for validation, especially test set\n",
        "    \n",
        "    return super().new(dataset=dataset,\n",
        "                       **merge(cur_args, kwargs)) # kwargs overwrite cur_args"
      ],
      "execution_count": 0,
      "outputs": []
    },
    {
      "cell_type": "markdown",
      "metadata": {
        "id": "tchYkt4w5mDr",
        "colab_type": "text"
      },
      "source": [
        "# 2. Try"
      ]
    },
    {
      "cell_type": "markdown",
      "metadata": {
        "id": "BCQiYfE4GIRk",
        "colab_type": "text"
      },
      "source": [
        "We'll try different param of `TextDataloader` to show its capability, but **!! it doesn't mean these are the best practices. !!**"
      ]
    },
    {
      "cell_type": "code",
      "metadata": {
        "id": "V3m_Qjh97lgm",
        "colab_type": "code",
        "colab": {}
      },
      "source": [
        "db = DataBlock(splitter=ColSplitter(),\n",
        "              blocks=HF_TextBlock.from_df('text', hf_tokenizer),\n",
        "              get_x=ColReader('text'),)"
      ],
      "execution_count": 0,
      "outputs": []
    },
    {
      "cell_type": "markdown",
      "metadata": {
        "id": "ylPTnYJk5o09",
        "colab_type": "text"
      },
      "source": [
        "Default behavior:\n",
        "* a line a sample\n",
        "* collect samples by their length. (try to make samples with the same length as a batch, to reduce number of pad)"
      ]
    },
    {
      "cell_type": "code",
      "metadata": {
        "id": "9oWfgKqJ5kjN",
        "colab_type": "code",
        "outputId": "cdef5c7c-8205-435b-83e2-7cf916ec4e02",
        "colab": {
          "base_uri": "https://localhost:8080/",
          "height": 192
        }
      },
      "source": [
        "default_dls = db.dataloaders(df, bs=4, shuffle_train=True, dl_type=TextDataloader, show_bar=False)\n",
        "default_dls.show_batch(max_n=4)\n",
        "\"\"\"\n",
        "We sort the sample by its length.\n",
        "Observe that the 3rd sample of batch is Friday (9 tokens) but not Thursday (10 tokens), \n",
        "thus we can reduce number of pad need to add, \n",
        "becuase we have to make all samples in a batch the same legth.\n",
        "\"\"\"\n",
        "print('x batch size:', default_dls.one_batch()[0].shape)"
      ],
      "execution_count": 6,
      "outputs": [
        {
          "output_type": "display_data",
          "data": {
            "text/html": [
              ""
            ],
            "text/plain": [
              "<IPython.core.display.HTML object>"
            ]
          },
          "metadata": {
            "tags": []
          }
        },
        {
          "output_type": "display_data",
          "data": {
            "text/html": [
              "<table border=\"1\" class=\"dataframe\">\n",
              "  <thead>\n",
              "    <tr style=\"text-align: right;\">\n",
              "      <th></th>\n",
              "      <th>text</th>\n",
              "    </tr>\n",
              "  </thead>\n",
              "  <tbody>\n",
              "    <tr>\n",
              "      <th>0</th>\n",
              "      <td>[CLS] monday left me broken [SEP] [PAD] [PAD] [PAD]</td>\n",
              "    </tr>\n",
              "    <tr>\n",
              "      <th>1</th>\n",
              "      <td>[CLS] tuesday i was through with hoping [SEP] [PAD]</td>\n",
              "    </tr>\n",
              "    <tr>\n",
              "      <th>2</th>\n",
              "      <td>[CLS] wednesday my empty arms were open [SEP] [PAD]</td>\n",
              "    </tr>\n",
              "    <tr>\n",
              "      <th>3</th>\n",
              "      <td>[CLS] thank the stars it ' s friday [SEP]</td>\n",
              "    </tr>\n",
              "  </tbody>\n",
              "</table>"
            ],
            "text/plain": [
              "<IPython.core.display.HTML object>"
            ]
          },
          "metadata": {
            "tags": []
          }
        },
        {
          "output_type": "stream",
          "text": [
            "x batch size: torch.Size([4, 9])\n"
          ],
          "name": "stdout"
        }
      ]
    },
    {
      "cell_type": "markdown",
      "metadata": {
        "id": "EPbXr196wKks",
        "colab_type": "text"
      },
      "source": [
        "**Window mode**\n",
        "* Want to use broader context\n",
        "* sliding context window\n",
        "* less pad (only samples in the last batch may have pad)\n",
        "* every sample is of `max_seq_len` length. (Unless the last batch only have one sample shorter than `max_seq_len`)"
      ]
    },
    {
      "cell_type": "code",
      "metadata": {
        "id": "1v-Zo8jTwKST",
        "colab_type": "code",
        "outputId": "f6b54be8-e6d0-4353-acca-c5c493810aca",
        "colab": {
          "base_uri": "https://localhost:8080/",
          "height": 165
        }
      },
      "source": [
        "window_dls = db.dataloaders(df, shuffle_train=False, bs=2,\n",
        "                     dl_type=partial(TextDataloader,\n",
        "                                     max_seq_len=15,\n",
        "                                     agg_mode='window',\n",
        "                                     remove_heads=True,\n",
        "                                     remove_tails=True,\n",
        "                                     bos_idx_add=hf_tokenizer.cls_token_id,\n",
        "                                     eos_idx_add=hf_tokenizer.sep_token_id))\n",
        "window_dls.show_batch(max_n=2)\n",
        "\"\"\"\n",
        "To use CLS...SEP format, first remove heads(CLS) and tails(SEP) for every line,\n",
        "and then add bos(CLS) and eos(SEP) to the head and tail of concatenated sequence.\n",
        "\"\"\"\n",
        "print('x batch size:', window_dls.one_batch()[0].shape)"
      ],
      "execution_count": 7,
      "outputs": [
        {
          "output_type": "display_data",
          "data": {
            "text/html": [
              ""
            ],
            "text/plain": [
              "<IPython.core.display.HTML object>"
            ]
          },
          "metadata": {
            "tags": []
          }
        },
        {
          "output_type": "stream",
          "text": [
            "TextDataloader init:: 100%|██████████| 7/7 [00:00<00:00, 1445.81it/s]\n",
            "TextDataloader init:: 100%|██████████| 2/2 [00:00<00:00, 819.84it/s]\n"
          ],
          "name": "stderr"
        },
        {
          "output_type": "display_data",
          "data": {
            "text/html": [
              "<table border=\"1\" class=\"dataframe\">\n",
              "  <thead>\n",
              "    <tr style=\"text-align: right;\">\n",
              "      <th></th>\n",
              "      <th>text</th>\n",
              "    </tr>\n",
              "  </thead>\n",
              "  <tbody>\n",
              "    <tr>\n",
              "      <th>0</th>\n",
              "      <td>[CLS] monday left me broken tuesday i was through with hoping wednesday my empty [SEP]</td>\n",
              "    </tr>\n",
              "    <tr>\n",
              "      <th>1</th>\n",
              "      <td>[CLS] arms were open thursday waiting for love , waiting for love thank the [SEP]</td>\n",
              "    </tr>\n",
              "  </tbody>\n",
              "</table>"
            ],
            "text/plain": [
              "<IPython.core.display.HTML object>"
            ]
          },
          "metadata": {
            "tags": []
          }
        },
        {
          "output_type": "stream",
          "text": [
            "x batch size: torch.Size([2, 15])\n"
          ],
          "name": "stdout"
        }
      ]
    },
    {
      "cell_type": "markdown",
      "metadata": {
        "id": "zVIiXWnkrTWZ",
        "colab_type": "text"
      },
      "source": [
        "**Lines mode**\n",
        "* Want to attend to wider context, but also don't want shattered sentence.\n",
        "* Sequentially concat lines.\n",
        "* Note that `max_seq_len` is not definitely length of sample, and increasing it doesn't definitely increase number of pads used."
      ]
    },
    {
      "cell_type": "code",
      "metadata": {
        "id": "r98xX2c3Ws9j",
        "colab_type": "code",
        "outputId": "803a1e0b-af46-42e6-dff4-ca5ab7369e2b",
        "colab": {
          "base_uri": "https://localhost:8080/",
          "height": 165
        }
      },
      "source": [
        "lines_dls = db.dataloaders(df, shuffle_train=False, bs=2,\n",
        "                     dl_type=partial(TextDataloader,\n",
        "                                     max_seq_len=13,\n",
        "                                     agg_mode='lines',\n",
        "                                     remove_heads=True,\n",
        "                                     bos_idx_add=hf_tokenizer.cls_token_id))\n",
        "lines_dls.show_batch(max_n=2)\n",
        "\"\"\"\n",
        "To get CLS ... SEP ... SEP format, we remove head (CLS) for every line,\n",
        "and add back an bos (CLS) to head of concated sample.\n",
        "\"\"\"\n",
        "print('x batch size:', lines_dls.one_batch()[0].shape)"
      ],
      "execution_count": 8,
      "outputs": [
        {
          "output_type": "display_data",
          "data": {
            "text/html": [
              ""
            ],
            "text/plain": [
              "<IPython.core.display.HTML object>"
            ]
          },
          "metadata": {
            "tags": []
          }
        },
        {
          "output_type": "stream",
          "text": [
            "TextDataloader init:: 100%|██████████| 7/7 [00:00<00:00, 1331.16it/s]\n",
            "TextDataloader init:: 100%|██████████| 2/2 [00:00<00:00, 466.73it/s]\n"
          ],
          "name": "stderr"
        },
        {
          "output_type": "display_data",
          "data": {
            "text/html": [
              "<table border=\"1\" class=\"dataframe\">\n",
              "  <thead>\n",
              "    <tr style=\"text-align: right;\">\n",
              "      <th></th>\n",
              "      <th>text</th>\n",
              "    </tr>\n",
              "  </thead>\n",
              "  <tbody>\n",
              "    <tr>\n",
              "      <th>0</th>\n",
              "      <td>[CLS] monday left me broken [SEP] tuesday i was through with hoping [SEP]</td>\n",
              "    </tr>\n",
              "    <tr>\n",
              "      <th>1</th>\n",
              "      <td>[CLS] wednesday my empty arms were open [SEP] [PAD] [PAD] [PAD] [PAD] [PAD]</td>\n",
              "    </tr>\n",
              "  </tbody>\n",
              "</table>"
            ],
            "text/plain": [
              "<IPython.core.display.HTML object>"
            ]
          },
          "metadata": {
            "tags": []
          }
        },
        {
          "output_type": "stream",
          "text": [
            "x batch size: torch.Size([2, 13])\n"
          ],
          "name": "stdout"
        }
      ]
    },
    {
      "cell_type": "markdown",
      "metadata": {
        "id": "zWHqTA6EzwjU",
        "colab_type": "text"
      },
      "source": [
        "**(Traditional) Language model mode**\n",
        "* predict i th token in y, using 0~i-1 tokens in x\n",
        "* sliding context window\n",
        "* samples in the last batch may have pad\n",
        "* every sample is of `max_seq_len` length. (Unless the last batch only have one sample shorter than `max_seq_len`)"
      ]
    },
    {
      "cell_type": "code",
      "metadata": {
        "id": "hijemiYrr9kV",
        "colab_type": "code",
        "outputId": "39bfc1d1-c000-4519-9f33-249205ec86a9",
        "colab": {
          "base_uri": "https://localhost:8080/",
          "height": 165
        }
      },
      "source": [
        "lm_dls = db.dataloaders(df, shuffle_train=False, bs=2,\n",
        "                        dl_type=partial(TextDataloader,\n",
        "                                        max_seq_len=7,\n",
        "                                        agg_mode='lm',))\n",
        "lm_dls.show_batch(max_n=2)\n",
        "print('x batch size:', lm_dls.one_batch()[0].shape)"
      ],
      "execution_count": 9,
      "outputs": [
        {
          "output_type": "display_data",
          "data": {
            "text/html": [
              ""
            ],
            "text/plain": [
              "<IPython.core.display.HTML object>"
            ]
          },
          "metadata": {
            "tags": []
          }
        },
        {
          "output_type": "stream",
          "text": [
            "TextDataloader init:: 100%|██████████| 7/7 [00:00<00:00, 1344.57it/s]\n",
            "TextDataloader init:: 100%|██████████| 2/2 [00:00<00:00, 823.87it/s]\n"
          ],
          "name": "stderr"
        },
        {
          "output_type": "display_data",
          "data": {
            "text/html": [
              "<table border=\"1\" class=\"dataframe\">\n",
              "  <thead>\n",
              "    <tr style=\"text-align: right;\">\n",
              "      <th></th>\n",
              "      <th>text</th>\n",
              "      <th>text_</th>\n",
              "    </tr>\n",
              "  </thead>\n",
              "  <tbody>\n",
              "    <tr>\n",
              "      <th>0</th>\n",
              "      <td>[CLS] monday left me broken [SEP] [CLS]</td>\n",
              "      <td>monday left me broken [SEP] [CLS] tuesday</td>\n",
              "    </tr>\n",
              "    <tr>\n",
              "      <th>1</th>\n",
              "      <td>i was through with hoping [SEP] [CLS]</td>\n",
              "      <td>was through with hoping [SEP] [CLS] wednesday</td>\n",
              "    </tr>\n",
              "  </tbody>\n",
              "</table>"
            ],
            "text/plain": [
              "<IPython.core.display.HTML object>"
            ]
          },
          "metadata": {
            "tags": []
          }
        },
        {
          "output_type": "stream",
          "text": [
            "x batch size: torch.Size([2, 7])\n"
          ],
          "name": "stdout"
        }
      ]
    },
    {
      "cell_type": "markdown",
      "metadata": {
        "id": "_XHQc_d4HKFS",
        "colab_type": "text"
      },
      "source": [
        "# 3. Speed comparison to existing dataloader for text"
      ]
    },
    {
      "cell_type": "markdown",
      "metadata": {
        "id": "mmiZeQRBKiyT",
        "colab_type": "text"
      },
      "source": [
        "Create datasets first to not count the time of creating datasets"
      ]
    },
    {
      "cell_type": "code",
      "metadata": {
        "id": "EeratlXOHnk1",
        "colab_type": "code",
        "outputId": "d1901cf4-053f-4fd8-b83a-c19834059d22",
        "colab": {
          "base_uri": "https://localhost:8080/",
          "height": 35
        }
      },
      "source": [
        "another_df = load_demo_dataframe()\n",
        "print('Size of this demo dataset: ', len(another_df))\n",
        "another_datasets = db.datasets(another_df)"
      ],
      "execution_count": 10,
      "outputs": [
        {
          "output_type": "stream",
          "text": [
            "Size of this demo dataset:  14489\n"
          ],
          "name": "stdout"
        },
        {
          "output_type": "display_data",
          "data": {
            "text/html": [
              ""
            ],
            "text/plain": [
              "<IPython.core.display.HTML object>"
            ]
          },
          "metadata": {
            "tags": []
          }
        }
      ]
    },
    {
      "cell_type": "markdown",
      "metadata": {
        "id": "gfawXIM1adk_",
        "colab_type": "text"
      },
      "source": [
        "## 3.1 Compare time for initialization"
      ]
    },
    {
      "cell_type": "code",
      "metadata": {
        "id": "eAD-2rNmKQlR",
        "colab_type": "code",
        "colab": {}
      },
      "source": [
        "def dataloaders_from_db_and_datasets(db, dsets, path='.', verbose=False, **kwargs):\n",
        "    kwargs = {**db.dls_kwargs, **kwargs, 'verbose': verbose}\n",
        "    return dsets.dataloaders(path=path, after_item=db.item_tfms, after_batch=db.batch_tfms, **kwargs)\n",
        "get_dataloaders = partial(dataloaders_from_db_and_datasets, db, another_datasets)"
      ],
      "execution_count": 0,
      "outputs": []
    },
    {
      "cell_type": "code",
      "metadata": {
        "id": "VynAPJE_IT_-",
        "colab_type": "code",
        "outputId": "bb209cc7-d2cf-4ec1-bdbe-c5dc0c2cd2f9",
        "colab": {
          "base_uri": "https://localhost:8080/",
          "height": 53
        }
      },
      "source": [
        "%timeit get_dataloaders(dl_type=SortedDL)\n",
        "%timeit get_dataloaders(dl_type=partial(TextDataloader, sort_by_len=True, show_bar=False))"
      ],
      "execution_count": 12,
      "outputs": [
        {
          "output_type": "stream",
          "text": [
            "1 loop, best of 3: 8.38 s per loop\n",
            "1 loop, best of 3: 7.37 s per loop\n"
          ],
          "name": "stdout"
        }
      ]
    },
    {
      "cell_type": "code",
      "metadata": {
        "id": "Qot1RTQzO-8A",
        "colab_type": "code",
        "outputId": "64f67208-44aa-4ac7-f2bd-c1270fa40215",
        "colab": {
          "base_uri": "https://localhost:8080/",
          "height": 53
        }
      },
      "source": [
        "%timeit get_dataloaders(dl_type=LMDataLoader)\n",
        "%timeit get_dataloaders(dl_type=partial(TextDataloader, max_seq_len=72, agg_mode='lm',show_bar=False))"
      ],
      "execution_count": 13,
      "outputs": [
        {
          "output_type": "stream",
          "text": [
            "1 loop, best of 3: 7.47 s per loop\n",
            "1 loop, best of 3: 7.51 s per loop\n"
          ],
          "name": "stdout"
        }
      ]
    },
    {
      "cell_type": "markdown",
      "metadata": {
        "id": "y425qGZVanSX",
        "colab_type": "text"
      },
      "source": [
        "## 3.2 Compare time for load batches"
      ]
    },
    {
      "cell_type": "code",
      "metadata": {
        "id": "t8ximrGyasjU",
        "colab_type": "code",
        "outputId": "1526418f-0764-486d-849c-eb464ac80a6f",
        "colab": {
          "base_uri": "https://localhost:8080/",
          "height": 88
        }
      },
      "source": [
        "# We reinitialize because assignment in %timeit is local to %timeit special function scope \n",
        "# BTW, there's four bar beacause there are two (train/valid) textdl for two dls each\n",
        "sorted_dls = get_dataloaders(dl_type=SortedDL)\n",
        "my_sorted_dls = get_dataloaders(dl_type=partial(TextDataloader, sort_by_len=True))\n",
        "LM_dls = get_dataloaders(dl_type=LMDataLoader)\n",
        "my_LM_dls = get_dataloaders(dl_type=partial(TextDataloader, max_seq_len=72, agg_mode='lm',))"
      ],
      "execution_count": 14,
      "outputs": [
        {
          "output_type": "stream",
          "text": [
            "TextDataloader init:: 100%|██████████| 6938/6938 [00:03<00:00, 1741.57it/s]\n",
            "TextDataloader init:: 100%|██████████| 7551/7551 [00:04<00:00, 1734.79it/s]\n",
            "TextDataloader init:: 100%|██████████| 6938/6938 [00:04<00:00, 1687.21it/s]\n",
            "TextDataloader init:: 100%|██████████| 7551/7551 [00:04<00:00, 1681.14it/s]\n"
          ],
          "name": "stderr"
        }
      ]
    },
    {
      "cell_type": "code",
      "metadata": {
        "id": "p_OWDBNab1Zw",
        "colab_type": "code",
        "outputId": "9c56d0b1-5e07-4686-f34f-be3706a5a2d7",
        "colab": {
          "base_uri": "https://localhost:8080/",
          "height": 53
        }
      },
      "source": [
        "%timeit for b in sorted_dls.train: pass\n",
        "%timeit for b in my_sorted_dls.train: pass"
      ],
      "execution_count": 15,
      "outputs": [
        {
          "output_type": "stream",
          "text": [
            "1 loop, best of 3: 5.33 s per loop\n",
            "1 loop, best of 3: 5.68 s per loop\n"
          ],
          "name": "stdout"
        }
      ]
    },
    {
      "cell_type": "code",
      "metadata": {
        "id": "p4EwgBkXcHmx",
        "colab_type": "code",
        "outputId": "00b578cf-a724-4138-f819-cd8134da00e1",
        "colab": {
          "base_uri": "https://localhost:8080/",
          "height": 53
        }
      },
      "source": [
        "%timeit for b in LM_dls.train: pass\n",
        "%timeit for b in my_LM_dls.train: pass"
      ],
      "execution_count": 16,
      "outputs": [
        {
          "output_type": "stream",
          "text": [
            "1 loop, best of 3: 9.19 s per loop\n",
            "1 loop, best of 3: 5.99 s per loop\n"
          ],
          "name": "stdout"
        }
      ]
    },
    {
      "cell_type": "markdown",
      "metadata": {
        "id": "f8Bw8VZWIMaX",
        "colab_type": "text"
      },
      "source": [
        "# 4. Cache\n",
        "So you don't need to initailize dataloader from scratch every time.\n",
        "\n",
        "Note that we cache mainly internal record of which sample should concatenate with which sample, but not the dataset itself. If you want cachable dataset, take a look at huggingface/nlp\n",
        "\n",
        "You should pass the same dataset, especially note that order of samples should be as the same as the original one."
      ]
    },
    {
      "cell_type": "code",
      "metadata": {
        "id": "7PslC2kEOtD2",
        "colab_type": "code",
        "colab": {
          "base_uri": "https://localhost:8080/",
          "height": 17
        },
        "outputId": "8089b7cf-cefd-407f-a5ff-ec152641a7b4"
      },
      "source": [
        "same_datasets = db.datasets(df)"
      ],
      "execution_count": 17,
      "outputs": [
        {
          "output_type": "display_data",
          "data": {
            "text/html": [
              ""
            ],
            "text/plain": [
              "<IPython.core.display.HTML object>"
            ]
          },
          "metadata": {
            "tags": []
          }
        }
      ]
    },
    {
      "cell_type": "code",
      "metadata": {
        "id": "XCRw7-lmk7Vg",
        "colab_type": "code",
        "colab": {}
      },
      "source": [
        "def dataloaders_from_cache(db, source, file_paths, path='.', device=None, **kwargs):\n",
        "  device = default_device()\n",
        "  file_paths = L(file_paths).map(lambda p: Path(p))\n",
        "  datasets = db.datasets(source)\n",
        "  dl_s = L()\n",
        "  for i, f in enumerate(file_paths):\n",
        "    dl_s.append( TextDataloader.from_cache(f, datasets.subset(i), **kwargs) )\n",
        "  return DataLoaders(*dl_s, path=path, device=device)"
      ],
      "execution_count": 0,
      "outputs": []
    },
    {
      "cell_type": "markdown",
      "metadata": {
        "id": "OorV2Brov8--",
        "colab_type": "text"
      },
      "source": [
        "## 5.1 Load Cache"
      ]
    },
    {
      "cell_type": "code",
      "metadata": {
        "id": "D7dQJcjvk9PZ",
        "colab_type": "code",
        "outputId": "458d6ce6-10e3-488e-dad7-ce63396aaf49",
        "colab": {
          "base_uri": "https://localhost:8080/",
          "height": 175
        }
      },
      "source": [
        "default_dls.train.cache('default_train.pth')\n",
        "loaded_default_dl = TextDataloader.from_cache('default_train.pth', same_datasets.subset(0))\n",
        "loaded_default_dl.show_batch()"
      ],
      "execution_count": 19,
      "outputs": [
        {
          "output_type": "display_data",
          "data": {
            "text/html": [
              "<table border=\"1\" class=\"dataframe\">\n",
              "  <thead>\n",
              "    <tr style=\"text-align: right;\">\n",
              "      <th></th>\n",
              "      <th>text</th>\n",
              "    </tr>\n",
              "  </thead>\n",
              "  <tbody>\n",
              "    <tr>\n",
              "      <th>0</th>\n",
              "      <td>[CLS] monday left me broken [SEP] [PAD] [PAD] [PAD]</td>\n",
              "    </tr>\n",
              "    <tr>\n",
              "      <th>1</th>\n",
              "      <td>[CLS] tuesday i was through with hoping [SEP] [PAD]</td>\n",
              "    </tr>\n",
              "    <tr>\n",
              "      <th>2</th>\n",
              "      <td>[CLS] wednesday my empty arms were open [SEP] [PAD]</td>\n",
              "    </tr>\n",
              "    <tr>\n",
              "      <th>3</th>\n",
              "      <td>[CLS] thank the stars it ' s friday [SEP]</td>\n",
              "    </tr>\n",
              "  </tbody>\n",
              "</table>"
            ],
            "text/plain": [
              "<IPython.core.display.HTML object>"
            ]
          },
          "metadata": {
            "tags": []
          }
        }
      ]
    },
    {
      "cell_type": "code",
      "metadata": {
        "id": "2Wp2n8fBPImf",
        "colab_type": "code",
        "colab": {
          "base_uri": "https://localhost:8080/",
          "height": 35
        },
        "outputId": "fbb0024e-11f7-4e23-9162-2a7b7ff54f62"
      },
      "source": [
        "print('Loaded:', TextDataloader.from_cache('default_train.pth', same_datasets.subset(0),\n",
        "                                        bs=3).one_batch()[0].shape )"
      ],
      "execution_count": 20,
      "outputs": [
        {
          "output_type": "stream",
          "text": [
            "Loaded: torch.Size([3, 8])\n"
          ],
          "name": "stdout"
        }
      ]
    },
    {
      "cell_type": "code",
      "metadata": {
        "id": "7y5mqAqvvdwM",
        "colab_type": "code",
        "outputId": "351d5446-0b38-4e47-a175-53995618b245",
        "colab": {
          "base_uri": "https://localhost:8080/",
          "height": 112
        }
      },
      "source": [
        "window_dls.valid.cache('window_valid.pth')\n",
        "loaded_window_dl = TextDataloader.from_cache('window_valid.pth', same_datasets.subset(1))\n",
        "loaded_window_dl.show_batch()"
      ],
      "execution_count": 21,
      "outputs": [
        {
          "output_type": "display_data",
          "data": {
            "text/html": [
              "<table border=\"1\" class=\"dataframe\">\n",
              "  <thead>\n",
              "    <tr style=\"text-align: right;\">\n",
              "      <th></th>\n",
              "      <th>text</th>\n",
              "    </tr>\n",
              "  </thead>\n",
              "  <tbody>\n",
              "    <tr>\n",
              "      <th>0</th>\n",
              "      <td>[CLS] i ' ll be waiting for love , waiting for love to come [SEP]</td>\n",
              "    </tr>\n",
              "    <tr>\n",
              "      <th>1</th>\n",
              "      <td>[CLS] around [SEP] [PAD] [PAD] [PAD] [PAD] [PAD] [PAD] [PAD] [PAD] [PAD] [PAD] [PAD] [PAD]</td>\n",
              "    </tr>\n",
              "  </tbody>\n",
              "</table>"
            ],
            "text/plain": [
              "<IPython.core.display.HTML object>"
            ]
          },
          "metadata": {
            "tags": []
          }
        }
      ]
    },
    {
      "cell_type": "markdown",
      "metadata": {
        "id": "lTicgZEmQ2ff",
        "colab_type": "text"
      },
      "source": [
        "Also can change args for `TextDataloader`"
      ]
    },
    {
      "cell_type": "code",
      "metadata": {
        "id": "Asy3txnTPrWo",
        "colab_type": "code",
        "colab": {
          "base_uri": "https://localhost:8080/",
          "height": 112
        },
        "outputId": "3b217643-1179-42bc-b2bf-a6199e13c9d0"
      },
      "source": [
        "TextDataloader.from_cache('window_valid.pth', same_datasets.subset(1), \n",
        "                          bos_idx_add=hf_tokenizer.unk_token_id).show_batch()"
      ],
      "execution_count": 22,
      "outputs": [
        {
          "output_type": "display_data",
          "data": {
            "text/html": [
              "<table border=\"1\" class=\"dataframe\">\n",
              "  <thead>\n",
              "    <tr style=\"text-align: right;\">\n",
              "      <th></th>\n",
              "      <th>text</th>\n",
              "    </tr>\n",
              "  </thead>\n",
              "  <tbody>\n",
              "    <tr>\n",
              "      <th>0</th>\n",
              "      <td>[UNK] i ' ll be waiting for love , waiting for love to come [SEP]</td>\n",
              "    </tr>\n",
              "    <tr>\n",
              "      <th>1</th>\n",
              "      <td>[UNK] around [SEP] [PAD] [PAD] [PAD] [PAD] [PAD] [PAD] [PAD] [PAD] [PAD] [PAD] [PAD] [PAD]</td>\n",
              "    </tr>\n",
              "  </tbody>\n",
              "</table>"
            ],
            "text/plain": [
              "<IPython.core.display.HTML object>"
            ]
          },
          "metadata": {
            "tags": []
          }
        }
      ]
    },
    {
      "cell_type": "markdown",
      "metadata": {
        "id": "sSG8TFp-22mM",
        "colab_type": "text"
      },
      "source": [
        "To load dataloader's', you can simply refer to this script. \n",
        "\n",
        "Actually, to make `Dataloaders` from `dataloader`, all you need is pass the `dataloader` s and `path` and `device`. Easy."
      ]
    },
    {
      "cell_type": "code",
      "metadata": {
        "id": "UZZDRvAuvoUW",
        "colab_type": "code",
        "outputId": "13ed9dc1-0adf-4714-9372-6cab9ca8909c",
        "colab": {
          "base_uri": "https://localhost:8080/",
          "height": 112
        }
      },
      "source": [
        "lines_dls.train.cache('lines_train.pth')\n",
        "lines_dls.valid.cache('lines_valid.pth')\n",
        "loaded_lines_dls = dataloaders_from_cache(db, df, ['lines_train.pth','lines_valid.pth'])\n",
        "loaded_lines_dls.show_batch()"
      ],
      "execution_count": 23,
      "outputs": [
        {
          "output_type": "display_data",
          "data": {
            "text/html": [
              ""
            ],
            "text/plain": [
              "<IPython.core.display.HTML object>"
            ]
          },
          "metadata": {
            "tags": []
          }
        },
        {
          "output_type": "display_data",
          "data": {
            "text/html": [
              "<table border=\"1\" class=\"dataframe\">\n",
              "  <thead>\n",
              "    <tr style=\"text-align: right;\">\n",
              "      <th></th>\n",
              "      <th>text</th>\n",
              "    </tr>\n",
              "  </thead>\n",
              "  <tbody>\n",
              "    <tr>\n",
              "      <th>0</th>\n",
              "      <td>[CLS] monday left me broken [SEP] tuesday i was through with hoping [SEP]</td>\n",
              "    </tr>\n",
              "    <tr>\n",
              "      <th>1</th>\n",
              "      <td>[CLS] wednesday my empty arms were open [SEP] [PAD] [PAD] [PAD] [PAD] [PAD]</td>\n",
              "    </tr>\n",
              "  </tbody>\n",
              "</table>"
            ],
            "text/plain": [
              "<IPython.core.display.HTML object>"
            ]
          },
          "metadata": {
            "tags": []
          }
        }
      ]
    },
    {
      "cell_type": "code",
      "metadata": {
        "id": "-_4dTJFOP-ao",
        "colab_type": "code",
        "colab": {
          "base_uri": "https://localhost:8080/",
          "height": 112
        },
        "outputId": "c6d9c479-94b5-48f2-a910-8716b7aef1a3"
      },
      "source": [
        "dataloaders_from_cache(db, df, ['lines_train.pth','lines_valid.pth'], \n",
        "                       before_batch=partial(pad_input_chunk, pad_first=False, \n",
        "                                            pad_idx=hf_tokenizer.unk_token_id)).show_batch()"
      ],
      "execution_count": 24,
      "outputs": [
        {
          "output_type": "display_data",
          "data": {
            "text/html": [
              ""
            ],
            "text/plain": [
              "<IPython.core.display.HTML object>"
            ]
          },
          "metadata": {
            "tags": []
          }
        },
        {
          "output_type": "display_data",
          "data": {
            "text/html": [
              "<table border=\"1\" class=\"dataframe\">\n",
              "  <thead>\n",
              "    <tr style=\"text-align: right;\">\n",
              "      <th></th>\n",
              "      <th>text</th>\n",
              "    </tr>\n",
              "  </thead>\n",
              "  <tbody>\n",
              "    <tr>\n",
              "      <th>0</th>\n",
              "      <td>[CLS] monday left me broken [SEP] tuesday i was through with hoping [SEP]</td>\n",
              "    </tr>\n",
              "    <tr>\n",
              "      <th>1</th>\n",
              "      <td>[CLS] wednesday my empty arms were open [SEP] [UNK] [UNK] [UNK] [UNK] [UNK]</td>\n",
              "    </tr>\n",
              "  </tbody>\n",
              "</table>"
            ],
            "text/plain": [
              "<IPython.core.display.HTML object>"
            ]
          },
          "metadata": {
            "tags": []
          }
        }
      ]
    },
    {
      "cell_type": "code",
      "metadata": {
        "id": "iah2CRiLvvb7",
        "colab_type": "code",
        "outputId": "b8fae889-8252-4576-dd85-83ed71101f39",
        "colab": {
          "base_uri": "https://localhost:8080/",
          "height": 112
        }
      },
      "source": [
        "lm_dls.train.cache('lm_train.pth')\n",
        "lm_dls.valid.cache('lm_valid.pth')\n",
        "loaded_lm_dls = dataloaders_from_cache(db, df, ['lm_train.pth','lm_valid.pth'])\n",
        "loaded_lm_dls.show_batch()"
      ],
      "execution_count": 25,
      "outputs": [
        {
          "output_type": "display_data",
          "data": {
            "text/html": [
              ""
            ],
            "text/plain": [
              "<IPython.core.display.HTML object>"
            ]
          },
          "metadata": {
            "tags": []
          }
        },
        {
          "output_type": "display_data",
          "data": {
            "text/html": [
              "<table border=\"1\" class=\"dataframe\">\n",
              "  <thead>\n",
              "    <tr style=\"text-align: right;\">\n",
              "      <th></th>\n",
              "      <th>text</th>\n",
              "      <th>text_</th>\n",
              "    </tr>\n",
              "  </thead>\n",
              "  <tbody>\n",
              "    <tr>\n",
              "      <th>0</th>\n",
              "      <td>[CLS] monday left me broken [SEP] [CLS]</td>\n",
              "      <td>monday left me broken [SEP] [CLS] tuesday</td>\n",
              "    </tr>\n",
              "    <tr>\n",
              "      <th>1</th>\n",
              "      <td>i was through with hoping [SEP] [CLS]</td>\n",
              "      <td>was through with hoping [SEP] [CLS] wednesday</td>\n",
              "    </tr>\n",
              "  </tbody>\n",
              "</table>"
            ],
            "text/plain": [
              "<IPython.core.display.HTML object>"
            ]
          },
          "metadata": {
            "tags": []
          }
        }
      ]
    },
    {
      "cell_type": "markdown",
      "metadata": {
        "id": "UL4ZrRmUQXC7",
        "colab_type": "text"
      },
      "source": [
        "`TextDataloader` will also reject changes that make it inconsistent with loaded internal records.\n",
        "\n",
        "So you can be safe."
      ]
    },
    {
      "cell_type": "code",
      "metadata": {
        "id": "xUuwyhYkQEcr",
        "colab_type": "code",
        "colab": {
          "base_uri": "https://localhost:8080/",
          "height": 357
        },
        "outputId": "41daa4e0-5953-44fb-98b7-236a48cbb421"
      },
      "source": [
        "dataloaders_from_cache(db, df, ['lm_train.pth','lm_valid.pth'],  \n",
        "                       bos_idx_add=hf_tokenizer.unk_token_id).show_batch()"
      ],
      "execution_count": 27,
      "outputs": [
        {
          "output_type": "display_data",
          "data": {
            "text/html": [
              ""
            ],
            "text/plain": [
              "<IPython.core.display.HTML object>"
            ]
          },
          "metadata": {
            "tags": []
          }
        },
        {
          "output_type": "error",
          "ename": "AssertionError",
          "evalue": "ignored",
          "traceback": [
            "\u001b[0;31m---------------------------------------------------------------------------\u001b[0m",
            "\u001b[0;31mAssertionError\u001b[0m                            Traceback (most recent call last)",
            "\u001b[0;32m<ipython-input-27-772a52954fae>\u001b[0m in \u001b[0;36m<module>\u001b[0;34m()\u001b[0m\n\u001b[1;32m      1\u001b[0m dataloaders_from_cache(db, df, ['lm_train.pth','lm_valid.pth'],  \n\u001b[0;32m----> 2\u001b[0;31m                        bos_idx_add=hf_tokenizer.unk_token_id).show_batch()\n\u001b[0m",
            "\u001b[0;32m<ipython-input-18-7ff68ce5f3bb>\u001b[0m in \u001b[0;36mdataloaders_from_cache\u001b[0;34m(db, source, file_paths, path, device, **kwargs)\u001b[0m\n\u001b[1;32m      5\u001b[0m   \u001b[0mdl_s\u001b[0m \u001b[0;34m=\u001b[0m \u001b[0mL\u001b[0m\u001b[0;34m(\u001b[0m\u001b[0;34m)\u001b[0m\u001b[0;34m\u001b[0m\u001b[0;34m\u001b[0m\u001b[0m\n\u001b[1;32m      6\u001b[0m   \u001b[0;32mfor\u001b[0m \u001b[0mi\u001b[0m\u001b[0;34m,\u001b[0m \u001b[0mf\u001b[0m \u001b[0;32min\u001b[0m \u001b[0menumerate\u001b[0m\u001b[0;34m(\u001b[0m\u001b[0mfile_paths\u001b[0m\u001b[0;34m)\u001b[0m\u001b[0;34m:\u001b[0m\u001b[0;34m\u001b[0m\u001b[0;34m\u001b[0m\u001b[0m\n\u001b[0;32m----> 7\u001b[0;31m     \u001b[0mdl_s\u001b[0m\u001b[0;34m.\u001b[0m\u001b[0mappend\u001b[0m\u001b[0;34m(\u001b[0m \u001b[0mTextDataloader\u001b[0m\u001b[0;34m.\u001b[0m\u001b[0mfrom_cache\u001b[0m\u001b[0;34m(\u001b[0m\u001b[0mf\u001b[0m\u001b[0;34m,\u001b[0m \u001b[0mdatasets\u001b[0m\u001b[0;34m.\u001b[0m\u001b[0msubset\u001b[0m\u001b[0;34m(\u001b[0m\u001b[0mi\u001b[0m\u001b[0;34m)\u001b[0m\u001b[0;34m,\u001b[0m \u001b[0;34m**\u001b[0m\u001b[0mkwargs\u001b[0m\u001b[0;34m)\u001b[0m \u001b[0;34m)\u001b[0m\u001b[0;34m\u001b[0m\u001b[0;34m\u001b[0m\u001b[0m\n\u001b[0m\u001b[1;32m      8\u001b[0m   \u001b[0;32mreturn\u001b[0m \u001b[0mDataLoaders\u001b[0m\u001b[0;34m(\u001b[0m\u001b[0;34m*\u001b[0m\u001b[0mdl_s\u001b[0m\u001b[0;34m,\u001b[0m \u001b[0mpath\u001b[0m\u001b[0;34m=\u001b[0m\u001b[0mpath\u001b[0m\u001b[0;34m,\u001b[0m \u001b[0mdevice\u001b[0m\u001b[0;34m=\u001b[0m\u001b[0mdevice\u001b[0m\u001b[0;34m)\u001b[0m\u001b[0;34m\u001b[0m\u001b[0;34m\u001b[0m\u001b[0m\n",
            "\u001b[0;32m<ipython-input-4-4a1ca01b3a62>\u001b[0m in \u001b[0;36mfrom_cache\u001b[0;34m(cls, file_path, dataset, **kwargs)\u001b[0m\n\u001b[1;32m    126\u001b[0m         \u001b[0;32massert\u001b[0m \u001b[0marg\u001b[0m \u001b[0;32mnot\u001b[0m \u001b[0;32min\u001b[0m \u001b[0mkwargs\u001b[0m\u001b[0;34m,\u001b[0m \u001b[0;34mf\"Specifying {arg} will make it inconsistent with cached internal record.\"\u001b[0m\u001b[0;34m\u001b[0m\u001b[0;34m\u001b[0m\u001b[0m\n\u001b[1;32m    127\u001b[0m       \u001b[0;32mfor\u001b[0m \u001b[0marg\u001b[0m \u001b[0;32min\u001b[0m \u001b[0;34m[\u001b[0m\u001b[0;34m'bos_idx_add'\u001b[0m\u001b[0;34m,\u001b[0m\u001b[0;34m'eos_idx_add'\u001b[0m\u001b[0;34m]\u001b[0m\u001b[0;34m:\u001b[0m\u001b[0;34m\u001b[0m\u001b[0;34m\u001b[0m\u001b[0m\n\u001b[0;32m--> 128\u001b[0;31m         \u001b[0;32mif\u001b[0m \u001b[0marg\u001b[0m \u001b[0;32min\u001b[0m \u001b[0mkwargs\u001b[0m\u001b[0;34m:\u001b[0m \u001b[0;32massert\u001b[0m \u001b[0;34m(\u001b[0m\u001b[0mkwargs\u001b[0m\u001b[0;34m[\u001b[0m\u001b[0marg\u001b[0m\u001b[0;34m]\u001b[0m \u001b[0;32mis\u001b[0m \u001b[0;32mNone\u001b[0m\u001b[0;34m)\u001b[0m \u001b[0;34m==\u001b[0m \u001b[0;34m(\u001b[0m\u001b[0mgetattr\u001b[0m\u001b[0;34m(\u001b[0m\u001b[0mdl\u001b[0m\u001b[0;34m,\u001b[0m \u001b[0marg\u001b[0m\u001b[0;34m)\u001b[0m \u001b[0;32mis\u001b[0m \u001b[0;32mNone\u001b[0m\u001b[0;34m)\u001b[0m\u001b[0;34m,\u001b[0m \u001b[0;34mf\"You can't change whether to add head/eos from cached setting.\"\u001b[0m\u001b[0;34m\u001b[0m\u001b[0;34m\u001b[0m\u001b[0m\n\u001b[0m\u001b[1;32m    129\u001b[0m       \u001b[0;32mreturn\u001b[0m \u001b[0mdl\u001b[0m\u001b[0;34m.\u001b[0m\u001b[0mnew\u001b[0m\u001b[0;34m(\u001b[0m\u001b[0mdataset\u001b[0m\u001b[0;34m,\u001b[0m \u001b[0msamples\u001b[0m\u001b[0;34m=\u001b[0m\u001b[0mdl\u001b[0m\u001b[0;34m.\u001b[0m\u001b[0msamples\u001b[0m\u001b[0;34m,\u001b[0m \u001b[0;34m**\u001b[0m\u001b[0mkwargs\u001b[0m\u001b[0;34m)\u001b[0m\u001b[0;34m\u001b[0m\u001b[0;34m\u001b[0m\u001b[0m\n\u001b[1;32m    130\u001b[0m     \u001b[0;32melse\u001b[0m\u001b[0;34m:\u001b[0m\u001b[0;34m\u001b[0m\u001b[0;34m\u001b[0m\u001b[0m\n",
            "\u001b[0;31mAssertionError\u001b[0m: You can't change whether to add head/eos from cached setting."
          ]
        }
      ]
    },
    {
      "cell_type": "code",
      "metadata": {
        "id": "7urGBACF0q2K",
        "colab_type": "code",
        "colab": {}
      },
      "source": [
        ""
      ],
      "execution_count": 0,
      "outputs": []
    }
  ]
}